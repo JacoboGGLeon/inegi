{
 "cells": [
  {
   "cell_type": "code",
   "execution_count": 1,
   "metadata": {},
   "outputs": [],
   "source": [
    "import pandas as pd\n",
    "import numpy as np"
   ]
  },
  {
   "cell_type": "code",
   "execution_count": 2,
   "metadata": {},
   "outputs": [
    {
     "data": {
      "text/html": [
       "<div>\n",
       "<style scoped>\n",
       "    .dataframe tbody tr th:only-of-type {\n",
       "        vertical-align: middle;\n",
       "    }\n",
       "\n",
       "    .dataframe tbody tr th {\n",
       "        vertical-align: top;\n",
       "    }\n",
       "\n",
       "    .dataframe thead th {\n",
       "        text-align: right;\n",
       "    }\n",
       "</style>\n",
       "<table border=\"1\" class=\"dataframe\">\n",
       "  <thead>\n",
       "    <tr style=\"text-align: right;\">\n",
       "      <th></th>\n",
       "      <th>Unnamed: 0</th>\n",
       "      <th>adqui_pc</th>\n",
       "      <th>cel_hogar</th>\n",
       "      <th>celular</th>\n",
       "      <th>chofer</th>\n",
       "      <th>cocinero</th>\n",
       "      <th>compu_uso</th>\n",
       "      <th>compu_uso2</th>\n",
       "      <th>conex_int1</th>\n",
       "      <th>conex_int2</th>\n",
       "      <th>...</th>\n",
       "      <th>tiempo_pc</th>\n",
       "      <th>tot_hom</th>\n",
       "      <th>tot_integ</th>\n",
       "      <th>tot_muj</th>\n",
       "      <th>trabaja_do</th>\n",
       "      <th>tv_analogi</th>\n",
       "      <th>tv_digital</th>\n",
       "      <th>tv_paga</th>\n",
       "      <th>videojuego</th>\n",
       "      <th>year</th>\n",
       "    </tr>\n",
       "  </thead>\n",
       "  <tbody>\n",
       "    <tr>\n",
       "      <th>0</th>\n",
       "      <td>0</td>\n",
       "      <td>-1</td>\n",
       "      <td>-1</td>\n",
       "      <td>2</td>\n",
       "      <td>-1</td>\n",
       "      <td>-1</td>\n",
       "      <td>1</td>\n",
       "      <td>-1</td>\n",
       "      <td>2</td>\n",
       "      <td>1</td>\n",
       "      <td>...</td>\n",
       "      <td>2</td>\n",
       "      <td>3</td>\n",
       "      <td>4</td>\n",
       "      <td>1</td>\n",
       "      <td>-1</td>\n",
       "      <td>1</td>\n",
       "      <td>1</td>\n",
       "      <td>2</td>\n",
       "      <td>2</td>\n",
       "      <td>2014</td>\n",
       "    </tr>\n",
       "    <tr>\n",
       "      <th>1</th>\n",
       "      <td>1</td>\n",
       "      <td>-1</td>\n",
       "      <td>-1</td>\n",
       "      <td>2</td>\n",
       "      <td>-1</td>\n",
       "      <td>-1</td>\n",
       "      <td>1</td>\n",
       "      <td>-1</td>\n",
       "      <td>2</td>\n",
       "      <td>1</td>\n",
       "      <td>...</td>\n",
       "      <td>2</td>\n",
       "      <td>3</td>\n",
       "      <td>4</td>\n",
       "      <td>1</td>\n",
       "      <td>-1</td>\n",
       "      <td>2</td>\n",
       "      <td>1</td>\n",
       "      <td>1</td>\n",
       "      <td>1</td>\n",
       "      <td>2014</td>\n",
       "    </tr>\n",
       "    <tr>\n",
       "      <th>2</th>\n",
       "      <td>2</td>\n",
       "      <td>-1</td>\n",
       "      <td>-1</td>\n",
       "      <td>1</td>\n",
       "      <td>-1</td>\n",
       "      <td>-1</td>\n",
       "      <td>1</td>\n",
       "      <td>-1</td>\n",
       "      <td>2</td>\n",
       "      <td>1</td>\n",
       "      <td>...</td>\n",
       "      <td>2</td>\n",
       "      <td>1</td>\n",
       "      <td>2</td>\n",
       "      <td>1</td>\n",
       "      <td>-1</td>\n",
       "      <td>1</td>\n",
       "      <td>2</td>\n",
       "      <td>1</td>\n",
       "      <td>2</td>\n",
       "      <td>2014</td>\n",
       "    </tr>\n",
       "    <tr>\n",
       "      <th>3</th>\n",
       "      <td>3</td>\n",
       "      <td>-1</td>\n",
       "      <td>-1</td>\n",
       "      <td>1</td>\n",
       "      <td>-1</td>\n",
       "      <td>-1</td>\n",
       "      <td>1</td>\n",
       "      <td>-1</td>\n",
       "      <td>2</td>\n",
       "      <td>1</td>\n",
       "      <td>...</td>\n",
       "      <td>3</td>\n",
       "      <td>2</td>\n",
       "      <td>6</td>\n",
       "      <td>4</td>\n",
       "      <td>-1</td>\n",
       "      <td>1</td>\n",
       "      <td>2</td>\n",
       "      <td>1</td>\n",
       "      <td>2</td>\n",
       "      <td>2014</td>\n",
       "    </tr>\n",
       "    <tr>\n",
       "      <th>4</th>\n",
       "      <td>4</td>\n",
       "      <td>-1</td>\n",
       "      <td>-1</td>\n",
       "      <td>2</td>\n",
       "      <td>-1</td>\n",
       "      <td>-1</td>\n",
       "      <td>2</td>\n",
       "      <td>2</td>\n",
       "      <td>-1</td>\n",
       "      <td>-1</td>\n",
       "      <td>...</td>\n",
       "      <td>-1</td>\n",
       "      <td>2</td>\n",
       "      <td>4</td>\n",
       "      <td>2</td>\n",
       "      <td>-1</td>\n",
       "      <td>1</td>\n",
       "      <td>2</td>\n",
       "      <td>2</td>\n",
       "      <td>2</td>\n",
       "      <td>2014</td>\n",
       "    </tr>\n",
       "  </tbody>\n",
       "</table>\n",
       "<p>5 rows × 59 columns</p>\n",
       "</div>"
      ],
      "text/plain": [
       "   Unnamed: 0  adqui_pc  cel_hogar  celular  chofer  cocinero  compu_uso  \\\n",
       "0           0        -1         -1        2      -1        -1          1   \n",
       "1           1        -1         -1        2      -1        -1          1   \n",
       "2           2        -1         -1        1      -1        -1          1   \n",
       "3           3        -1         -1        1      -1        -1          1   \n",
       "4           4        -1         -1        2      -1        -1          2   \n",
       "\n",
       "   compu_uso2  conex_int1  conex_int2  ...   tiempo_pc  tot_hom  tot_integ  \\\n",
       "0          -1           2           1  ...           2        3          4   \n",
       "1          -1           2           1  ...           2        3          4   \n",
       "2          -1           2           1  ...           2        1          2   \n",
       "3          -1           2           1  ...           3        2          6   \n",
       "4           2          -1          -1  ...          -1        2          4   \n",
       "\n",
       "   tot_muj  trabaja_do  tv_analogi  tv_digital  tv_paga  videojuego  year  \n",
       "0        1          -1           1           1        2           2  2014  \n",
       "1        1          -1           2           1        1           1  2014  \n",
       "2        1          -1           1           2        1           2  2014  \n",
       "3        4          -1           1           2        1           2  2014  \n",
       "4        2          -1           1           2        2           2  2014  \n",
       "\n",
       "[5 rows x 59 columns]"
      ]
     },
     "execution_count": 2,
     "metadata": {},
     "output_type": "execute_result"
    }
   ],
   "source": [
    "file = '../dataframes/hogares.csv'\n",
    "df_h = pd.read_csv(file, encoding='latin')\n",
    "df_h.head()"
   ]
  },
  {
   "cell_type": "code",
   "execution_count": 3,
   "metadata": {},
   "outputs": [
    {
     "data": {
      "text/html": [
       "<div>\n",
       "<style scoped>\n",
       "    .dataframe tbody tr th:only-of-type {\n",
       "        vertical-align: middle;\n",
       "    }\n",
       "\n",
       "    .dataframe tbody tr th {\n",
       "        vertical-align: top;\n",
       "    }\n",
       "\n",
       "    .dataframe thead th {\n",
       "        text-align: right;\n",
       "    }\n",
       "</style>\n",
       "<table border=\"1\" class=\"dataframe\">\n",
       "  <thead>\n",
       "    <tr style=\"text-align: right;\">\n",
       "      <th></th>\n",
       "      <th>Unnamed: 0</th>\n",
       "      <th>ageb</th>\n",
       "      <th>aire_acond</th>\n",
       "      <th>ais_otro</th>\n",
       "      <th>ais_pared</th>\n",
       "      <th>ais_techos</th>\n",
       "      <th>ais_ventan</th>\n",
       "      <th>anio_panel</th>\n",
       "      <th>anio_res</th>\n",
       "      <th>antiguedad</th>\n",
       "      <th>...</th>\n",
       "      <th>tot_hog</th>\n",
       "      <th>tot_resid</th>\n",
       "      <th>tv_paga</th>\n",
       "      <th>ubica_geo</th>\n",
       "      <th>upm</th>\n",
       "      <th>uso_compar</th>\n",
       "      <th>valor_viv</th>\n",
       "      <th>vend_hered</th>\n",
       "      <th>viv_usada</th>\n",
       "      <th>year</th>\n",
       "    </tr>\n",
       "  </thead>\n",
       "  <tbody>\n",
       "    <tr>\n",
       "      <th>0</th>\n",
       "      <td>0</td>\n",
       "      <td>029-0</td>\n",
       "      <td>2</td>\n",
       "      <td>-1</td>\n",
       "      <td>-1</td>\n",
       "      <td>-1</td>\n",
       "      <td>-1</td>\n",
       "      <td>-1</td>\n",
       "      <td>-1</td>\n",
       "      <td>30</td>\n",
       "      <td>...</td>\n",
       "      <td>1</td>\n",
       "      <td>4</td>\n",
       "      <td>-1</td>\n",
       "      <td>10010001</td>\n",
       "      <td>710</td>\n",
       "      <td>2</td>\n",
       "      <td>-1</td>\n",
       "      <td>-1</td>\n",
       "      <td>-1</td>\n",
       "      <td>2014</td>\n",
       "    </tr>\n",
       "    <tr>\n",
       "      <th>1</th>\n",
       "      <td>1</td>\n",
       "      <td>029-0</td>\n",
       "      <td>2</td>\n",
       "      <td>-1</td>\n",
       "      <td>-1</td>\n",
       "      <td>-1</td>\n",
       "      <td>-1</td>\n",
       "      <td>-1</td>\n",
       "      <td>-1</td>\n",
       "      <td>26</td>\n",
       "      <td>...</td>\n",
       "      <td>1</td>\n",
       "      <td>4</td>\n",
       "      <td>-1</td>\n",
       "      <td>10010001</td>\n",
       "      <td>710</td>\n",
       "      <td>2</td>\n",
       "      <td>-1</td>\n",
       "      <td>-1</td>\n",
       "      <td>-1</td>\n",
       "      <td>2014</td>\n",
       "    </tr>\n",
       "    <tr>\n",
       "      <th>2</th>\n",
       "      <td>2</td>\n",
       "      <td>029-0</td>\n",
       "      <td>2</td>\n",
       "      <td>-1</td>\n",
       "      <td>-1</td>\n",
       "      <td>-1</td>\n",
       "      <td>-1</td>\n",
       "      <td>-1</td>\n",
       "      <td>-1</td>\n",
       "      <td>23</td>\n",
       "      <td>...</td>\n",
       "      <td>1</td>\n",
       "      <td>2</td>\n",
       "      <td>-1</td>\n",
       "      <td>10010001</td>\n",
       "      <td>710</td>\n",
       "      <td>2</td>\n",
       "      <td>-1</td>\n",
       "      <td>-1</td>\n",
       "      <td>2</td>\n",
       "      <td>2014</td>\n",
       "    </tr>\n",
       "    <tr>\n",
       "      <th>3</th>\n",
       "      <td>3</td>\n",
       "      <td>029-0</td>\n",
       "      <td>2</td>\n",
       "      <td>-1</td>\n",
       "      <td>-1</td>\n",
       "      <td>-1</td>\n",
       "      <td>-1</td>\n",
       "      <td>-1</td>\n",
       "      <td>-1</td>\n",
       "      <td>10</td>\n",
       "      <td>...</td>\n",
       "      <td>1</td>\n",
       "      <td>6</td>\n",
       "      <td>-1</td>\n",
       "      <td>10010001</td>\n",
       "      <td>710</td>\n",
       "      <td>2</td>\n",
       "      <td>-1</td>\n",
       "      <td>-1</td>\n",
       "      <td>-1</td>\n",
       "      <td>2014</td>\n",
       "    </tr>\n",
       "    <tr>\n",
       "      <th>4</th>\n",
       "      <td>4</td>\n",
       "      <td>030-3</td>\n",
       "      <td>2</td>\n",
       "      <td>-1</td>\n",
       "      <td>-1</td>\n",
       "      <td>-1</td>\n",
       "      <td>-1</td>\n",
       "      <td>-1</td>\n",
       "      <td>-1</td>\n",
       "      <td>-1</td>\n",
       "      <td>...</td>\n",
       "      <td>1</td>\n",
       "      <td>4</td>\n",
       "      <td>-1</td>\n",
       "      <td>10010001</td>\n",
       "      <td>1450</td>\n",
       "      <td>2</td>\n",
       "      <td>-1</td>\n",
       "      <td>-1</td>\n",
       "      <td>1</td>\n",
       "      <td>2014</td>\n",
       "    </tr>\n",
       "  </tbody>\n",
       "</table>\n",
       "<p>5 rows × 135 columns</p>\n",
       "</div>"
      ],
      "text/plain": [
       "   Unnamed: 0   ageb  aire_acond  ais_otro  ais_pared  ais_techos  ais_ventan  \\\n",
       "0           0  029-0           2        -1         -1          -1          -1   \n",
       "1           1  029-0           2        -1         -1          -1          -1   \n",
       "2           2  029-0           2        -1         -1          -1          -1   \n",
       "3           3  029-0           2        -1         -1          -1          -1   \n",
       "4           4  030-3           2        -1         -1          -1          -1   \n",
       "\n",
       "   anio_panel  anio_res  antiguedad  ...   tot_hog  tot_resid  tv_paga  \\\n",
       "0          -1        -1          30  ...         1          4       -1   \n",
       "1          -1        -1          26  ...         1          4       -1   \n",
       "2          -1        -1          23  ...         1          2       -1   \n",
       "3          -1        -1          10  ...         1          6       -1   \n",
       "4          -1        -1          -1  ...         1          4       -1   \n",
       "\n",
       "   ubica_geo   upm  uso_compar  valor_viv  vend_hered  viv_usada  year  \n",
       "0   10010001   710           2         -1          -1         -1  2014  \n",
       "1   10010001   710           2         -1          -1         -1  2014  \n",
       "2   10010001   710           2         -1          -1          2  2014  \n",
       "3   10010001   710           2         -1          -1         -1  2014  \n",
       "4   10010001  1450           2         -1          -1          1  2014  \n",
       "\n",
       "[5 rows x 135 columns]"
      ]
     },
     "execution_count": 3,
     "metadata": {},
     "output_type": "execute_result"
    }
   ],
   "source": [
    "file = '../dataframes/viviendas.csv'\n",
    "df_v = pd.read_csv(file, encoding='latin')\n",
    "df_v.head()"
   ]
  },
  {
   "cell_type": "code",
   "execution_count": 4,
   "metadata": {},
   "outputs": [],
   "source": [
    "df_h_copy = df_h.copy()"
   ]
  },
  {
   "cell_type": "code",
   "execution_count": 5,
   "metadata": {},
   "outputs": [],
   "source": [
    "df_v_copy = df_v.copy()"
   ]
  },
  {
   "cell_type": "markdown",
   "metadata": {},
   "source": [
    "## Merge"
   ]
  },
  {
   "cell_type": "code",
   "execution_count": 222,
   "metadata": {},
   "outputs": [
    {
     "data": {
      "text/html": [
       "<div>\n",
       "<style scoped>\n",
       "    .dataframe tbody tr th:only-of-type {\n",
       "        vertical-align: middle;\n",
       "    }\n",
       "\n",
       "    .dataframe tbody tr th {\n",
       "        vertical-align: top;\n",
       "    }\n",
       "\n",
       "    .dataframe thead th {\n",
       "        text-align: right;\n",
       "    }\n",
       "</style>\n",
       "<table border=\"1\" class=\"dataframe\">\n",
       "  <thead>\n",
       "    <tr style=\"text-align: right;\">\n",
       "      <th></th>\n",
       "      <th>Unnamed: 0_x</th>\n",
       "      <th>ageb</th>\n",
       "      <th>aire_acond</th>\n",
       "      <th>ais_otro</th>\n",
       "      <th>ais_pared</th>\n",
       "      <th>ais_techos</th>\n",
       "      <th>ais_ventan</th>\n",
       "      <th>anio_panel</th>\n",
       "      <th>anio_res</th>\n",
       "      <th>antiguedad</th>\n",
       "      <th>...</th>\n",
       "      <th>tiempo_pc</th>\n",
       "      <th>tot_hom</th>\n",
       "      <th>tot_integ</th>\n",
       "      <th>tot_muj</th>\n",
       "      <th>trabaja_do</th>\n",
       "      <th>tv_analogi</th>\n",
       "      <th>tv_digital</th>\n",
       "      <th>tv_paga_y</th>\n",
       "      <th>videojuego</th>\n",
       "      <th>year_y</th>\n",
       "    </tr>\n",
       "  </thead>\n",
       "  <tbody>\n",
       "    <tr>\n",
       "      <th>0</th>\n",
       "      <td>0</td>\n",
       "      <td>029-0</td>\n",
       "      <td>2</td>\n",
       "      <td>-1</td>\n",
       "      <td>-1</td>\n",
       "      <td>-1</td>\n",
       "      <td>-1</td>\n",
       "      <td>-1</td>\n",
       "      <td>-1</td>\n",
       "      <td>30</td>\n",
       "      <td>...</td>\n",
       "      <td>2</td>\n",
       "      <td>3</td>\n",
       "      <td>4</td>\n",
       "      <td>1</td>\n",
       "      <td>-1</td>\n",
       "      <td>1</td>\n",
       "      <td>1</td>\n",
       "      <td>2</td>\n",
       "      <td>2</td>\n",
       "      <td>2014</td>\n",
       "    </tr>\n",
       "    <tr>\n",
       "      <th>1</th>\n",
       "      <td>0</td>\n",
       "      <td>029-0</td>\n",
       "      <td>2</td>\n",
       "      <td>-1</td>\n",
       "      <td>-1</td>\n",
       "      <td>-1</td>\n",
       "      <td>-1</td>\n",
       "      <td>-1</td>\n",
       "      <td>-1</td>\n",
       "      <td>30</td>\n",
       "      <td>...</td>\n",
       "      <td>-1</td>\n",
       "      <td>2</td>\n",
       "      <td>6</td>\n",
       "      <td>4</td>\n",
       "      <td>-1</td>\n",
       "      <td>1</td>\n",
       "      <td>2</td>\n",
       "      <td>2</td>\n",
       "      <td>-1</td>\n",
       "      <td>2015</td>\n",
       "    </tr>\n",
       "    <tr>\n",
       "      <th>2</th>\n",
       "      <td>19</td>\n",
       "      <td>029-0</td>\n",
       "      <td>2</td>\n",
       "      <td>-1</td>\n",
       "      <td>-1</td>\n",
       "      <td>-1</td>\n",
       "      <td>-1</td>\n",
       "      <td>-1</td>\n",
       "      <td>-1</td>\n",
       "      <td>42</td>\n",
       "      <td>...</td>\n",
       "      <td>2</td>\n",
       "      <td>3</td>\n",
       "      <td>4</td>\n",
       "      <td>1</td>\n",
       "      <td>-1</td>\n",
       "      <td>1</td>\n",
       "      <td>1</td>\n",
       "      <td>2</td>\n",
       "      <td>2</td>\n",
       "      <td>2014</td>\n",
       "    </tr>\n",
       "    <tr>\n",
       "      <th>3</th>\n",
       "      <td>19</td>\n",
       "      <td>029-0</td>\n",
       "      <td>2</td>\n",
       "      <td>-1</td>\n",
       "      <td>-1</td>\n",
       "      <td>-1</td>\n",
       "      <td>-1</td>\n",
       "      <td>-1</td>\n",
       "      <td>-1</td>\n",
       "      <td>42</td>\n",
       "      <td>...</td>\n",
       "      <td>-1</td>\n",
       "      <td>2</td>\n",
       "      <td>6</td>\n",
       "      <td>4</td>\n",
       "      <td>-1</td>\n",
       "      <td>1</td>\n",
       "      <td>2</td>\n",
       "      <td>2</td>\n",
       "      <td>-1</td>\n",
       "      <td>2015</td>\n",
       "    </tr>\n",
       "    <tr>\n",
       "      <th>4</th>\n",
       "      <td>1</td>\n",
       "      <td>029-0</td>\n",
       "      <td>2</td>\n",
       "      <td>-1</td>\n",
       "      <td>-1</td>\n",
       "      <td>-1</td>\n",
       "      <td>-1</td>\n",
       "      <td>-1</td>\n",
       "      <td>-1</td>\n",
       "      <td>26</td>\n",
       "      <td>...</td>\n",
       "      <td>2</td>\n",
       "      <td>3</td>\n",
       "      <td>4</td>\n",
       "      <td>1</td>\n",
       "      <td>-1</td>\n",
       "      <td>2</td>\n",
       "      <td>1</td>\n",
       "      <td>1</td>\n",
       "      <td>1</td>\n",
       "      <td>2014</td>\n",
       "    </tr>\n",
       "  </tbody>\n",
       "</table>\n",
       "<p>5 rows × 193 columns</p>\n",
       "</div>"
      ],
      "text/plain": [
       "   Unnamed: 0_x   ageb  aire_acond  ais_otro  ais_pared  ais_techos  \\\n",
       "0             0  029-0           2        -1         -1          -1   \n",
       "1             0  029-0           2        -1         -1          -1   \n",
       "2            19  029-0           2        -1         -1          -1   \n",
       "3            19  029-0           2        -1         -1          -1   \n",
       "4             1  029-0           2        -1         -1          -1   \n",
       "\n",
       "   ais_ventan  anio_panel  anio_res  antiguedad   ...    tiempo_pc  tot_hom  \\\n",
       "0          -1          -1        -1          30   ...            2        3   \n",
       "1          -1          -1        -1          30   ...           -1        2   \n",
       "2          -1          -1        -1          42   ...            2        3   \n",
       "3          -1          -1        -1          42   ...           -1        2   \n",
       "4          -1          -1        -1          26   ...            2        3   \n",
       "\n",
       "   tot_integ  tot_muj  trabaja_do  tv_analogi  tv_digital  tv_paga_y  \\\n",
       "0          4        1          -1           1           1          2   \n",
       "1          6        4          -1           1           2          2   \n",
       "2          4        1          -1           1           1          2   \n",
       "3          6        4          -1           1           2          2   \n",
       "4          4        1          -1           2           1          1   \n",
       "\n",
       "   videojuego  year_y  \n",
       "0           2    2014  \n",
       "1          -1    2015  \n",
       "2           2    2014  \n",
       "3          -1    2015  \n",
       "4           1    2014  \n",
       "\n",
       "[5 rows x 193 columns]"
      ]
     },
     "execution_count": 222,
     "metadata": {},
     "output_type": "execute_result"
    }
   ],
   "source": [
    "df_inner = pd.merge(left=df_v_copy, right=df_h_copy, how='inner', on='folioviv')\n",
    "df_inner.head()"
   ]
  },
  {
   "cell_type": "code",
   "execution_count": 223,
   "metadata": {},
   "outputs": [
    {
     "data": {
      "text/plain": [
       "(254928, 193)"
      ]
     },
     "execution_count": 223,
     "metadata": {},
     "output_type": "execute_result"
    }
   ],
   "source": [
    "df_inner.shape"
   ]
  },
  {
   "cell_type": "code",
   "execution_count": 224,
   "metadata": {},
   "outputs": [
    {
     "data": {
      "text/plain": [
       "(220871, 59)"
      ]
     },
     "execution_count": 224,
     "metadata": {},
     "output_type": "execute_result"
    }
   ],
   "source": [
    "df_h.shape"
   ]
  },
  {
   "cell_type": "code",
   "execution_count": 225,
   "metadata": {},
   "outputs": [
    {
     "data": {
      "text/plain": [
       "(217147, 135)"
      ]
     },
     "execution_count": 225,
     "metadata": {},
     "output_type": "execute_result"
    }
   ],
   "source": [
    "df_v.shape"
   ]
  },
  {
   "cell_type": "code",
   "execution_count": 226,
   "metadata": {},
   "outputs": [
    {
     "data": {
      "text/plain": [
       "[]"
      ]
     },
     "execution_count": 226,
     "metadata": {},
     "output_type": "execute_result"
    }
   ],
   "source": [
    "df_inner.columns[df_inner.isnull().any()].tolist()"
   ]
  },
  {
   "cell_type": "code",
   "execution_count": 227,
   "metadata": {},
   "outputs": [
    {
     "name": "stdout",
     "output_type": "stream",
     "text": [
      "Unnamed: 0_x  :  [    0    19     1 ..., 58592 58593 58594] \n",
      "\n",
      "ageb  :  ['029-0' '030-3' '034-1' ..., '252-0' '144-7' '256-9'] \n",
      "\n",
      "aire_acond  :  [2 1] \n",
      "\n",
      "ais_otro  :  [-1  2  9  1] \n",
      "\n",
      "ais_pared  :  [-1  2  9  1] \n",
      "\n",
      "ais_techos  :  [-1  2  9  1] \n",
      "\n",
      "ais_ventan  :  [-1  2  9  1] \n",
      "\n",
      "anio_panel  :  [  -1 2015 2014 2010 2006 2007 2002 2001 2012 2005 2008 2016 2013 2009 2011\n",
      " 2004 2017] \n",
      "\n",
      "anio_res  :  [-1  1  6  0 10  2  8 11  3 12 32  7 30  5 19  4 23  9 14 13 15 22 21 60 18\n",
      " 28 16 17 20 25 40 50 35 29 44 47 27 39 26 36 45 61 42 37] \n",
      "\n",
      "antiguedad  :  [30 42 26 20 23 16 10 -1 40 33 35 36 50 34 43 45 78  3 60 28 70 39 32 25 15\n",
      " 56 80 99 69 47 46 41 14 24 12 44 19 55 27  9  7 22 29  4 31 13  8  2  5  6\n",
      " 37 38  1 18 11 21 17 48 90 65 52  0 64 54 53 84 95 72 74 49 51 75 63 58 73\n",
      " 62 68 67 89 86 57 59 66 83 92 81 77 98 71 85 79 94 76 87 97 88 82 61 91 93\n",
      " 96] \n",
      "\n",
      "auto_pick  :  [-1  1  2] \n",
      "\n",
      "bano_comp  :  [ 2  3  4  1  0  5 -1  6  8  7  9] \n",
      "\n",
      "bano_excus  :  [ 0  1  2  3 -1  9  8  4  6  5] \n",
      "\n",
      "bano_regad  :  [ 0  1 -1  3  2  9  8  4  6  5] \n",
      "\n",
      "bomba_agua  :  [1 2] \n",
      "\n",
      "calefacc  :  [2 1] \n",
      "\n",
      "calent_gas  :  [-1  1  2] \n",
      "\n",
      "calent_sol  :  [-1  1  2] \n",
      "\n",
      "calentador  :  [ 1  2 -1] \n",
      "\n",
      "celular_x  :  [-1  1  2] \n",
      "\n",
      "chimenea  :  [2 1] \n",
      "\n",
      "cisterna  :  [1 2] \n",
      "\n",
      "cocina  :  [1 2] \n",
      "\n",
      "cocina_dor  :  [ 2  1 -1] \n",
      "\n",
      "combustible  :  [ 3  4  1  6  5  2 -1] \n",
      "\n",
      "computador  :  [-1  2  1] \n",
      "\n",
      "comun1  :  [-1  1  2] \n",
      "\n",
      "comun10  :  [-1  2  1] \n",
      "\n",
      "comun11  :  [-1  2  1] \n",
      "\n",
      "comun12  :  [-1  2  1] \n",
      "\n",
      "comun13  :  [-1  2  1] \n",
      "\n",
      "comun14  :  [-1  2  1] \n",
      "\n",
      "comun15  :  [-1  2  1] \n",
      "\n",
      "comun16  :  [-1  2  1] \n",
      "\n",
      "comun17  :  [-1  1  2] \n",
      "\n",
      "comun2  :  [-1  1  2] \n",
      "\n",
      "comun3  :  [-1  1  2] \n",
      "\n",
      "comun4  :  [-1  2  1] \n",
      "\n",
      "comun5  :  [-1  2  1] \n",
      "\n",
      "comun6  :  [-1  2  1] \n",
      "\n",
      "comun7  :  [-1  2  1] \n",
      "\n",
      "comun8  :  [-1  2  1] \n",
      "\n",
      "comun9  :  [-1  1  2] \n",
      "\n",
      "condominio  :  [-1  4  3  5  2  6  7  8 13 11 12  9 14 10 16 15 22 24 23] \n",
      "\n",
      "const_bano  :  [2 1] \n",
      "\n",
      "const_coci  :  [2 1] \n",
      "\n",
      "const_dorm  :  [2 1] \n",
      "\n",
      "const_neg  :  [-1  2  1] \n",
      "\n",
      "cuart_dorm  :  [ 3  4  2  1  5  6  7  8 10  9 11 15] \n",
      "\n",
      "disp_agua  :  [1 2 4 5 3 6] \n",
      "\n",
      "disp_elect  :  [1 5 2 4 3] \n",
      "\n",
      "dispos_ne  :  [-1  9] \n",
      "\n",
      "dispos_nh1  :  [-1  1] \n",
      "\n",
      "dispos_nh2  :  [-1  1  2] \n",
      "\n",
      "dispos_no1  :  [-1  1  2  3  4] \n",
      "\n",
      "dispos_no2  :  [-1  1  2  4  3] \n",
      "\n",
      "dotac_agua  :  [ 1  2 -1  3  4  5] \n",
      "\n",
      "drenaje  :  [1 2 5 4 3] \n",
      "\n",
      "elevador  :  [-1  2  1] \n",
      "\n",
      "eli_basura  :  [3 1 4 5 2 6 7 8] \n",
      "\n",
      "escrituras  :  [ 1 -1  3  2  4  9  5] \n",
      "\n",
      "est_dis  :  [  9   5   2   8   4   3   6  10   7   1  13  14  12  11  23  22  21  17\n",
      "  16  18  15  19  20  29  28  30  27  25  24  26  37  36  38  32  31  34\n",
      "  44  43  42  39  41  40  52  50  51  46  45  48  47  58  57  59  54  53\n",
      "  56  55  62  61  63  60  69  68  70  67  64  66  65  77  76  78  75  71\n",
      "  72  74  73  83  84  82  80  79  81  91  90  92  86  87  88  99 100  98\n",
      "  93  94  96  95 106 107 108 101 102 103 104 115 114 116 110 111 109 112\n",
      " 113  33 122 123 124 118 117 120 119 130  35 129 131 125 126 128 127 136\n",
      " 138 137 132 134 145 144 140 139 146 142 141 153 154 152 148 147 149 150\n",
      " 160 159 161 156 155 157 158 166 167 168 165 162 163 176 175 177 170 171\n",
      " 169 173 172 183  49 184 182 178 179 181 180 192 189 191 190 185 186 188\n",
      " 187 198 199 200 194 195 193 196 197 206 207 205 208 201 202 204 214 213\n",
      " 215 210 212 222 223 224 221 217 216 219 220 231 230 232 229 225 226 227\n",
      " 228 238 237 239 234 233 236 235  85  89  97 105 121 135 133 143 151 164\n",
      " 174 203 209 211 218 245 246 247 244 240 248 241 249 242 243 256 257 258\n",
      " 250 251 253 252 254 255 265 264 266 259 260 261 263 262 274 273 275 272\n",
      " 267 268 269 271 270 284 282 283 276 277 279 278 285 280 281 292 293 294\n",
      " 291 295 296 287 286 288 290 289 302 303 304 297 305 306 298 299 307 308\n",
      " 301 300 315 316 314 309 317 318 311 319 310 312 313 328 327 329 326 321\n",
      " 331 332 330 320 322 323 333 324 325 340 339 341 334 335 336 338 337] \n",
      "\n",
      "est_socio  :  [3 2 4 1] \n",
      "\n",
      "estaciona  :  [-1  3  2  1  8  4 10  6  5  7  9] \n",
      "\n",
      "estufa_chi  :  [-1  2  1] \n",
      "\n",
      "excusado  :  [1 2] \n",
      "\n",
      "factor  :  [  -1  178  203 ..., 1774 1956 1102] \n",
      "\n",
      "factor_viv  :  [ 243  169  262 ..., 1731 1953 1228] \n",
      "\n",
      "facul_ne  :  [-1  9] \n",
      "\n",
      "facul_nh1  :  [-1  1] \n",
      "\n",
      "facul_nh2  :  [-1  1  2] \n",
      "\n",
      "facul_no1  :  [-1  2  1  4  3] \n",
      "\n",
      "facul_no2  :  [-1  1  2  3  4] \n",
      "\n",
      "familiar  :  [-1  2  1] \n",
      "\n",
      "financia_1  :  [-1  1] \n",
      "\n",
      "financia_2  :  [-1  2] \n",
      "\n",
      "financia_3  :  [-1  3] \n",
      "\n",
      "financia_4  :  [-1  4] \n",
      "\n",
      "financia_5  :  [-1  5] \n",
      "\n",
      "financia_6  :  [-1  6] \n",
      "\n",
      "financia_7  :  [-1  7] \n",
      "\n",
      "financia_8  :  [-1  8] \n",
      "\n",
      "focos_ahor  :  [ 8  6 23 26 14 38 30  0 11  9  1  4 20  7 13  5 10 18 12  3  2 15 19 32 16\n",
      " 21 25 75 50 17 -1 24 36 48 35 40 22 34 28 60 33 27 70 90 64 37 31 29 41 42\n",
      " 44 49 45 99 52 98 92 43 65 96 39 53 47 55 58 62 82 63 46 80 74 57 56 51 88\n",
      " 66 54 77 61 95 76] \n",
      "\n",
      "focos_inca  :  [ 8  0 12  4  1 13  6  5  7  3  2 49 10  9 50 15 14 -1 11 99 24 19 17 30 18\n",
      " 25 16 20 22 21 60 98 40 28 33 29 70 65 23 34 39 26 32 42 27 35 31 80 45 38\n",
      " 75 36 46 78 90 37 91] \n",
      "\n",
      "folioviv  :  [  10001801   10001803   10001804 ..., 3260737208 3260737210 3260737211] \n",
      "\n",
      "fregadero  :  [1 2] \n",
      "\n",
      "hog_dueno1  :  [ 1 -1  2  3  4  5] \n",
      "\n",
      "hog_dueno2  :  [-1  1  2  3] \n",
      "\n",
      "internet  :  [-1  1  2] \n",
      "\n",
      "lavadero  :  [1 2] \n",
      "\n",
      "mat_pared  :  [8 7 1 3 6 2 5 4] \n",
      "\n",
      "mat_pisos  :  [ 3  2  1 -1] \n",
      "\n",
      "mat_techos  :  [9 3 4 6 7 8 2 1 5] \n",
      "\n",
      "medidor_luz  :  [1 2] \n",
      "\n",
      "mes_res  :  [-1  8  0  6  7  3 11  1  5  2  9 10  4] \n",
      "\n",
      "num_cuarto  :  [ 6  9 10  5  7  4  8  3  2 12  1 11 14 13 16 15 17 18 22 20 19] \n",
      "\n",
      "num_dueno1  :  [ 1 -1  3  2  4  6  7  5 15  8  9 11 10 13] \n",
      "\n",
      "num_dueno2  :  [-1  2  3  1  4  5  6  7 12  9  8 14] \n",
      "\n",
      "pago_renta  :  [   -1  2000   800  1000  1200  1300  1600   950   700   500  2500  3000\n",
      "  2200  4000  1500  1800  1700  2900  3800  3750  2650 21000  2300  1100\n",
      "  3500  1250   200   450   900  1400   600  5000  4500  1150  2700  7000\n",
      "   850  3300  6000   400   750   100   250  5900  2800  3400  9000  8000\n",
      "  3600 12600  5400  5500  1750  1900  2600  5200  8400  2100  3700  6500\n",
      "  1650  4300  4200  3900  6600   650   350   300   550 21600 20000 18000\n",
      " 23000 15000 13000  1350  4600 20009  7500 22500  3200 11500 12000 10000\n",
      "   480   440  2400  7300  4800  8800    13   474   740 11000  1050  9999\n",
      "  1550  2750  1850  5600   730    10  2250  5650 18900 24000  2450   125\n",
      " 85000 16500 13500  9800  6400 14400  6300 19000 13600 13700  7200  9200\n",
      " 14000  8500  6100  4100 53550 13400 25000 25500 26000 50000  4250  1070\n",
      "  1450  4700  1040   660   870  1460  1950  8080 17400  5700  5300  6450\n",
      "  6700  1130    98  1620  1190  1060   560  2220  3650  3100   580 10500\n",
      "   635  1660  1310  2630   840 16000 40000  2850   275     0  5275  9500\n",
      "   120   380 10600  5800 30000  2350  2150  9600 12500  6800   150  4150\n",
      "  3850  1360  4125  2175 17000   910   573    50  3250   760   999 45000\n",
      "  5250 10800  4350  6125  3252   980   460   670  1020   680  6200 35000\n",
      " 22000  7800 10200  7100  6150  5130 38000 36000 31000  1880  3050   925\n",
      " 15500  2550  3150  7600  8750   470  8300  1920     1  5150  5100 13200\n",
      "  8250 14500   430  6250  1085  4400  1509   920  7400   675   830    41\n",
      "   555   240   880   970   710] \n",
      "\n",
      "panel_ne  :  [-1  9] \n",
      "\n",
      "pileta  :  [2 1] \n",
      "\n",
      "pot_panel  :  [-1  2  1] \n",
      "\n",
      "potencia  :  [ -1 999 135  12 800 230 250 150  60  75  14 129  13 120 200 100 110  24\n",
      "  15  70  20  40   2  50 750 600  80   8 400 103  65  45 130  90 500  30\n",
      " 145   4  55  51  62 220 300 210] \n",
      "\n",
      "rega_elect  :  [-1  2  1] \n",
      "\n",
      "regadera  :  [1 2] \n",
      "\n",
      "ren_estufa  :  [-1  2  1] \n",
      "\n",
      "ren_horno  :  [-1  2  1] \n",
      "\n",
      "ren_lavad  :  [-1  2  1] \n",
      "\n",
      "ren_planch  :  [-1  2  1] \n",
      "\n",
      "ren_refri  :  [-1  2  1] \n",
      "\n",
      "ren_tv  :  [-1  2  1] \n",
      "\n",
      "repar_agua  :  [2 1] \n",
      "\n",
      "repar_cabl  :  [2 1] \n",
      "\n",
      "repar_dren  :  [2 1] \n",
      "\n",
      "repar_pard  :  [2 1] \n",
      "\n",
      "repar_tech  :  [2 1] \n",
      "\n",
      "sanit_agua  :  [ 1  2 -1  3] \n",
      "\n",
      "tam_loc  :  [1 2 3 4] \n",
      "\n",
      "tanque_gas  :  [1 2] \n",
      "\n",
      "tel_fijo_x  :  [-1  2  1] \n",
      "\n",
      "tenencia  :  [4 2 1 5 3 6] \n",
      "\n",
      "tinaco_azo  :  [1 2] \n",
      "\n",
      "tipo_adqui  :  [ 2 -1  1  3  4  5  6  7  8] \n",
      "\n",
      "tipo_finan  :  [ 5 -1  2  1  4  3] \n",
      "\n",
      "tipo_viv  :  [ 1  3  5  2 -1  4] \n",
      "\n",
      "tot_hog  :  [1 2 3 4 5] \n",
      "\n",
      "tot_resid  :  [ 4  6  2  3  1  5  7  8 10  9 11 15 14 12 16 13 20 19 17 22 24 -1 21 25 18] \n",
      "\n",
      "tv_paga_x  :  [-1  1  2] \n",
      "\n",
      "ubica_geo  :  [ 10010001  10030001  10050001 ..., 320540074 320550088 320550011] \n",
      "\n",
      "upm  :  [ 710   50 1450 ..., 8101 8102 8103] \n",
      "\n",
      "uso_compar  :  [ 2  1 -1] \n",
      "\n",
      "valor_viv  :  [-1  9  4  5  6  3  2  7  1] \n",
      "\n",
      "vend_hered  :  [-1  1  2] \n",
      "\n",
      "viv_usada  :  [-1  2  1  9] \n",
      "\n",
      "year_x  :  [2014 2015 2016 2017] \n",
      "\n",
      "Unnamed: 0_y  :  [    0    19     1 ..., 59511 59512 59513] \n",
      "\n",
      "adqui_pc  :  [-1  1  2  3  4  9] \n",
      "\n",
      "cel_hogar  :  [-1  2  1  9] \n",
      "\n",
      "celular_y  :  [ 2  1 -1  9] \n",
      "\n",
      "chofer  :  [-1  2  1] \n",
      "\n",
      "cocinero  :  [-1  2  1] \n",
      "\n",
      "compu_uso  :  [ 1  2 -1] \n",
      "\n",
      "compu_uso2  :  [-1  2  1] \n",
      "\n",
      "conex_int1  :  [ 2  1 -1  9] \n",
      "\n",
      "conex_int2  :  [ 1  2 -1  9] \n",
      "\n",
      "conex_int3  :  [ 2 -1  1  9] \n",
      "\n",
      "conex_int4  :  [ 2 -1  1  9] \n",
      "\n",
      "conex_int5  :  [ 2 -1  1  9] \n",
      "\n",
      "conex_int6  :  [ 2 -1  1  9] \n",
      "\n",
      "conex_int7  :  [ 2 -1  1  9] \n",
      "\n",
      "conex_inte  :  [ 1  2  9 -1] \n",
      "\n",
      "cuid_perso  :  [-1  1  2] \n",
      "\n",
      "edad_tra10  :  [-1  0] \n",
      "\n",
      "edad_trab1  :  [-1 18 25 30 24 40 45 16 22 59 27 51 28 19 23 80 20 21 42 17 29 34 26 46 39\n",
      " 53 52 72 60 54 67 48 32 37 68 33 50 36 38 43 35 41 31 58 55 56 44 49 70 64\n",
      " 62 57 63 47 73 77 88 65] \n",
      "\n",
      "edad_trab2  :  [-1 30 19 22  0 18 23 20 51 25 27 60 10 32 26  1 58  7 40 35 14 41 21  8 28\n",
      " 17 24 50 55 36 64 37 42 63 48 52 31 65 45  6 38 15  2] \n",
      "\n",
      "edad_trab3  :  [-1 32  8 50  2 58 18 43  4 23 15 40 51  0 21 33 38 55 13  6] \n",
      "\n",
      "edad_trab4  :  [-1  4 46  9 45  0 29] \n",
      "\n",
      "edad_trab5  :  [-1 33  0] \n",
      "\n",
      "edad_trab6  :  [-1  9  0] \n",
      "\n",
      "edad_trab7  :  [-1  0] \n",
      "\n",
      "edad_trab8  :  [-1  0] \n",
      "\n",
      "edad_trab9  :  [-1  0] \n",
      "\n",
      "factor_hog  :  [ 243  169  262 ..., 1953 1228 1371] \n",
      "\n",
      "fija_movil  :  [-1  1  2  3  9] \n",
      "\n",
      "foliohog  :  [1 2 3 4 5] \n",
      "\n",
      "forma_pago  :  [-1  1  2  9] \n",
      "\n",
      "huesp_come  :  [-1  0  3  1  2] \n",
      "\n",
      "huespedes  :  [0 3 1 2 5] \n",
      "\n",
      "inte_12mes  :  [-1] \n",
      "\n",
      "jardinero  :  [-1  2  1] \n",
      "\n",
      "lavandero  :  [-1  2  1] \n",
      "\n",
      "linea_cel  :  [-1  2  1] \n",
      "\n",
      "linea_com  :  [-1  1  2] \n",
      "\n",
      "lugar_inte  :  [-1  1  6  5  4  3  2] \n",
      "\n",
      "monto_pc  :  [   -1  6000 15000  4500  9000  5000  3000  1500  2600 12000  8000 10000\n",
      "  4000  7000 13000  7300  1300  3500  2500   800 11000  6500  1200 14000\n",
      "  3700 27000  4800  2000 25000  2200  3800 17000  1400  1600  4300 20000\n",
      "  2400  1000  7500 10500 18000   700   900  3200 37000  8900  8800  1700\n",
      "  5600  1800 12500  4700   680  6700 13500   500 16000  4600  5300  8700\n",
      " 32000 11400  1100  1900   350   250  7200   950 22000  2800  5500 11200\n",
      "  8500  5900  5200  3300  2700   850  5250  9500  5400  2900 19000   600\n",
      "  3600   100   400  9800  2300 23000 26000 12800  3900   300  4900  5800\n",
      " 39000 11600  9600 19800 11500 28000  7600 21000 24000  4400  7800 60000\n",
      " 10050  6200   980  4250  1583  7250  5700  5100  3400 12300 13600  7400\n",
      "  5950  9700  2830  2100   200  1750  5999  8400  4200 17500 33000  6800\n",
      "  1060 10280 30000 35000  2999  4320 10700 14250  7700  6300 10300 15200\n",
      "  8600 10800  7900 12400  4750  6900 12700 14800 13900  9300  4550 11100\n",
      "  2149 50000  4990 45000 40000  8217  6600 24500 10200  8200 17900  5850\n",
      " 36000   799  6400  1550  1350  9999 14300  3100  5660 16800  1150  1562\n",
      "  1199  2250   750  6999  9400  1490 10400   550 29000  7989  1450   580\n",
      "  3870   885 15600 80000  1235   890 13700  9900  8999  4150  2749  8750\n",
      "  9100   690 18500 14400  3350 74000 14500  1050  3480  4999  5890  5499\n",
      " 16100  6460  9200 14600 12200   999   450  9670  8550  3875 11340  8300\n",
      "  1250 34000 13800  3750  5760  3250  8360  2579  2540  6250  5260  4599\n",
      "  7620  1040 18800 21600  2475  5688  3640 31000  1990  1999  1920   659\n",
      "  3999  9250 16500 17800 10900 14700 23600  6850 12753 10089 18900 23500\n",
      " 17600  5995    50  2150  1699 11800  7550   570 11700  4299  2790 12270\n",
      "   650    10 11300 43000   180   240 11900  2520  7499  1006   780   968\n",
      "   960  7680  7100 52000  2120  1130   930  2072 23400   720 15500  7999\n",
      "  4100 31500  5550  3375  1968  1950  4725  2142  2630  4350  4080  2376\n",
      "  3174  6350  9520  5070   790  2740  1560  5350  3450] \n",
      "\n",
      "no_compu  :  [-1  1  3  2  4  5  9] \n",
      "\n",
      "no_internt  :  [-1  1  2  3  5  4  6] \n",
      "\n",
      "num_trab_d  :  [ 0  1  3  2  4  6 -1] \n",
      "\n",
      "pago_inter  :  [ 1 -1  2  3  5  4] \n",
      "\n",
      "pago_pc  :  [ 2 -1  9  1] \n",
      "\n",
      "pc_nueva  :  [-1  1  2  9] \n",
      "\n",
      "radio  :  [ 1  2  9 -1] \n",
      "\n",
      "tel_fijo_y  :  [ 1  2 -1  9] \n",
      "\n",
      "tiempo_pc  :  [ 2 -1  4  3  1  9] \n",
      "\n",
      "tot_hom  :  [ 3  2  4  1  0  5  6  7  8 11  9 13 10 12] \n",
      "\n",
      "tot_integ  :  [ 4  6  2  3  1  5  7  8 10 11  9 12 15 16 14 13 20 17 24 22 19 18] \n",
      "\n",
      "tot_muj  :  [ 1  4  2  3  5  0  7  6 10  8  9 13 11 12] \n",
      "\n",
      "trabaja_do  :  [-1  1  2] \n",
      "\n",
      "tv_analogi  :  [ 1  2 -1  9] \n",
      "\n",
      "tv_digital  :  [ 1  2 -1  9] \n",
      "\n",
      "tv_paga_y  :  [ 2  1  9 -1] \n",
      "\n",
      "videojuego  :  [ 2 -1  1] \n",
      "\n",
      "year_y  :  [2014 2015 2016 2017] \n",
      "\n"
     ]
    }
   ],
   "source": [
    "for line in df_inner.columns:\n",
    "    print(line, ' : ', df_inner[line].unique(), '\\n')"
   ]
  },
  {
   "cell_type": "markdown",
   "metadata": {},
   "source": [
    "### Merge `compu_uso` y `computador`"
   ]
  },
  {
   "cell_type": "code",
   "execution_count": 228,
   "metadata": {},
   "outputs": [
    {
     "data": {
      "text/plain": [
       "-1    116606\n",
       " 2     86214\n",
       " 1     52108\n",
       "Name: compu_uso, dtype: int64"
      ]
     },
     "execution_count": 228,
     "metadata": {},
     "output_type": "execute_result"
    }
   ],
   "source": [
    "df_inner['compu_uso'].value_counts()"
   ]
  },
  {
   "cell_type": "code",
   "execution_count": 229,
   "metadata": {},
   "outputs": [
    {
     "data": {
      "text/plain": [
       "-1    138322\n",
       " 2     74550\n",
       " 1     42056\n",
       "Name: computador, dtype: int64"
      ]
     },
     "execution_count": 229,
     "metadata": {},
     "output_type": "execute_result"
    }
   ],
   "source": [
    "df_inner['computador'].value_counts()"
   ]
  },
  {
   "cell_type": "code",
   "execution_count": 230,
   "metadata": {},
   "outputs": [
    {
     "data": {
      "text/plain": [
       "254928"
      ]
     },
     "execution_count": 230,
     "metadata": {},
     "output_type": "execute_result"
    }
   ],
   "source": [
    "i = 0\n",
    "list_computador = []\n",
    "for row_a, row_b in zip(df_inner['compu_uso'].tolist(), df_inner['computador'].tolist()):\n",
    "    if(row_a == -1) & (row_b == 1):\n",
    "        list_computador.append(1)\n",
    "\n",
    "    elif(row_a == -1) & (row_b == 2):\n",
    "        list_computador.append(2)\n",
    "        \n",
    "    elif(row_a == 1) & (row_b == -1):\n",
    "        list_computador.append(1)\n",
    "\n",
    "    elif(row_a == 2) & (row_b == -1):\n",
    "        list_computador.append(2)\n",
    "        \n",
    "    else:\n",
    "        list_computador.append(-1)\n",
    "        \n",
    "    i+=1\n",
    "    \n",
    "i"
   ]
  },
  {
   "cell_type": "code",
   "execution_count": 231,
   "metadata": {},
   "outputs": [
    {
     "data": {
      "text/plain": [
       "array([-1,  1,  2])"
      ]
     },
     "execution_count": 231,
     "metadata": {},
     "output_type": "execute_result"
    }
   ],
   "source": [
    "np.unique(list_computador)"
   ]
  },
  {
   "cell_type": "code",
   "execution_count": 232,
   "metadata": {},
   "outputs": [
    {
     "data": {
      "text/plain": [
       "254928"
      ]
     },
     "execution_count": 232,
     "metadata": {},
     "output_type": "execute_result"
    }
   ],
   "source": [
    "len(list_computador)"
   ]
  },
  {
   "cell_type": "code",
   "execution_count": 233,
   "metadata": {},
   "outputs": [
    {
     "data": {
      "text/plain": [
       " 2    160754\n",
       " 1     94158\n",
       "-1        16\n",
       "Name: computador, dtype: int64"
      ]
     },
     "execution_count": 233,
     "metadata": {},
     "output_type": "execute_result"
    }
   ],
   "source": [
    "df_inner['computador'] = list_computador\n",
    "df_inner['computador'].value_counts()"
   ]
  },
  {
   "cell_type": "markdown",
   "metadata": {},
   "source": [
    "### Merge `conex_inte` y `internet`"
   ]
  },
  {
   "cell_type": "code",
   "execution_count": 234,
   "metadata": {},
   "outputs": [
    {
     "data": {
      "text/plain": [
       "-1    116606\n",
       " 2     82173\n",
       " 1     56014\n",
       " 9       135\n",
       "Name: conex_inte, dtype: int64"
      ]
     },
     "execution_count": 234,
     "metadata": {},
     "output_type": "execute_result"
    }
   ],
   "source": [
    "df_inner['conex_inte'].value_counts()"
   ]
  },
  {
   "cell_type": "code",
   "execution_count": 235,
   "metadata": {},
   "outputs": [
    {
     "data": {
      "text/plain": [
       "-1    138322\n",
       " 2     58698\n",
       " 1     57908\n",
       "Name: internet, dtype: int64"
      ]
     },
     "execution_count": 235,
     "metadata": {},
     "output_type": "execute_result"
    }
   ],
   "source": [
    "df_inner['internet'].value_counts()"
   ]
  },
  {
   "cell_type": "code",
   "execution_count": 236,
   "metadata": {},
   "outputs": [
    {
     "data": {
      "text/plain": [
       "254928"
      ]
     },
     "execution_count": 236,
     "metadata": {},
     "output_type": "execute_result"
    }
   ],
   "source": [
    "i = 0\n",
    "list_internet = []\n",
    "for row_a, row_b in zip(df_inner['conex_inte'].tolist(), df_inner['internet'].tolist()):\n",
    "    if(row_a == -1) & (row_b == 1):\n",
    "        list_internet.append(1)\n",
    "\n",
    "    elif(row_a == -1) & (row_b == 2):\n",
    "        list_internet.append(2)\n",
    "        \n",
    "    elif(row_a == 1) & (row_b == -1):\n",
    "        list_internet.append(1)\n",
    "\n",
    "    elif(row_a == 2) & (row_b == -1):\n",
    "        list_internet.append(2)\n",
    "        \n",
    "    else:\n",
    "        list_internet.append(-1)\n",
    "        \n",
    "    i+=1\n",
    "    \n",
    "i"
   ]
  },
  {
   "cell_type": "code",
   "execution_count": 237,
   "metadata": {},
   "outputs": [
    {
     "data": {
      "text/plain": [
       "array([-1,  1,  2])"
      ]
     },
     "execution_count": 237,
     "metadata": {},
     "output_type": "execute_result"
    }
   ],
   "source": [
    "np.unique(list_internet)"
   ]
  },
  {
   "cell_type": "code",
   "execution_count": 238,
   "metadata": {},
   "outputs": [
    {
     "data": {
      "text/plain": [
       "254928"
      ]
     },
     "execution_count": 238,
     "metadata": {},
     "output_type": "execute_result"
    }
   ],
   "source": [
    "len(list_internet)"
   ]
  },
  {
   "cell_type": "code",
   "execution_count": 239,
   "metadata": {},
   "outputs": [
    {
     "data": {
      "text/plain": [
       " 2    140864\n",
       " 1    113913\n",
       "-1       151\n",
       "Name: internet, dtype: int64"
      ]
     },
     "execution_count": 239,
     "metadata": {},
     "output_type": "execute_result"
    }
   ],
   "source": [
    "df_inner['internet'] = list_internet\n",
    "df_inner['internet'].value_counts()"
   ]
  },
  {
   "cell_type": "markdown",
   "metadata": {},
   "source": [
    "### Merge `celular_x` y `celular_x`"
   ]
  },
  {
   "cell_type": "code",
   "execution_count": 240,
   "metadata": {},
   "outputs": [
    {
     "data": {
      "text/plain": [
       "-1    138322\n",
       " 1     71312\n",
       " 2     45294\n",
       "Name: celular_x, dtype: int64"
      ]
     },
     "execution_count": 240,
     "metadata": {},
     "output_type": "execute_result"
    }
   ],
   "source": [
    "df_inner['celular_x'].value_counts()"
   ]
  },
  {
   "cell_type": "code",
   "execution_count": 241,
   "metadata": {},
   "outputs": [
    {
     "data": {
      "text/plain": [
       "-1    116606\n",
       " 1     98625\n",
       " 2     39695\n",
       " 9         2\n",
       "Name: celular_y, dtype: int64"
      ]
     },
     "execution_count": 241,
     "metadata": {},
     "output_type": "execute_result"
    }
   ],
   "source": [
    "df_inner['celular_y'].value_counts()"
   ]
  },
  {
   "cell_type": "code",
   "execution_count": 242,
   "metadata": {},
   "outputs": [
    {
     "data": {
      "text/plain": [
       "254928"
      ]
     },
     "execution_count": 242,
     "metadata": {},
     "output_type": "execute_result"
    }
   ],
   "source": [
    "i = 0\n",
    "list_celular = []\n",
    "for row_a, row_b in zip(df_inner['celular_x'].tolist(), df_inner['celular_y'].tolist()):\n",
    "    if(row_a == -1) & (row_b == 1):\n",
    "        list_celular.append(1)\n",
    "\n",
    "    elif(row_a == -1) & (row_b == 2):\n",
    "        list_celular.append(2)\n",
    "        \n",
    "    elif(row_a == 1) & (row_b == -1):\n",
    "        list_celular.append(1)\n",
    "\n",
    "    elif(row_a == 2) & (row_b == -1):\n",
    "        list_celular.append(2)\n",
    "        \n",
    "    else:\n",
    "        list_celular.append(-1)\n",
    "        \n",
    "    i+=1\n",
    "    \n",
    "i"
   ]
  },
  {
   "cell_type": "code",
   "execution_count": 243,
   "metadata": {},
   "outputs": [
    {
     "data": {
      "text/plain": [
       "array([-1,  1,  2])"
      ]
     },
     "execution_count": 243,
     "metadata": {},
     "output_type": "execute_result"
    }
   ],
   "source": [
    "np.unique(list_celular)"
   ]
  },
  {
   "cell_type": "code",
   "execution_count": 244,
   "metadata": {},
   "outputs": [
    {
     "data": {
      "text/plain": [
       "254928"
      ]
     },
     "execution_count": 244,
     "metadata": {},
     "output_type": "execute_result"
    }
   ],
   "source": [
    "len(list_celular)"
   ]
  },
  {
   "cell_type": "code",
   "execution_count": 245,
   "metadata": {},
   "outputs": [
    {
     "data": {
      "text/plain": [
       " 1    169924\n",
       " 2     84986\n",
       "-1        18\n",
       "Name: celular, dtype: int64"
      ]
     },
     "execution_count": 245,
     "metadata": {},
     "output_type": "execute_result"
    }
   ],
   "source": [
    "df_inner['celular'] = list_celular\n",
    "df_inner['celular'].value_counts()"
   ]
  },
  {
   "cell_type": "markdown",
   "metadata": {},
   "source": [
    "### Merge `tel_fijo_x` y `tel_fijo_y`"
   ]
  },
  {
   "cell_type": "code",
   "execution_count": 246,
   "metadata": {},
   "outputs": [
    {
     "data": {
      "text/plain": [
       "-1    138322\n",
       " 2     70657\n",
       " 1     45949\n",
       "Name: tel_fijo_x, dtype: int64"
      ]
     },
     "execution_count": 246,
     "metadata": {},
     "output_type": "execute_result"
    }
   ],
   "source": [
    "df_inner['tel_fijo_x'].value_counts()"
   ]
  },
  {
   "cell_type": "code",
   "execution_count": 247,
   "metadata": {},
   "outputs": [
    {
     "data": {
      "text/plain": [
       "-1    116606\n",
       " 2     88660\n",
       " 1     49661\n",
       " 9         1\n",
       "Name: tel_fijo_y, dtype: int64"
      ]
     },
     "execution_count": 247,
     "metadata": {},
     "output_type": "execute_result"
    }
   ],
   "source": [
    "df_inner['tel_fijo_y'].value_counts()"
   ]
  },
  {
   "cell_type": "code",
   "execution_count": 248,
   "metadata": {},
   "outputs": [
    {
     "data": {
      "text/plain": [
       "254928"
      ]
     },
     "execution_count": 248,
     "metadata": {},
     "output_type": "execute_result"
    }
   ],
   "source": [
    "i = 0\n",
    "list_tel_fijo = []\n",
    "for row_a, row_b in zip(df_inner['tel_fijo_x'].tolist(), df_inner['tel_fijo_y'].tolist()):\n",
    "    if(row_a == -1) & (row_b == 1):\n",
    "        list_tel_fijo.append(1)\n",
    "\n",
    "    elif(row_a == -1) & (row_b == 2):\n",
    "        list_tel_fijo.append(2)\n",
    "        \n",
    "    elif(row_a == 1) & (row_b == -1):\n",
    "        list_tel_fijo.append(1)\n",
    "\n",
    "    elif(row_a == 2) & (row_b == -1):\n",
    "        list_tel_fijo.append(2)\n",
    "        \n",
    "    else:\n",
    "        list_tel_fijo.append(-1)\n",
    "        \n",
    "    i+=1\n",
    "    \n",
    "i"
   ]
  },
  {
   "cell_type": "code",
   "execution_count": 249,
   "metadata": {},
   "outputs": [
    {
     "data": {
      "text/plain": [
       "array([-1,  1,  2])"
      ]
     },
     "execution_count": 249,
     "metadata": {},
     "output_type": "execute_result"
    }
   ],
   "source": [
    "np.unique(list_tel_fijo)"
   ]
  },
  {
   "cell_type": "code",
   "execution_count": 250,
   "metadata": {},
   "outputs": [
    {
     "data": {
      "text/plain": [
       "254928"
      ]
     },
     "execution_count": 250,
     "metadata": {},
     "output_type": "execute_result"
    }
   ],
   "source": [
    "len(list_tel_fijo)"
   ]
  },
  {
   "cell_type": "code",
   "execution_count": 251,
   "metadata": {},
   "outputs": [
    {
     "data": {
      "text/plain": [
       " 2    159306\n",
       " 1     95605\n",
       "-1        17\n",
       "Name: tel_fijo, dtype: int64"
      ]
     },
     "execution_count": 251,
     "metadata": {},
     "output_type": "execute_result"
    }
   ],
   "source": [
    "df_inner['tel_fijo'] = list_tel_fijo\n",
    "df_inner['tel_fijo'].value_counts()"
   ]
  },
  {
   "cell_type": "markdown",
   "metadata": {},
   "source": [
    "### Merge `tv_paga_x` y `tv_paga_y`"
   ]
  },
  {
   "cell_type": "code",
   "execution_count": 252,
   "metadata": {},
   "outputs": [
    {
     "data": {
      "text/plain": [
       "-1    138322\n",
       " 1     81279\n",
       " 2     35327\n",
       "Name: tv_paga_x, dtype: int64"
      ]
     },
     "execution_count": 252,
     "metadata": {},
     "output_type": "execute_result"
    }
   ],
   "source": [
    "df_inner['tv_paga_x'].value_counts()"
   ]
  },
  {
   "cell_type": "code",
   "execution_count": 253,
   "metadata": {},
   "outputs": [
    {
     "data": {
      "text/plain": [
       "-1    116606\n",
       " 2     74750\n",
       " 1     63495\n",
       " 9        77\n",
       "Name: tv_paga_y, dtype: int64"
      ]
     },
     "execution_count": 253,
     "metadata": {},
     "output_type": "execute_result"
    }
   ],
   "source": [
    "df_inner['tv_paga_y'].value_counts()"
   ]
  },
  {
   "cell_type": "code",
   "execution_count": 254,
   "metadata": {},
   "outputs": [
    {
     "data": {
      "text/plain": [
       "254928"
      ]
     },
     "execution_count": 254,
     "metadata": {},
     "output_type": "execute_result"
    }
   ],
   "source": [
    "i = 0\n",
    "list_tv_paga = []\n",
    "for row_a, row_b in zip(df_inner['tv_paga_x'].tolist(), df_inner['tv_paga_y'].tolist()):\n",
    "    if(row_a == -1) & (row_b == 1):\n",
    "        list_tv_paga.append(1)\n",
    "\n",
    "    elif(row_a == -1) & (row_b == 2):\n",
    "        list_tv_paga.append(2)\n",
    "        \n",
    "    elif(row_a == 1) & (row_b == -1):\n",
    "        list_tv_paga.append(1)\n",
    "\n",
    "    elif(row_a == 2) & (row_b == -1):\n",
    "        list_tv_paga.append(2)\n",
    "        \n",
    "    else:\n",
    "        list_tv_paga.append(-1)\n",
    "        \n",
    "    i+=1\n",
    "    \n",
    "i"
   ]
  },
  {
   "cell_type": "code",
   "execution_count": 255,
   "metadata": {},
   "outputs": [
    {
     "data": {
      "text/plain": [
       "array([-1,  1,  2])"
      ]
     },
     "execution_count": 255,
     "metadata": {},
     "output_type": "execute_result"
    }
   ],
   "source": [
    "np.unique(list_tv_paga)"
   ]
  },
  {
   "cell_type": "code",
   "execution_count": 256,
   "metadata": {},
   "outputs": [
    {
     "data": {
      "text/plain": [
       "254928"
      ]
     },
     "execution_count": 256,
     "metadata": {},
     "output_type": "execute_result"
    }
   ],
   "source": [
    "len(list_tv_paga)"
   ]
  },
  {
   "cell_type": "code",
   "execution_count": 257,
   "metadata": {},
   "outputs": [
    {
     "data": {
      "text/plain": [
       " 1    144762\n",
       " 2    110073\n",
       "-1        93\n",
       "Name: tv_paga, dtype: int64"
      ]
     },
     "execution_count": 257,
     "metadata": {},
     "output_type": "execute_result"
    }
   ],
   "source": [
    "df_inner['tv_paga'] = list_tv_paga\n",
    "df_inner['tv_paga'].value_counts()"
   ]
  },
  {
   "cell_type": "markdown",
   "metadata": {},
   "source": [
    "### Merge `calentador` y `calent_sol` o `calent_gas`"
   ]
  },
  {
   "cell_type": "code",
   "execution_count": 258,
   "metadata": {},
   "outputs": [
    {
     "data": {
      "text/plain": [
       "-1    116606\n",
       " 2     77820\n",
       " 1     60502\n",
       "Name: calentador, dtype: int64"
      ]
     },
     "execution_count": 258,
     "metadata": {},
     "output_type": "execute_result"
    }
   ],
   "source": [
    "df_inner['calentador'].value_counts()"
   ]
  },
  {
   "cell_type": "code",
   "execution_count": 259,
   "metadata": {},
   "outputs": [
    {
     "data": {
      "text/plain": [
       "-1    138322\n",
       " 2    110638\n",
       " 1      5968\n",
       "Name: calent_sol, dtype: int64"
      ]
     },
     "execution_count": 259,
     "metadata": {},
     "output_type": "execute_result"
    }
   ],
   "source": [
    "df_inner['calent_sol'].value_counts()"
   ]
  },
  {
   "cell_type": "code",
   "execution_count": 260,
   "metadata": {},
   "outputs": [
    {
     "data": {
      "text/plain": [
       "-1    138322\n",
       " 2     69449\n",
       " 1     47157\n",
       "Name: calent_gas, dtype: int64"
      ]
     },
     "execution_count": 260,
     "metadata": {},
     "output_type": "execute_result"
    }
   ],
   "source": [
    "df_inner['calent_gas'].value_counts()"
   ]
  },
  {
   "cell_type": "code",
   "execution_count": 261,
   "metadata": {},
   "outputs": [
    {
     "data": {
      "text/plain": [
       "254928"
      ]
     },
     "execution_count": 261,
     "metadata": {},
     "output_type": "execute_result"
    }
   ],
   "source": [
    "i = 0\n",
    "list_calentador = []\n",
    "\n",
    "for row_a, row_b, row_c in zip(df_inner['calentador'].tolist(), df_inner['calent_sol'].tolist(), df_inner['calent_gas'].tolist()):\n",
    "    if(row_a == -1) & ((row_b == 1) | (row_b == 1)):\n",
    "        list_calentador.append(1)\n",
    "\n",
    "    elif(row_a == -1) & ((row_b == 2) | (row_b == 2)):\n",
    "        list_calentador.append(2)\n",
    "        \n",
    "    elif(row_a == 1) & ((row_b == -1) | (row_b == -1)):\n",
    "        list_calentador.append(1)\n",
    "\n",
    "    elif(row_a == 2) & ((row_b == -1) | (row_b == -1)):\n",
    "        list_calentador.append(2)\n",
    "        \n",
    "    else:\n",
    "        list_calentador.append(-1)\n",
    "        \n",
    "    i+=1\n",
    "    \n",
    "i"
   ]
  },
  {
   "cell_type": "code",
   "execution_count": 262,
   "metadata": {},
   "outputs": [
    {
     "data": {
      "text/plain": [
       "array([1, 2])"
      ]
     },
     "execution_count": 262,
     "metadata": {},
     "output_type": "execute_result"
    }
   ],
   "source": [
    "np.unique(list_calentador)"
   ]
  },
  {
   "cell_type": "code",
   "execution_count": 263,
   "metadata": {},
   "outputs": [
    {
     "data": {
      "text/plain": [
       "254928"
      ]
     },
     "execution_count": 263,
     "metadata": {},
     "output_type": "execute_result"
    }
   ],
   "source": [
    "len(list_calentador)"
   ]
  },
  {
   "cell_type": "code",
   "execution_count": 264,
   "metadata": {},
   "outputs": [
    {
     "data": {
      "text/plain": [
       "2    188458\n",
       "1     66470\n",
       "Name: calentador, dtype: int64"
      ]
     },
     "execution_count": 264,
     "metadata": {},
     "output_type": "execute_result"
    }
   ],
   "source": [
    "df_inner['calentador'] = list_calentador\n",
    "df_inner['calentador'].value_counts()"
   ]
  },
  {
   "cell_type": "markdown",
   "metadata": {},
   "source": [
    "### Merge `tot_resid` y `tot_integ`"
   ]
  },
  {
   "cell_type": "code",
   "execution_count": 265,
   "metadata": {},
   "outputs": [
    {
     "data": {
      "text/plain": [
       "-1    57523\n",
       " 4    44536\n",
       " 3    37819\n",
       " 2    32790\n",
       " 5    31715\n",
       "Name: tot_resid, dtype: int64"
      ]
     },
     "execution_count": 265,
     "metadata": {},
     "output_type": "execute_result"
    }
   ],
   "source": [
    "df_inner['tot_resid'].value_counts().head()"
   ]
  },
  {
   "cell_type": "code",
   "execution_count": 266,
   "metadata": {},
   "outputs": [
    {
     "data": {
      "text/plain": [
       "4    58486\n",
       "3    50397\n",
       "2    44600\n",
       "5    39955\n",
       "1    25631\n",
       "Name: tot_integ, dtype: int64"
      ]
     },
     "execution_count": 266,
     "metadata": {},
     "output_type": "execute_result"
    }
   ],
   "source": [
    "df_inner['tot_integ'].value_counts().head()"
   ]
  },
  {
   "cell_type": "code",
   "execution_count": 267,
   "metadata": {},
   "outputs": [
    {
     "data": {
      "text/plain": [
       "254928"
      ]
     },
     "execution_count": 267,
     "metadata": {},
     "output_type": "execute_result"
    }
   ],
   "source": [
    "i = 0\n",
    "list_tot_integ = []\n",
    "\n",
    "for row_a, row_b in zip(df_inner['tot_resid'].tolist(), df_inner['tot_integ'].tolist()):\n",
    "    if(row_a == -1) & (row_b > 0):\n",
    "        list_tot_integ.append(row_b)\n",
    "    else:\n",
    "        list_tot_integ.append(row_b) \n",
    "        \n",
    "    i+=1\n",
    "    \n",
    "i"
   ]
  },
  {
   "cell_type": "code",
   "execution_count": 268,
   "metadata": {},
   "outputs": [
    {
     "data": {
      "text/plain": [
       "array([ 1,  2,  3,  4,  5,  6,  7,  8,  9, 10, 11, 12, 13, 14, 15, 16, 17,\n",
       "       18, 19, 20, 22, 24])"
      ]
     },
     "execution_count": 268,
     "metadata": {},
     "output_type": "execute_result"
    }
   ],
   "source": [
    "np.unique(list_tot_integ)"
   ]
  },
  {
   "cell_type": "code",
   "execution_count": 269,
   "metadata": {},
   "outputs": [
    {
     "data": {
      "text/plain": [
       "254928"
      ]
     },
     "execution_count": 269,
     "metadata": {},
     "output_type": "execute_result"
    }
   ],
   "source": [
    "len(list_tot_integ)"
   ]
  },
  {
   "cell_type": "code",
   "execution_count": 270,
   "metadata": {},
   "outputs": [
    {
     "data": {
      "text/plain": [
       "4     58486\n",
       "3     50397\n",
       "2     44600\n",
       "5     39955\n",
       "1     25631\n",
       "6     18564\n",
       "7      8720\n",
       "8      4147\n",
       "9      2113\n",
       "10     1155\n",
       "11      569\n",
       "12      254\n",
       "13      144\n",
       "14       75\n",
       "15       48\n",
       "16       29\n",
       "17       17\n",
       "20        9\n",
       "19        7\n",
       "18        6\n",
       "22        1\n",
       "24        1\n",
       "Name: tot_integ, dtype: int64"
      ]
     },
     "execution_count": 270,
     "metadata": {},
     "output_type": "execute_result"
    }
   ],
   "source": [
    "df_inner['tot_integ'] = list_tot_integ\n",
    "df_inner['tot_integ'].value_counts()"
   ]
  },
  {
   "cell_type": "code",
   "execution_count": 294,
   "metadata": {},
   "outputs": [
    {
     "data": {
      "text/plain": [
       "0    10010001\n",
       "1    10010001\n",
       "2    10010001\n",
       "3    10010001\n",
       "4    10010001\n",
       "Name: ubica_geo, dtype: object"
      ]
     },
     "execution_count": 294,
     "metadata": {},
     "output_type": "execute_result"
    }
   ],
   "source": [
    "import re\n",
    "ubica_geo = df_inner.ubica_geo.astype('str')\n",
    "ubica_geo.head()"
   ]
  },
  {
   "cell_type": "code",
   "execution_count": 332,
   "metadata": {},
   "outputs": [
    {
     "data": {
      "text/plain": [
       "'010010001'"
      ]
     },
     "execution_count": 332,
     "metadata": {},
     "output_type": "execute_result"
    }
   ],
   "source": [
    "for row, index in zip(ubica_geo, ubica_geo.index):\n",
    "    if len(row) == 8:\n",
    "        ubica_geo[index] = '0' + row\n",
    "ubica_geo[0]        "
   ]
  },
  {
   "cell_type": "code",
   "execution_count": 337,
   "metadata": {},
   "outputs": [
    {
     "data": {
      "text/plain": [
       "'01'"
      ]
     },
     "execution_count": 337,
     "metadata": {},
     "output_type": "execute_result"
    }
   ],
   "source": [
    "ubica_geo[0][:2]"
   ]
  },
  {
   "cell_type": "code",
   "execution_count": 338,
   "metadata": {},
   "outputs": [
    {
     "data": {
      "text/plain": [
       "'001'"
      ]
     },
     "execution_count": 338,
     "metadata": {},
     "output_type": "execute_result"
    }
   ],
   "source": [
    "ubica_geo[0][2:5]"
   ]
  },
  {
   "cell_type": "code",
   "execution_count": 339,
   "metadata": {},
   "outputs": [
    {
     "data": {
      "text/plain": [
       "'0001'"
      ]
     },
     "execution_count": 339,
     "metadata": {},
     "output_type": "execute_result"
    }
   ],
   "source": [
    "ubica_geo[0][5:]"
   ]
  },
  {
   "cell_type": "code",
   "execution_count": 368,
   "metadata": {},
   "outputs": [
    {
     "data": {
      "text/plain": [
       "'01'"
      ]
     },
     "execution_count": 368,
     "metadata": {},
     "output_type": "execute_result"
    }
   ],
   "source": [
    "ubica_geo[1][:2]"
   ]
  },
  {
   "cell_type": "code",
   "execution_count": 384,
   "metadata": {},
   "outputs": [],
   "source": [
    "list_CVE_ENT = []\n",
    "list_CVE_MUN = []\n",
    "list_CVE_LOC = []\n",
    "\n",
    "for index in ubica_geo.index:\n",
    "    list_CVE_ENT.append(ubica_geo[index][:2])\n",
    "    list_CVE_MUN.append(ubica_geo[index][2:5])\n",
    "    list_CVE_LOC.append(ubica_geo[index][5:])"
   ]
  },
  {
   "cell_type": "code",
   "execution_count": 388,
   "metadata": {},
   "outputs": [
    {
     "data": {
      "text/plain": [
       "array(['01', '02', '03', '04', '05', '06', '07', '08', '09', '10', '11',\n",
       "       '12', '13', '14', '15', '16', '17', '18', '19', '20', '21', '22',\n",
       "       '23', '24', '25', '26', '27', '28', '29', '30', '31', '32'], dtype=object)"
      ]
     },
     "execution_count": 388,
     "metadata": {},
     "output_type": "execute_result"
    }
   ],
   "source": [
    "df_inner['CVE_ENT'] = list_CVE_ENT\n",
    "df_inner['CVE_ENT'].unique()"
   ]
  },
  {
   "cell_type": "code",
   "execution_count": 390,
   "metadata": {},
   "outputs": [
    {
     "data": {
      "text/plain": [
       "array(['001', '003', '005', '006', '007', '011', '004', '002', '009',\n",
       "       '010', '008', '018', '025', '030', '035', '020', '024', '027',\n",
       "       '028', '037', '038', '017', '033', '036', '013', '078', '089',\n",
       "       '101', '019', '061', '065', '074', '075', '094', '097', '106',\n",
       "       '029', '031', '046', '081', '087', '099', '102', '108', '111',\n",
       "       '015', '052', '076', '012', '014', '021', '022', '023', '034',\n",
       "       '041', '054', '059', '067', '070', '092', '098', '103', '112',\n",
       "       '114', '032', '040', '045', '060', '062', '051', '016', '039',\n",
       "       '042', '050', '057', '058', '066', '043', '055', '071', '077',\n",
       "       '079', '048', '069', '082', '084', '063', '044', '073', '083',\n",
       "       '068', '120', '053', '085', '093', '104', '109', '121', '122',\n",
       "       '091', '118', '064', '088', '119', '124', '107', '072', '100',\n",
       "       '110', '026', '049', '184', '385', '390', '397', '399', '515',\n",
       "       '090', '157', '185', '227', '293', '327', '375', '384', '401',\n",
       "       '409', '441', '520', '525', '546', '565', '519', '125', '189',\n",
       "       '190', '198', '208', '234', '242', '317', '333', '340', '386',\n",
       "       '422', '424', '439', '491', '507', '513', '135', '307', '369',\n",
       "       '470', '473', '554', '156', '132', '140', '154', '164', '115',\n",
       "       '136', '137', '138', '177', '180', '194', '199', '203', '217',\n",
       "       '202', '207', '150', '178', '056', '193', '143', '174', '204',\n",
       "       '206', '105', '117', '123', '128', '129', '133', '160', '161',\n",
       "       '047', '095', '126', '141', '142', '148', '151', '175', '200',\n",
       "       '096', '086', '080', '116', '131', '188', '295', '324', '350',\n",
       "       '452', '467', '505', '551', '553', '130', '134', '414', '166',\n",
       "       '253', '266', '378', '466', '492', '496', '517', '559', '265',\n",
       "       '283', '315', '346', '359', '391', '485', '533', '168', '182',\n",
       "       '186', '205', '211', '172', '197', '139', '149', '155', '181',\n",
       "       '187', '210', '113', '482', '298', '338', '418', '475', '526',\n",
       "       '309', '334', '413', '454', '474', '285', '368', '431', '506',\n",
       "       '212', '170', '153', '192', '144', '209', '248', '367', '398',\n",
       "       '472', '557', '167', '201', '225', '310', '344', '406', '446',\n",
       "       '500', '523', '237', '260', '330', '349', '356', '387', '493',\n",
       "       '213', '169', '191', '173', '127'], dtype=object)"
      ]
     },
     "execution_count": 390,
     "metadata": {},
     "output_type": "execute_result"
    }
   ],
   "source": [
    "df_inner['CVE_MUN'] = list_CVE_MUN\n",
    "df_inner['CVE_MUN'].unique()"
   ]
  },
  {
   "cell_type": "code",
   "execution_count": 391,
   "metadata": {},
   "outputs": [
    {
     "data": {
      "text/plain": [
       "array(['0001', '1025', '0023', '0041', '0245', '0030', '0367', '0026',\n",
       "       '0109', '0482', '0040', '0144', '2381', '0992', '0988', '0047',\n",
       "       '0014', '0034', '0248', '0266', '0424', '0472', '0391', '0464',\n",
       "       '0028', '0261', '0370', '0393', '0024', '0008', '0107', '0133',\n",
       "       '0187', '0381', '1599', '1781', '1561', '2183', '0340', '1883',\n",
       "       '0089', '0118', '0211', '1273', '1303', '2086', '2317', '2575',\n",
       "       '2008', '3134', '1721', '2396', '1685', '3174', '0883', '1625',\n",
       "       '0873', '0054', '0753', '0280', '0003', '0247', '0952', '1435',\n",
       "       '0684', '0035', '0967', '0456', '1374', '0985', '1500', '0720',\n",
       "       '0738', '0939', '1164', '0004', '0007', '0087', '0101', '0199',\n",
       "       '0045', '0432', '0010', '0104', '0081', '3217', '0094', '0066',\n",
       "       '0027', '0043', '0050', '0569', '0568', '0333', '0838', '0761',\n",
       "       '0673', '1002', '0179', '0313', '0164', '0171', '0077', '0076',\n",
       "       '0124', '0236', '0355', '0680', '0130', '0382', '0153', '0638',\n",
       "       '0677', '0071', '0091', '0093', '0052', '0059', '0002', '0005',\n",
       "       '0018', '0025', '0080', '0098', '0011', '0037', '0019', '0057',\n",
       "       '0031', '0214', '0320', '0219', '0138', '1041', '1017', '0103',\n",
       "       '0136', '0013', '0068', '0020', '0143', '0097', '0078', '0150',\n",
       "       '0315', '0532', '0469', '0022', '0064', '0042', '0032', '0006',\n",
       "       '0061', '0258', '0439', '1600', '0683', '0015', '0207', '0036',\n",
       "       '0121', '0743', '0734', '0149', '0727', '0134', '0048', '0017',\n",
       "       '0073', '0029', '0072', '0012', '0169', '0634', '0584', '0628',\n",
       "       '0458', '0639', '0486', '0038', '0492', '0088', '0135', '0084',\n",
       "       '0208', '0210', '0206', '1984', '2099', '0196', '0256', '2051',\n",
       "       '0443', '0457', '0445', '0442', '0021', '0051', '0009', '0060',\n",
       "       '0193', '0242', '0293', '0157', '0156', '0601', '1597', '0188',\n",
       "       '0123', '0108', '0886', '0281', '0371', '0100', '0284', '0659',\n",
       "       '0292', '0044', '0122', '0062', '0220', '0147', '0132', '0785',\n",
       "       '0975', '0288', '1379', '0573', '0228', '0114', '0067', '0587',\n",
       "       '0294', '0758', '0694', '0053', '0159', '0760', '0151', '1399',\n",
       "       '1286', '1285', '0362', '0212', '0509', '0184', '0039', '0163',\n",
       "       '0120', '0463', '0450', '0112', '0016', '0086', '0033', '0090',\n",
       "       '0046', '0095', '0142', '0099', '0106', '0069', '0074', '0131',\n",
       "       '0063', '0158', '0191', '0110', '0082', '0049', '0055', '0822',\n",
       "       '0843', '0231', '0831', '0833', '0139', '0251', '0075', '0297',\n",
       "       '0079', '0083', '0058', '0514', '0096', '0070', '0317', '0102',\n",
       "       '0085', '0303', '0388', '0401', '0201', '0203', '0213', '0265',\n",
       "       '0283', '0318', '0396', '0125', '0111', '0115', '0116', '0128',\n",
       "       '0152', '0322', '0137', '0301', '0126', '0056', '0209', '0334',\n",
       "       '0273', '0515', '0462', '0338', '0259', '0287', '1688', '0950',\n",
       "       '0127', '0105', '0181', '0117', '0218', '0232', '0431', '0489',\n",
       "       '0467', '0092', '0065', '0255', '0253', '0237', '0321', '0119',\n",
       "       '0358', '0420', '1113', '0252', '0327', '0264', '0307', '0154',\n",
       "       '0141', '0267', '0162', '0312', '0160', '0205', '0746', '0304',\n",
       "       '0357', '0394', '0198', '0413', '3258', '0274', '1010', '0612',\n",
       "       '0227', '0155', '0605', '0215', '0216', '0571', '0494', '0387',\n",
       "       '0551', '0311', '0403', '0830', '0511', '1121', '2721', '2015',\n",
       "       '0821', '0176', '0113', '0177', '0224', '0254', '0170', '0291',\n",
       "       '0192', '1085', '1083', '0339', '0490', '1104', '0871', '0271',\n",
       "       '0217', '0238', '0226', '0186', '0241', '0166', '0165', '0182',\n",
       "       '0239', '0346', '1069', '0708', '0504', '0493', '0497', '0501',\n",
       "       '0200', '0408', '0319', '0221', '0427', '0345', '0429', '0707',\n",
       "       '0558', '1166', '0475', '0185', '1053', '1624', '0268', '1107',\n",
       "       '1284', '3539', '3442', '2629', '1759', '2899', '0679', '0444',\n",
       "       '0559', '1020', '0963', '2471', '0771', '1138', '4442', '1720',\n",
       "       '1717', '2717', '1603', '0417', '0342', '0616', '0366', '0685',\n",
       "       '0178', '0377', '0376', '0459', '0409', '0175', '0246', '0161',\n",
       "       '0243', '0257', '0354', '0384', '0202', '0349', '0308', '0576',\n",
       "       '0399', '0400', '1244', '0927', '1095', '1178', '1143', '1309',\n",
       "       '1307', '1318', '0234', '0578', '0733', '0608', '0719', '0960',\n",
       "       '0804', '0194', '0728', '0325', '0697', '1556', '1263', '1251',\n",
       "       '0754', '0453', '0703', '0148', '0180', '0435', '0523', '0520',\n",
       "       '0129', '0507', '0168', '0853', '0866', '0667', '0204', '0173',\n",
       "       '0145', '0190', '1154', '0717', '0363', '1261', '1207', '0538',\n",
       "       '0359', '0276', '0478', '0426', '0286', '0535', '1079', '0275',\n",
       "       '0341', '0530', '0557', '0801', '0951', '0811', '0590', '2127',\n",
       "       '1582', '0506', '1061', '1441', '0759', '0580', '1218', '0379',\n",
       "       '1071', '2223', '0240', '0555', '0222', '0295', '0607', '0632',\n",
       "       '0585', '1506', '1217', '0302', '0737', '0407', '0306', '0223',\n",
       "       '0230', '0233', '0876', '0563', '0360', '0336', '0440', '0348',\n",
       "       '0385', '2402', '0548', '0922', '2043', '2346', '1181', '0982',\n",
       "       '2198', '0465', '0461', '0262', '2364', '2141', '2142', '4260',\n",
       "       '4645', '3221', '1027', '0678', '1876', '0380', '2578', '2832',\n",
       "       '1347', '2219', '2873', '2108', '2964', '1064', '1338', '0654',\n",
       "       '0353', '1073', '2842', '0674', '0672', '0521', '0663', '0682',\n",
       "       '0390', '0290', '0602', '0361', '0823', '0337', '2677', '3045',\n",
       "       '1421', '1861', '1593', '1016', '1011', '1760', '1046', '1197',\n",
       "       '1125', '1341', '1383', '1371', '1370', '1327', '1314', '1377',\n",
       "       '1321', '1378', '0430', '0167', '0705', '0611', '0296', '0375',\n",
       "       '0278', '0309', '0365', '0986', '2047', '2059', '2815', '0480',\n",
       "       '0964', '0662', '0229', '0324', '0279', '1671', '0451', '0848',\n",
       "       '0872', '0364', '1196', '0778', '0706', '0422', '0570', '0140',\n",
       "       '0146', '0438', '0502', '0449', '0235', '0352', '0473', '0373',\n",
       "       '0183', '0174', '0884', '0657', '0536', '1072', '0416', '0818',\n",
       "       '0622', '1124', '0797', '0282', '2426', '0993', '1439', '0505',\n",
       "       '2234', '0888', '0624', '0249', '0598', '1523', '0899', '1543',\n",
       "       '0326', '0343', '0289', '0666', '0433', '0660', '0428', '0774',\n",
       "       '0369', '0244', '0824', '1044', '1248', '1006', '0414', '0397',\n",
       "       '0564', '0652', '1136', '1573', '1542', '1654', '2496', '1773',\n",
       "       '2252', '2166', '3071', '1757', '1811', '0798', '1630', '2362',\n",
       "       '1906', '2493', '1903', '1953', '1955', '1970', '1969', '1873',\n",
       "       '1991', '0610', '0479', '0614', '3395', '3430', '3631', '3477',\n",
       "       '3634', '4004', '0763', '0947', '0966', '0865', '0272', '0412',\n",
       "       '1148', '0455', '0441', '0405', '0669', '1234', '0766', '2795',\n",
       "       '2727', '2623', '2652', '2654', '1570', '2836', '0600', '0650',\n",
       "       '0627', '0806', '0299', '0594', '0909', '1045', '1763', '0718',\n",
       "       '0983', '1482', '0987', '0488', '0845', '0269', '0477', '0813',\n",
       "       '0839', '0305', '0410', '0721', '0332', '0172', '0300', '0437',\n",
       "       '0392', '0404', '0189', '0378', '0597', '0695', '0793', '0704',\n",
       "       '0344', '0483', '0374', '0549', '1151', '1225', '1168', '0539',\n",
       "       '0642', '1677', '1243', '3028', '2437', '0398', '1144', '1111',\n",
       "       '1283', '0329', '0776', '0285', '0495', '1436', '0418', '0637',\n",
       "       '0629'], dtype=object)"
      ]
     },
     "execution_count": 391,
     "metadata": {},
     "output_type": "execute_result"
    }
   ],
   "source": [
    "df_inner['CVE_LOC'] = list_CVE_LOC\n",
    "df_inner['CVE_LOC'].unique()"
   ]
  },
  {
   "cell_type": "markdown",
   "metadata": {},
   "source": [
    "### Drop all columns down 50% na threshold"
   ]
  },
  {
   "cell_type": "code",
   "execution_count": 271,
   "metadata": {},
   "outputs": [],
   "source": [
    "n = df_inner.columns.values.tolist()\n",
    "m = round(df_inner.shape[0]*.50)\n",
    "l = []\n",
    "for i in n:\n",
    "    if df_inner[i].value_counts().get(-1) != None:\n",
    "        if m < df_inner[i].value_counts().get(-1):\n",
    "            l.append(i)\n",
    "            df_inner.drop(labels=i, axis=1, inplace=True)"
   ]
  },
  {
   "cell_type": "code",
   "execution_count": 272,
   "metadata": {},
   "outputs": [
    {
     "data": {
      "text/plain": [
       "['ais_otro',\n",
       " 'ais_pared',\n",
       " 'ais_techos',\n",
       " 'ais_ventan',\n",
       " 'anio_panel',\n",
       " 'anio_res',\n",
       " 'auto_pick',\n",
       " 'calent_gas',\n",
       " 'calent_sol',\n",
       " 'celular_x',\n",
       " 'comun1',\n",
       " 'comun10',\n",
       " 'comun11',\n",
       " 'comun12',\n",
       " 'comun13',\n",
       " 'comun14',\n",
       " 'comun15',\n",
       " 'comun16',\n",
       " 'comun17',\n",
       " 'comun2',\n",
       " 'comun3',\n",
       " 'comun4',\n",
       " 'comun5',\n",
       " 'comun6',\n",
       " 'comun7',\n",
       " 'comun8',\n",
       " 'comun9',\n",
       " 'condominio',\n",
       " 'dispos_ne',\n",
       " 'dispos_nh1',\n",
       " 'dispos_nh2',\n",
       " 'dispos_no1',\n",
       " 'dispos_no2',\n",
       " 'elevador',\n",
       " 'estaciona',\n",
       " 'estufa_chi',\n",
       " 'factor',\n",
       " 'facul_ne',\n",
       " 'facul_nh1',\n",
       " 'facul_nh2',\n",
       " 'facul_no1',\n",
       " 'facul_no2',\n",
       " 'familiar',\n",
       " 'financia_1',\n",
       " 'financia_2',\n",
       " 'financia_3',\n",
       " 'financia_4',\n",
       " 'financia_5',\n",
       " 'financia_6',\n",
       " 'financia_7',\n",
       " 'financia_8',\n",
       " 'hog_dueno2',\n",
       " 'mes_res',\n",
       " 'num_dueno2',\n",
       " 'pago_renta',\n",
       " 'panel_ne',\n",
       " 'pot_panel',\n",
       " 'potencia',\n",
       " 'rega_elect',\n",
       " 'ren_estufa',\n",
       " 'ren_horno',\n",
       " 'ren_lavad',\n",
       " 'ren_planch',\n",
       " 'ren_refri',\n",
       " 'ren_tv',\n",
       " 'tel_fijo_x',\n",
       " 'tipo_finan',\n",
       " 'tv_paga_x',\n",
       " 'valor_viv',\n",
       " 'vend_hered',\n",
       " 'viv_usada',\n",
       " 'adqui_pc',\n",
       " 'cel_hogar',\n",
       " 'chofer',\n",
       " 'cocinero',\n",
       " 'compu_uso2',\n",
       " 'conex_int1',\n",
       " 'conex_int2',\n",
       " 'conex_int3',\n",
       " 'conex_int4',\n",
       " 'conex_int5',\n",
       " 'conex_int6',\n",
       " 'conex_int7',\n",
       " 'cuid_perso',\n",
       " 'edad_tra10',\n",
       " 'edad_trab1',\n",
       " 'edad_trab2',\n",
       " 'edad_trab3',\n",
       " 'edad_trab4',\n",
       " 'edad_trab5',\n",
       " 'edad_trab6',\n",
       " 'edad_trab7',\n",
       " 'edad_trab8',\n",
       " 'edad_trab9',\n",
       " 'fija_movil',\n",
       " 'forma_pago',\n",
       " 'huesp_come',\n",
       " 'inte_12mes',\n",
       " 'jardinero',\n",
       " 'lavandero',\n",
       " 'linea_cel',\n",
       " 'linea_com',\n",
       " 'lugar_inte',\n",
       " 'monto_pc',\n",
       " 'no_compu',\n",
       " 'no_internt',\n",
       " 'pago_inter',\n",
       " 'pago_pc',\n",
       " 'pc_nueva',\n",
       " 'tiempo_pc',\n",
       " 'trabaja_do',\n",
       " 'videojuego']"
      ]
     },
     "execution_count": 272,
     "metadata": {},
     "output_type": "execute_result"
    }
   ],
   "source": [
    "l"
   ]
  },
  {
   "cell_type": "code",
   "execution_count": 393,
   "metadata": {},
   "outputs": [
    {
     "data": {
      "text/plain": [
       "(254928, 60)"
      ]
     },
     "execution_count": 393,
     "metadata": {},
     "output_type": "execute_result"
    }
   ],
   "source": [
    "df_inner.shape"
   ]
  },
  {
   "cell_type": "code",
   "execution_count": 282,
   "metadata": {},
   "outputs": [],
   "source": [
    "l_2 = ['Unnamed: 0_x', 'Unnamed: 0_y', 'ageb', 'est_dis', 'factor_viv', 'folioviv', 'hog_dueno1', 'num_dueno1', 'upm', 'celular_y', 'compu_uso', 'conex_inte', 'factor_hog', 'foliohog', 'tel_fijo_y', 'tv_paga_y', 'const_neg', 'cocina_dor', 'tipo_adqui', 'const_neg', 'cocina_dor', 'tipo_adqui', 'celular_y', 'compu_uso', 'conex_inte', 'num_trab_d', 'radio', 'tel_fijo_y', 'tv_analogi', 'tv_digital', 'tv_paga_y', 'escrituras', 'tot_resid', ubica_geo]"
   ]
  },
  {
   "cell_type": "code",
   "execution_count": 279,
   "metadata": {},
   "outputs": [],
   "source": [
    "df_inner['año'] = df_inner.year_x"
   ]
  },
  {
   "cell_type": "code",
   "execution_count": 280,
   "metadata": {},
   "outputs": [],
   "source": [
    "df_inner.drop(labels=['year_x', 'year_y'], axis=1, inplace=True)"
   ]
  },
  {
   "cell_type": "code",
   "execution_count": 283,
   "metadata": {},
   "outputs": [
    {
     "ename": "ValueError",
     "evalue": "labels ['Unnamed: 0_x' 'Unnamed: 0_y' 'ageb' 'est_dis' 'factor_viv' 'folioviv'\n 'hog_dueno1' 'num_dueno1' 'upm' 'celular_y' 'compu_uso' 'conex_inte'\n 'factor_hog' 'foliohog' 'tel_fijo_y' 'tv_paga_y' 'const_neg' 'cocina_dor'\n 'tipo_adqui' 'const_neg' 'cocina_dor' 'tipo_adqui' 'celular_y' 'compu_uso'\n 'conex_inte' 'num_trab_d' 'radio' 'tel_fijo_y' 'tv_analogi' 'tv_digital'\n 'tv_paga_y'] not contained in axis",
     "output_type": "error",
     "traceback": [
      "\u001b[0;31m---------------------------------------------------------------------------\u001b[0m",
      "\u001b[0;31mValueError\u001b[0m                                Traceback (most recent call last)",
      "\u001b[0;32m<ipython-input-283-9e7872b3ff33>\u001b[0m in \u001b[0;36m<module>\u001b[0;34m()\u001b[0m\n\u001b[0;32m----> 1\u001b[0;31m \u001b[0mdf_inner\u001b[0m\u001b[0;34m.\u001b[0m\u001b[0mdrop\u001b[0m\u001b[0;34m(\u001b[0m\u001b[0mlabels\u001b[0m\u001b[0;34m=\u001b[0m\u001b[0ml_2\u001b[0m\u001b[0;34m,\u001b[0m \u001b[0maxis\u001b[0m\u001b[0;34m=\u001b[0m\u001b[0;36m1\u001b[0m\u001b[0;34m,\u001b[0m \u001b[0minplace\u001b[0m\u001b[0;34m=\u001b[0m\u001b[0;32mTrue\u001b[0m\u001b[0;34m)\u001b[0m\u001b[0;34m\u001b[0m\u001b[0m\n\u001b[0m\u001b[1;32m      2\u001b[0m \u001b[0mdf_inner\u001b[0m\u001b[0;34m.\u001b[0m\u001b[0mshape\u001b[0m\u001b[0;34m\u001b[0m\u001b[0m\n",
      "\u001b[0;32m~/.pyenv/versions/anaconda3-5.1.0/lib/python3.6/site-packages/pandas/core/generic.py\u001b[0m in \u001b[0;36mdrop\u001b[0;34m(self, labels, axis, index, columns, level, inplace, errors)\u001b[0m\n\u001b[1;32m   2528\u001b[0m         \u001b[0;32mfor\u001b[0m \u001b[0maxis\u001b[0m\u001b[0;34m,\u001b[0m \u001b[0mlabels\u001b[0m \u001b[0;32min\u001b[0m \u001b[0maxes\u001b[0m\u001b[0;34m.\u001b[0m\u001b[0mitems\u001b[0m\u001b[0;34m(\u001b[0m\u001b[0;34m)\u001b[0m\u001b[0;34m:\u001b[0m\u001b[0;34m\u001b[0m\u001b[0m\n\u001b[1;32m   2529\u001b[0m             \u001b[0;32mif\u001b[0m \u001b[0mlabels\u001b[0m \u001b[0;32mis\u001b[0m \u001b[0;32mnot\u001b[0m \u001b[0;32mNone\u001b[0m\u001b[0;34m:\u001b[0m\u001b[0;34m\u001b[0m\u001b[0m\n\u001b[0;32m-> 2530\u001b[0;31m                 \u001b[0mobj\u001b[0m \u001b[0;34m=\u001b[0m \u001b[0mobj\u001b[0m\u001b[0;34m.\u001b[0m\u001b[0m_drop_axis\u001b[0m\u001b[0;34m(\u001b[0m\u001b[0mlabels\u001b[0m\u001b[0;34m,\u001b[0m \u001b[0maxis\u001b[0m\u001b[0;34m,\u001b[0m \u001b[0mlevel\u001b[0m\u001b[0;34m=\u001b[0m\u001b[0mlevel\u001b[0m\u001b[0;34m,\u001b[0m \u001b[0merrors\u001b[0m\u001b[0;34m=\u001b[0m\u001b[0merrors\u001b[0m\u001b[0;34m)\u001b[0m\u001b[0;34m\u001b[0m\u001b[0m\n\u001b[0m\u001b[1;32m   2531\u001b[0m \u001b[0;34m\u001b[0m\u001b[0m\n\u001b[1;32m   2532\u001b[0m         \u001b[0;32mif\u001b[0m \u001b[0minplace\u001b[0m\u001b[0;34m:\u001b[0m\u001b[0;34m\u001b[0m\u001b[0m\n",
      "\u001b[0;32m~/.pyenv/versions/anaconda3-5.1.0/lib/python3.6/site-packages/pandas/core/generic.py\u001b[0m in \u001b[0;36m_drop_axis\u001b[0;34m(self, labels, axis, level, errors)\u001b[0m\n\u001b[1;32m   2560\u001b[0m                 \u001b[0mnew_axis\u001b[0m \u001b[0;34m=\u001b[0m \u001b[0maxis\u001b[0m\u001b[0;34m.\u001b[0m\u001b[0mdrop\u001b[0m\u001b[0;34m(\u001b[0m\u001b[0mlabels\u001b[0m\u001b[0;34m,\u001b[0m \u001b[0mlevel\u001b[0m\u001b[0;34m=\u001b[0m\u001b[0mlevel\u001b[0m\u001b[0;34m,\u001b[0m \u001b[0merrors\u001b[0m\u001b[0;34m=\u001b[0m\u001b[0merrors\u001b[0m\u001b[0;34m)\u001b[0m\u001b[0;34m\u001b[0m\u001b[0m\n\u001b[1;32m   2561\u001b[0m             \u001b[0;32melse\u001b[0m\u001b[0;34m:\u001b[0m\u001b[0;34m\u001b[0m\u001b[0m\n\u001b[0;32m-> 2562\u001b[0;31m                 \u001b[0mnew_axis\u001b[0m \u001b[0;34m=\u001b[0m \u001b[0maxis\u001b[0m\u001b[0;34m.\u001b[0m\u001b[0mdrop\u001b[0m\u001b[0;34m(\u001b[0m\u001b[0mlabels\u001b[0m\u001b[0;34m,\u001b[0m \u001b[0merrors\u001b[0m\u001b[0;34m=\u001b[0m\u001b[0merrors\u001b[0m\u001b[0;34m)\u001b[0m\u001b[0;34m\u001b[0m\u001b[0m\n\u001b[0m\u001b[1;32m   2563\u001b[0m             \u001b[0mdropped\u001b[0m \u001b[0;34m=\u001b[0m \u001b[0mself\u001b[0m\u001b[0;34m.\u001b[0m\u001b[0mreindex\u001b[0m\u001b[0;34m(\u001b[0m\u001b[0;34m**\u001b[0m\u001b[0;34m{\u001b[0m\u001b[0maxis_name\u001b[0m\u001b[0;34m:\u001b[0m \u001b[0mnew_axis\u001b[0m\u001b[0;34m}\u001b[0m\u001b[0;34m)\u001b[0m\u001b[0;34m\u001b[0m\u001b[0m\n\u001b[1;32m   2564\u001b[0m             \u001b[0;32mtry\u001b[0m\u001b[0;34m:\u001b[0m\u001b[0;34m\u001b[0m\u001b[0m\n",
      "\u001b[0;32m~/.pyenv/versions/anaconda3-5.1.0/lib/python3.6/site-packages/pandas/core/indexes/base.py\u001b[0m in \u001b[0;36mdrop\u001b[0;34m(self, labels, errors)\u001b[0m\n\u001b[1;32m   3742\u001b[0m             \u001b[0;32mif\u001b[0m \u001b[0merrors\u001b[0m \u001b[0;34m!=\u001b[0m \u001b[0;34m'ignore'\u001b[0m\u001b[0;34m:\u001b[0m\u001b[0;34m\u001b[0m\u001b[0m\n\u001b[1;32m   3743\u001b[0m                 raise ValueError('labels %s not contained in axis' %\n\u001b[0;32m-> 3744\u001b[0;31m                                  labels[mask])\n\u001b[0m\u001b[1;32m   3745\u001b[0m             \u001b[0mindexer\u001b[0m \u001b[0;34m=\u001b[0m \u001b[0mindexer\u001b[0m\u001b[0;34m[\u001b[0m\u001b[0;34m~\u001b[0m\u001b[0mmask\u001b[0m\u001b[0;34m]\u001b[0m\u001b[0;34m\u001b[0m\u001b[0m\n\u001b[1;32m   3746\u001b[0m         \u001b[0;32mreturn\u001b[0m \u001b[0mself\u001b[0m\u001b[0;34m.\u001b[0m\u001b[0mdelete\u001b[0m\u001b[0;34m(\u001b[0m\u001b[0mindexer\u001b[0m\u001b[0;34m)\u001b[0m\u001b[0;34m\u001b[0m\u001b[0m\n",
      "\u001b[0;31mValueError\u001b[0m: labels ['Unnamed: 0_x' 'Unnamed: 0_y' 'ageb' 'est_dis' 'factor_viv' 'folioviv'\n 'hog_dueno1' 'num_dueno1' 'upm' 'celular_y' 'compu_uso' 'conex_inte'\n 'factor_hog' 'foliohog' 'tel_fijo_y' 'tv_paga_y' 'const_neg' 'cocina_dor'\n 'tipo_adqui' 'const_neg' 'cocina_dor' 'tipo_adqui' 'celular_y' 'compu_uso'\n 'conex_inte' 'num_trab_d' 'radio' 'tel_fijo_y' 'tv_analogi' 'tv_digital'\n 'tv_paga_y'] not contained in axis"
     ]
    }
   ],
   "source": [
    "df_inner.drop(labels=l_2, axis=1, inplace=True)\n",
    "df_inner.shape"
   ]
  },
  {
   "cell_type": "code",
   "execution_count": 287,
   "metadata": {},
   "outputs": [
    {
     "name": "stdout",
     "output_type": "stream",
     "text": [
      "aire_acond  :  2    207467\n",
      "1     47461\n",
      "Name: aire_acond, dtype: int64 \n",
      "\n",
      "antiguedad  :  -1     64173\n",
      " 20    16408\n",
      " 10    15677\n",
      " 30    14071\n",
      " 15    13152\n",
      " 25     8366\n",
      " 40     7913\n",
      " 8      7485\n",
      " 5      7393\n",
      " 12     6169\n",
      " 7      5764\n",
      " 6      5693\n",
      " 3      4890\n",
      " 4      4863\n",
      " 35     4777\n",
      " 9      4398\n",
      " 2      4282\n",
      " 50     4004\n",
      " 18     3912\n",
      " 14     3550\n",
      " 13     3318\n",
      " 1      3235\n",
      " 16     3098\n",
      " 17     2824\n",
      " 11     2699\n",
      " 22     2552\n",
      " 28     1969\n",
      " 23     1942\n",
      " 45     1765\n",
      " 24     1683\n",
      "       ...  \n",
      " 63       43\n",
      " 66       38\n",
      " 67       31\n",
      " 74       25\n",
      " 77       23\n",
      " 85       20\n",
      " 61       18\n",
      " 72       17\n",
      " 78       16\n",
      " 73       15\n",
      " 69       15\n",
      " 76       14\n",
      " 71       13\n",
      " 95       12\n",
      " 86        9\n",
      " 87        8\n",
      " 84        8\n",
      " 98        8\n",
      " 81        8\n",
      " 79        6\n",
      " 82        5\n",
      " 83        5\n",
      " 88        5\n",
      " 89        4\n",
      " 97        3\n",
      " 92        2\n",
      " 94        2\n",
      " 93        1\n",
      " 96        1\n",
      " 91        1\n",
      "Name: antiguedad, Length: 101, dtype: int64 \n",
      "\n",
      "bano_comp  :   1    136654\n",
      " 0     68404\n",
      " 2     33084\n",
      "-1      8900\n",
      " 3      6096\n",
      " 4      1342\n",
      " 5       326\n",
      " 6        90\n",
      " 7        23\n",
      " 8         5\n",
      " 9         4\n",
      "Name: bano_comp, dtype: int64 \n",
      "\n",
      "bano_excus  :   0    149447\n",
      " 1     91457\n",
      "-1      8900\n",
      " 2      4524\n",
      " 3       312\n",
      " 9       165\n",
      " 4        57\n",
      " 8        39\n",
      " 5        16\n",
      " 6        11\n",
      "Name: bano_excus, dtype: int64 \n",
      "\n",
      "bano_regad  :   0    239110\n",
      "-1      8900\n",
      " 1      6556\n",
      " 9       181\n",
      " 2       122\n",
      " 8        39\n",
      " 3        14\n",
      " 5         3\n",
      " 4         2\n",
      " 6         1\n",
      "Name: bano_regad, dtype: int64 \n",
      "\n",
      "bomba_agua  :  2    194725\n",
      "1     60203\n",
      "Name: bomba_agua, dtype: int64 \n",
      "\n",
      "calefacc  :  2    249592\n",
      "1      5336\n",
      "Name: calefacc, dtype: int64 \n",
      "\n",
      "calentador  :  2    188458\n",
      "1     66470\n",
      "Name: calentador, dtype: int64 \n",
      "\n",
      "chimenea  :  2    247405\n",
      "1      7523\n",
      "Name: chimenea, dtype: int64 \n",
      "\n",
      "cisterna  :  2    205340\n",
      "1     49588\n",
      "Name: cisterna, dtype: int64 \n",
      "\n",
      "cocina  :  1    240091\n",
      "2     14837\n",
      "Name: cocina, dtype: int64 \n",
      "\n",
      "combustible  :   3    196345\n",
      " 1     39439\n",
      " 4     12764\n",
      " 6      2812\n",
      " 5      2722\n",
      " 2       844\n",
      "-1         2\n",
      "Name: combustible, dtype: int64 \n",
      "\n",
      "computador  :   2    160754\n",
      " 1     94158\n",
      "-1        16\n",
      "Name: computador, dtype: int64 \n",
      "\n",
      "const_bano  :  2    162816\n",
      "1     92112\n",
      "Name: const_bano, dtype: int64 \n",
      "\n",
      "const_coci  :  2    179220\n",
      "1     75708\n",
      "Name: const_coci, dtype: int64 \n",
      "\n",
      "const_dorm  :  2    144047\n",
      "1    110881\n",
      "Name: const_dorm, dtype: int64 \n",
      "\n",
      "cuart_dorm  :  2     106440\n",
      "1      82229\n",
      "3      52013\n",
      "4      11431\n",
      "5       2125\n",
      "6        497\n",
      "7        127\n",
      "8         50\n",
      "9          7\n",
      "11         6\n",
      "10         2\n",
      "15         1\n",
      "Name: cuart_dorm, dtype: int64 \n",
      "\n",
      "disp_agua  :  1    184206\n",
      "2     53654\n",
      "6      9677\n",
      "5      3627\n",
      "4      3101\n",
      "3       663\n",
      "Name: disp_agua, dtype: int64 \n",
      "\n",
      "disp_elect  :  1    252759\n",
      "5      1524\n",
      "3       434\n",
      "2       136\n",
      "4        75\n",
      "Name: disp_elect, dtype: int64 \n",
      "\n",
      "dotac_agua  :   1    176209\n",
      " 2     35536\n",
      "-1     17068\n",
      " 3     11444\n",
      " 4      8429\n",
      " 5      6242\n",
      "Name: dotac_agua, dtype: int64 \n",
      "\n",
      "drenaje  :  1    182440\n",
      "2     54053\n",
      "5     15795\n",
      "3      1744\n",
      "4       896\n",
      "Name: drenaje, dtype: int64 \n",
      "\n",
      "eli_basura  :  1    203373\n",
      "3     21572\n",
      "4     17255\n",
      "2      9210\n",
      "5      1912\n",
      "6      1294\n",
      "7       282\n",
      "8        30\n",
      "Name: eli_basura, dtype: int64 \n",
      "\n",
      "est_socio  :  2    130929\n",
      "3     53949\n",
      "1     47823\n",
      "4     22227\n",
      "Name: est_socio, dtype: int64 \n",
      "\n",
      "excusado  :  1    246028\n",
      "2      8900\n",
      "Name: excusado, dtype: int64 \n",
      "\n",
      "focos_ahor  :   0     41392\n",
      " 4     26609\n",
      " 5     24706\n",
      " 3     24471\n",
      " 6     23551\n",
      " 2     20402\n",
      " 7     16527\n",
      " 8     15995\n",
      " 1     13216\n",
      " 10    11872\n",
      " 9      7948\n",
      " 12     5599\n",
      " 15     3711\n",
      " 11     3564\n",
      " 20     2492\n",
      " 13     2091\n",
      " 14     1995\n",
      "-1      1559\n",
      " 16     1247\n",
      " 18      934\n",
      " 30      720\n",
      " 25      687\n",
      " 17      662\n",
      " 22      377\n",
      " 19      319\n",
      " 40      272\n",
      " 21      248\n",
      " 23      215\n",
      " 24      203\n",
      " 50      192\n",
      "       ...  \n",
      " 55        9\n",
      " 56        9\n",
      " 43        8\n",
      " 47        7\n",
      " 65        6\n",
      " 52        6\n",
      " 48        5\n",
      " 41        5\n",
      " 54        5\n",
      " 46        5\n",
      " 64        4\n",
      " 58        4\n",
      " 75        4\n",
      " 98        3\n",
      " 63        3\n",
      " 66        2\n",
      " 49        2\n",
      " 57        2\n",
      " 88        2\n",
      " 53        2\n",
      " 92        2\n",
      " 51        2\n",
      " 74        1\n",
      " 61        1\n",
      " 76        1\n",
      " 77        1\n",
      " 82        1\n",
      " 95        1\n",
      " 96        1\n",
      " 62        1\n",
      "Name: focos_ahor, Length: 81, dtype: int64 \n",
      "\n",
      "focos_inca  :   0     135254\n",
      " 2      25528\n",
      " 1      23338\n",
      " 3      21002\n",
      " 4      16530\n",
      " 5      11404\n",
      " 6       7584\n",
      " 7       4227\n",
      " 8       3074\n",
      " 10      1667\n",
      "-1       1559\n",
      " 9       1408\n",
      " 12       516\n",
      " 11       457\n",
      " 15       307\n",
      " 13       197\n",
      " 14       178\n",
      " 20       154\n",
      " 16        94\n",
      " 18        66\n",
      " 17        63\n",
      " 25        59\n",
      " 30        50\n",
      " 22        27\n",
      " 19        23\n",
      " 21        18\n",
      " 24        18\n",
      " 50        13\n",
      " 23        11\n",
      " 40        10\n",
      " 26         8\n",
      " 35         8\n",
      " 28         7\n",
      " 60         7\n",
      " 27         7\n",
      " 34         6\n",
      " 33         6\n",
      " 99         5\n",
      " 32         5\n",
      " 29         5\n",
      " 45         4\n",
      " 70         3\n",
      " 36         3\n",
      " 98         2\n",
      " 65         2\n",
      " 39         2\n",
      " 38         2\n",
      " 42         1\n",
      " 31         1\n",
      " 49         1\n",
      " 75         1\n",
      " 78         1\n",
      " 80         1\n",
      " 90         1\n",
      " 91         1\n",
      " 37         1\n",
      " 46         1\n",
      "Name: focos_inca, dtype: int64 \n",
      "\n",
      "fregadero  :  1    152833\n",
      "2    102095\n",
      "Name: fregadero, dtype: int64 \n",
      "\n",
      "internet  :   2    140864\n",
      " 1    113913\n",
      "-1       151\n",
      "Name: internet, dtype: int64 \n",
      "\n",
      "lavadero  :  1    212457\n",
      "2     42471\n",
      "Name: lavadero, dtype: int64 \n",
      "\n",
      "mat_pared  :  8    224290\n",
      "7     17430\n",
      "6      9398\n",
      "3      1414\n",
      "5       971\n",
      "4       795\n",
      "2       341\n",
      "1       289\n",
      "Name: mat_pared, dtype: int64 \n",
      "\n",
      "mat_pisos  :   2    129950\n",
      " 3    118594\n",
      " 1      6381\n",
      "-1         3\n",
      "Name: mat_pisos, dtype: int64 \n",
      "\n",
      "mat_techos  :  9    188477\n",
      "3     35125\n",
      "4     14354\n",
      "6      5899\n",
      "8      4119\n",
      "7      2796\n",
      "2      2579\n",
      "5      1389\n",
      "1       190\n",
      "Name: mat_techos, dtype: int64 \n",
      "\n",
      "medidor_luz  :  1    238198\n",
      "2     16730\n",
      "Name: medidor_luz, dtype: int64 \n",
      "\n",
      "num_cuarto  :  4     68117\n",
      "3     59419\n",
      "5     44470\n",
      "2     33900\n",
      "6     19896\n",
      "1     14558\n",
      "7      8077\n",
      "8      3820\n",
      "9      1446\n",
      "10      732\n",
      "11      223\n",
      "12      168\n",
      "13       50\n",
      "14       23\n",
      "15       13\n",
      "16        8\n",
      "17        3\n",
      "22        2\n",
      "20        1\n",
      "18        1\n",
      "19        1\n",
      "Name: num_cuarto, dtype: int64 \n",
      "\n",
      "pileta  :  2    146980\n",
      "1    107948\n",
      "Name: pileta, dtype: int64 \n",
      "\n",
      "regadera  :  1    182515\n",
      "2     72413\n",
      "Name: regadera, dtype: int64 \n",
      "\n",
      "repar_agua  :  2    211639\n",
      "1     43289\n",
      "Name: repar_agua, dtype: int64 \n",
      "\n",
      "repar_cabl  :  2    199447\n",
      "1     55481\n",
      "Name: repar_cabl, dtype: int64 \n",
      "\n",
      "repar_dren  :  2    222439\n",
      "1     32489\n",
      "Name: repar_dren, dtype: int64 \n",
      "\n",
      "repar_pard  :  2    134287\n",
      "1    120641\n",
      "Name: repar_pard, dtype: int64 \n",
      "\n",
      "repar_tech  :  2    133578\n",
      "1    121350\n",
      "Name: repar_tech, dtype: int64 \n",
      "\n",
      "sanit_agua  :   1    174423\n",
      " 2     60115\n",
      " 3     11490\n",
      "-1      8900\n",
      "Name: sanit_agua, dtype: int64 \n",
      "\n",
      "tam_loc  :  1    112776\n",
      "4     60833\n",
      "3     40804\n",
      "2     40515\n",
      "Name: tam_loc, dtype: int64 \n",
      "\n",
      "tanque_gas  :  2    229923\n",
      "1     25005\n",
      "Name: tanque_gas, dtype: int64 \n",
      "\n",
      "tenencia  :  4    141938\n",
      "2     39767\n",
      "1     34930\n",
      "3     28204\n",
      "5      6440\n",
      "6      3649\n",
      "Name: tenencia, dtype: int64 \n",
      "\n",
      "tinaco_azo  :  1    142949\n",
      "2    111979\n",
      "Name: tinaco_azo, dtype: int64 \n",
      "\n",
      "tipo_viv  :   1    243199\n",
      " 2      8930\n",
      " 3      2376\n",
      "-1       198\n",
      " 5       147\n",
      " 4        78\n",
      "Name: tipo_viv, dtype: int64 \n",
      "\n",
      "tot_hog  :  1    247473\n",
      "2      5958\n",
      "3      1207\n",
      "4       249\n",
      "5        41\n",
      "Name: tot_hog, dtype: int64 \n",
      "\n",
      "ubica_geo  :  10010001     5309\n",
      "230050001    4271\n",
      "310500001    3284\n",
      "260300001    3091\n",
      "20040001     3048\n",
      "100050001    3039\n",
      "220140001    3007\n",
      "30030001     2910\n",
      "80190001     2599\n",
      "50300001     2573\n",
      "250060001    2541\n",
      "40020001     2482\n",
      "180170001    2358\n",
      "80370001     2249\n",
      "240280001    2190\n",
      "110200001    2176\n",
      "211140001    1975\n",
      "60100001     1689\n",
      "190390001    1669\n",
      "160530001    1590\n",
      "20020001     1571\n",
      "120010001    1553\n",
      "60020001     1551\n",
      "90070001     1529\n",
      "170070001    1458\n",
      "140390001    1454\n",
      "270040001    1442\n",
      "50350001     1348\n",
      "130480001    1318\n",
      "141200001    1249\n",
      "             ... \n",
      "260560017       1\n",
      "50040441        1\n",
      "240420045       1\n",
      "190180179       1\n",
      "250060642       1\n",
      "30032108        1\n",
      "30032364        1\n",
      "120640062       1\n",
      "30032964        1\n",
      "60010209        1\n",
      "80200235        1\n",
      "190380597       1\n",
      "20013221        1\n",
      "70592727        1\n",
      "10090094        1\n",
      "310350008       1\n",
      "230021072       1\n",
      "70651371        1\n",
      "10012198        1\n",
      "60010315        1\n",
      "280290255       1\n",
      "320060018       1\n",
      "70592623        1\n",
      "120730570       1\n",
      "210060027       1\n",
      "190380704       1\n",
      "210060034       1\n",
      "301420170       1\n",
      "240110163       1\n",
      "250140070       1\n",
      "Name: ubica_geo, Length: 5677, dtype: int64 \n",
      "\n",
      "uso_compar  :   2    234650\n",
      " 1     11378\n",
      "-1      8900\n",
      "Name: uso_compar, dtype: int64 \n",
      "\n",
      "huespedes  :  0    254836\n",
      "1        59\n",
      "2        21\n",
      "3        11\n",
      "5         1\n",
      "Name: huespedes, dtype: int64 \n",
      "\n",
      "tot_hom  :  1     94194\n",
      "2     77249\n",
      "3     41202\n",
      "0     21629\n",
      "4     14402\n",
      "5      4330\n",
      "6      1289\n",
      "7       405\n",
      "8       150\n",
      "9        49\n",
      "10       16\n",
      "11        7\n",
      "13        3\n",
      "12        3\n",
      "Name: tot_hom, dtype: int64 \n",
      "\n",
      "tot_integ  :  4     58486\n",
      "3     50397\n",
      "2     44600\n",
      "5     39955\n",
      "1     25631\n",
      "6     18564\n",
      "7      8720\n",
      "8      4147\n",
      "9      2113\n",
      "10     1155\n",
      "11      569\n",
      "12      254\n",
      "13      144\n",
      "14       75\n",
      "15       48\n",
      "16       29\n",
      "17       17\n",
      "20        9\n",
      "19        7\n",
      "18        6\n",
      "22        1\n",
      "24        1\n",
      "Name: tot_integ, dtype: int64 \n",
      "\n",
      "tot_muj  :  1     90621\n",
      "2     78749\n",
      "3     43443\n",
      "0     18134\n",
      "4     16267\n",
      "5      5135\n",
      "6      1709\n",
      "7       569\n",
      "8       193\n",
      "9        74\n",
      "10       24\n",
      "13        5\n",
      "11        4\n",
      "12        1\n",
      "Name: tot_muj, dtype: int64 \n",
      "\n",
      "celular  :   1    169924\n",
      " 2     84986\n",
      "-1        18\n",
      "Name: celular, dtype: int64 \n",
      "\n",
      "tel_fijo  :   2    159306\n",
      " 1     95605\n",
      "-1        17\n",
      "Name: tel_fijo, dtype: int64 \n",
      "\n",
      "tv_paga  :   1    144762\n",
      " 2    110073\n",
      "-1        93\n",
      "Name: tv_paga, dtype: int64 \n",
      "\n",
      "año  :  2015    76596\n",
      "2014    61726\n",
      "2016    59083\n",
      "2017    57523\n",
      "Name: año, dtype: int64 \n",
      "\n"
     ]
    }
   ],
   "source": [
    "for line in df_inner.columns:\n",
    "    print(line, ' : ', df_inner[line].value_counts(), '\\n')"
   ]
  },
  {
   "cell_type": "code",
   "execution_count": 394,
   "metadata": {},
   "outputs": [
    {
     "data": {
      "text/plain": [
       "(254928, 60)"
      ]
     },
     "execution_count": 394,
     "metadata": {},
     "output_type": "execute_result"
    }
   ],
   "source": [
    "df_inner.shape"
   ]
  },
  {
   "cell_type": "code",
   "execution_count": 395,
   "metadata": {},
   "outputs": [],
   "source": [
    "df_inner.to_csv('enh.csv')"
   ]
  },
  {
   "cell_type": "markdown",
   "metadata": {},
   "source": [
    "# OPCIONAL"
   ]
  },
  {
   "cell_type": "markdown",
   "metadata": {},
   "source": [
    "### Fill `antiguedad`"
   ]
  },
  {
   "cell_type": "code",
   "execution_count": 146,
   "metadata": {},
   "outputs": [
    {
     "data": {
      "text/plain": [
       "20"
      ]
     },
     "execution_count": 146,
     "metadata": {},
     "output_type": "execute_result"
    }
   ],
   "source": [
    "list_antiguedad = df_inner.antiguedad[df_inner.antiguedad > -1].mean()\n",
    "antiguedad_mean = round(list_antiguedad)\n",
    "antiguedad_mean"
   ]
  },
  {
   "cell_type": "code",
   "execution_count": 147,
   "metadata": {},
   "outputs": [
    {
     "data": {
      "text/plain": [
       "20    80581\n",
       "10    15677\n",
       "30    14071\n",
       "15    13152\n",
       "25     8366\n",
       "Name: antiguedad, dtype: int64"
      ]
     },
     "execution_count": 147,
     "metadata": {},
     "output_type": "execute_result"
    }
   ],
   "source": [
    "df_inner.antiguedad.replace({-1: antiguedad_mean}, inplace=True)\n",
    "df_inner.antiguedad = df_inner.antiguedad.astype('int64')\n",
    "df_inner.antiguedad.value_counts().head()"
   ]
  },
  {
   "cell_type": "markdown",
   "metadata": {},
   "source": [
    "### Fill `bano_comp`"
   ]
  },
  {
   "cell_type": "code",
   "execution_count": 148,
   "metadata": {},
   "outputs": [
    {
     "data": {
      "text/plain": [
       "1"
      ]
     },
     "execution_count": 148,
     "metadata": {},
     "output_type": "execute_result"
    }
   ],
   "source": [
    "list_bano_comp = df_inner.bano_comp[df_inner.bano_comp > -1].mean()\n",
    "bano_comp_mean = round(list_bano_comp)\n",
    "bano_comp_mean"
   ]
  },
  {
   "cell_type": "code",
   "execution_count": 149,
   "metadata": {},
   "outputs": [
    {
     "data": {
      "text/plain": [
       "1    145554\n",
       "0     68404\n",
       "2     33084\n",
       "3      6096\n",
       "4      1342\n",
       "Name: bano_comp, dtype: int64"
      ]
     },
     "execution_count": 149,
     "metadata": {},
     "output_type": "execute_result"
    }
   ],
   "source": [
    "df_inner.bano_comp.replace({-1: bano_comp_mean}, inplace=True)\n",
    "df_inner.bano_comp = df_inner.bano_comp.astype('int64')\n",
    "df_inner.bano_comp.value_counts().head()"
   ]
  },
  {
   "cell_type": "markdown",
   "metadata": {},
   "source": [
    "### Fill `bano_excus`"
   ]
  },
  {
   "cell_type": "code",
   "execution_count": 150,
   "metadata": {},
   "outputs": [
    {
     "data": {
      "text/plain": [
       "0"
      ]
     },
     "execution_count": 150,
     "metadata": {},
     "output_type": "execute_result"
    }
   ],
   "source": [
    "list_bano_excus = df_inner.bano_excus[df_inner.bano_excus > -1].mean()\n",
    "bano_excus_mean = round(list_bano_excus)\n",
    "bano_excus_mean"
   ]
  },
  {
   "cell_type": "code",
   "execution_count": 151,
   "metadata": {},
   "outputs": [
    {
     "data": {
      "text/plain": [
       "0    158347\n",
       "1     91457\n",
       "2      4524\n",
       "3       312\n",
       "9       165\n",
       "Name: bano_excus, dtype: int64"
      ]
     },
     "execution_count": 151,
     "metadata": {},
     "output_type": "execute_result"
    }
   ],
   "source": [
    "df_inner.bano_excus.replace({-1: bano_excus_mean}, inplace=True)\n",
    "df_inner.bano_excus = df_inner.bano_excus.astype('int64')\n",
    "df_inner.bano_excus.value_counts().head()"
   ]
  },
  {
   "cell_type": "markdown",
   "metadata": {},
   "source": [
    "### Fill `bano_regad`"
   ]
  },
  {
   "cell_type": "code",
   "execution_count": 152,
   "metadata": {},
   "outputs": [
    {
     "data": {
      "text/plain": [
       "0"
      ]
     },
     "execution_count": 152,
     "metadata": {},
     "output_type": "execute_result"
    }
   ],
   "source": [
    "list_bano_regad = df_inner.bano_regad[df_inner.bano_regad > -1].mean()\n",
    "bano_regad_mean = round(list_bano_regad)\n",
    "bano_regad_mean"
   ]
  },
  {
   "cell_type": "code",
   "execution_count": 153,
   "metadata": {},
   "outputs": [
    {
     "data": {
      "text/plain": [
       "0    248010\n",
       "1      6556\n",
       "9       181\n",
       "2       122\n",
       "8        39\n",
       "Name: bano_regad, dtype: int64"
      ]
     },
     "execution_count": 153,
     "metadata": {},
     "output_type": "execute_result"
    }
   ],
   "source": [
    "df_inner.bano_regad.replace({-1: bano_regad_mean}, inplace=True)\n",
    "df_inner.bano_regad = df_inner.bano_regad.astype('int64')\n",
    "df_inner.bano_regad.value_counts().head()"
   ]
  },
  {
   "cell_type": "markdown",
   "metadata": {},
   "source": [
    "### Fill `focos_ahor`"
   ]
  },
  {
   "cell_type": "code",
   "execution_count": 152,
   "metadata": {},
   "outputs": [
    {
     "data": {
      "text/plain": [
       "0"
      ]
     },
     "execution_count": 152,
     "metadata": {},
     "output_type": "execute_result"
    }
   ],
   "source": [
    "list_bano_regad = df_inner.bano_regad[df_inner.bano_regad > -1].mean()\n",
    "bano_regad_mean = round(list_bano_regad)\n",
    "bano_regad_mean"
   ]
  },
  {
   "cell_type": "code",
   "execution_count": 153,
   "metadata": {},
   "outputs": [
    {
     "data": {
      "text/plain": [
       "0    248010\n",
       "1      6556\n",
       "9       181\n",
       "2       122\n",
       "8        39\n",
       "Name: bano_regad, dtype: int64"
      ]
     },
     "execution_count": 153,
     "metadata": {},
     "output_type": "execute_result"
    }
   ],
   "source": [
    "df_inner.bano_regad.replace({-1: bano_regad_mean}, inplace=True)\n",
    "df_inner.bano_regad = df_inner.bano_regad.astype('int64')\n",
    "df_inner.bano_regad.value_counts().head()"
   ]
  },
  {
   "cell_type": "code",
   "execution_count": null,
   "metadata": {},
   "outputs": [],
   "source": []
  }
 ],
 "metadata": {
  "kernelspec": {
   "display_name": "Python 3",
   "language": "python",
   "name": "python3"
  },
  "language_info": {
   "codemirror_mode": {
    "name": "ipython",
    "version": 3
   },
   "file_extension": ".py",
   "mimetype": "text/x-python",
   "name": "python",
   "nbconvert_exporter": "python",
   "pygments_lexer": "ipython3",
   "version": "3.6.5"
  }
 },
 "nbformat": 4,
 "nbformat_minor": 2
}
