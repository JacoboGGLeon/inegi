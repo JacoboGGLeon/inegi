{
 "cells": [
  {
   "cell_type": "code",
   "execution_count": 1,
   "metadata": {},
   "outputs": [],
   "source": [
    "import pandas as pd\n",
    "import numpy as np"
   ]
  },
  {
   "cell_type": "markdown",
   "metadata": {},
   "source": [
    "# 2014"
   ]
  },
  {
   "cell_type": "markdown",
   "metadata": {},
   "source": [
    "## Vivienda"
   ]
  },
  {
   "cell_type": "code",
   "execution_count": 2,
   "metadata": {},
   "outputs": [
    {
     "data": {
      "text/html": [
       "<div>\n",
       "<style scoped>\n",
       "    .dataframe tbody tr th:only-of-type {\n",
       "        vertical-align: middle;\n",
       "    }\n",
       "\n",
       "    .dataframe tbody tr th {\n",
       "        vertical-align: top;\n",
       "    }\n",
       "\n",
       "    .dataframe thead th {\n",
       "        text-align: right;\n",
       "    }\n",
       "</style>\n",
       "<table border=\"1\" class=\"dataframe\">\n",
       "  <thead>\n",
       "    <tr style=\"text-align: right;\">\n",
       "      <th></th>\n",
       "      <th>Unnamed: 0</th>\n",
       "      <th>CONTROL</th>\n",
       "      <th>VIV_SEL</th>\n",
       "      <th>ENT</th>\n",
       "      <th>MUN</th>\n",
       "      <th>LOC</th>\n",
       "      <th>AREAM</th>\n",
       "      <th>RESUL_V</th>\n",
       "      <th>AP1_1</th>\n",
       "      <th>AP1_2</th>\n",
       "      <th>AP2_1</th>\n",
       "      <th>AP2_2</th>\n",
       "      <th>AP2_3</th>\n",
       "      <th>NAP2_3</th>\n",
       "      <th>FAC_VIV</th>\n",
       "      <th>DOM</th>\n",
       "      <th>EST</th>\n",
       "      <th>UPM</th>\n",
       "      <th>FAC_VIV_AM</th>\n",
       "      <th>year</th>\n",
       "    </tr>\n",
       "  </thead>\n",
       "  <tbody>\n",
       "    <tr>\n",
       "      <th>0</th>\n",
       "      <td>0</td>\n",
       "      <td>100001</td>\n",
       "      <td>1</td>\n",
       "      <td>1</td>\n",
       "      <td>1</td>\n",
       "      <td>1</td>\n",
       "      <td>14.0</td>\n",
       "      <td>2</td>\n",
       "      <td>1</td>\n",
       "      <td>2</td>\n",
       "      <td>2</td>\n",
       "      <td>1</td>\n",
       "      <td>NaN</td>\n",
       "      <td>1</td>\n",
       "      <td>189</td>\n",
       "      <td>U</td>\n",
       "      <td>5</td>\n",
       "      <td>1</td>\n",
       "      <td>190.0</td>\n",
       "      <td>2014</td>\n",
       "    </tr>\n",
       "    <tr>\n",
       "      <th>1</th>\n",
       "      <td>1</td>\n",
       "      <td>100001</td>\n",
       "      <td>2</td>\n",
       "      <td>1</td>\n",
       "      <td>1</td>\n",
       "      <td>1</td>\n",
       "      <td>14.0</td>\n",
       "      <td>2</td>\n",
       "      <td>2</td>\n",
       "      <td>2</td>\n",
       "      <td>3</td>\n",
       "      <td>1</td>\n",
       "      <td>NaN</td>\n",
       "      <td>1</td>\n",
       "      <td>189</td>\n",
       "      <td>U</td>\n",
       "      <td>5</td>\n",
       "      <td>1</td>\n",
       "      <td>190.0</td>\n",
       "      <td>2014</td>\n",
       "    </tr>\n",
       "    <tr>\n",
       "      <th>2</th>\n",
       "      <td>2</td>\n",
       "      <td>100001</td>\n",
       "      <td>3</td>\n",
       "      <td>1</td>\n",
       "      <td>1</td>\n",
       "      <td>1</td>\n",
       "      <td>14.0</td>\n",
       "      <td>2</td>\n",
       "      <td>2</td>\n",
       "      <td>2</td>\n",
       "      <td>7</td>\n",
       "      <td>1</td>\n",
       "      <td>NaN</td>\n",
       "      <td>1</td>\n",
       "      <td>189</td>\n",
       "      <td>U</td>\n",
       "      <td>5</td>\n",
       "      <td>1</td>\n",
       "      <td>190.0</td>\n",
       "      <td>2014</td>\n",
       "    </tr>\n",
       "    <tr>\n",
       "      <th>3</th>\n",
       "      <td>3</td>\n",
       "      <td>100001</td>\n",
       "      <td>4</td>\n",
       "      <td>1</td>\n",
       "      <td>1</td>\n",
       "      <td>1</td>\n",
       "      <td>14.0</td>\n",
       "      <td>1</td>\n",
       "      <td>2</td>\n",
       "      <td>2</td>\n",
       "      <td>5</td>\n",
       "      <td>1</td>\n",
       "      <td>NaN</td>\n",
       "      <td>1</td>\n",
       "      <td>189</td>\n",
       "      <td>U</td>\n",
       "      <td>5</td>\n",
       "      <td>1</td>\n",
       "      <td>190.0</td>\n",
       "      <td>2014</td>\n",
       "    </tr>\n",
       "    <tr>\n",
       "      <th>4</th>\n",
       "      <td>4</td>\n",
       "      <td>100001</td>\n",
       "      <td>5</td>\n",
       "      <td>1</td>\n",
       "      <td>1</td>\n",
       "      <td>1</td>\n",
       "      <td>14.0</td>\n",
       "      <td>2</td>\n",
       "      <td>2</td>\n",
       "      <td>2</td>\n",
       "      <td>6</td>\n",
       "      <td>1</td>\n",
       "      <td>NaN</td>\n",
       "      <td>1</td>\n",
       "      <td>189</td>\n",
       "      <td>U</td>\n",
       "      <td>5</td>\n",
       "      <td>1</td>\n",
       "      <td>190.0</td>\n",
       "      <td>2014</td>\n",
       "    </tr>\n",
       "  </tbody>\n",
       "</table>\n",
       "</div>"
      ],
      "text/plain": [
       "   Unnamed: 0  CONTROL  VIV_SEL  ENT  MUN  LOC  AREAM  RESUL_V  AP1_1  AP1_2  \\\n",
       "0           0   100001        1    1    1    1   14.0        2      1      2   \n",
       "1           1   100001        2    1    1    1   14.0        2      2      2   \n",
       "2           2   100001        3    1    1    1   14.0        2      2      2   \n",
       "3           3   100001        4    1    1    1   14.0        1      2      2   \n",
       "4           4   100001        5    1    1    1   14.0        2      2      2   \n",
       "\n",
       "   AP2_1  AP2_2  AP2_3  NAP2_3  FAC_VIV DOM  EST  UPM  FAC_VIV_AM  year  \n",
       "0      2      1    NaN       1      189   U    5    1       190.0  2014  \n",
       "1      3      1    NaN       1      189   U    5    1       190.0  2014  \n",
       "2      7      1    NaN       1      189   U    5    1       190.0  2014  \n",
       "3      5      1    NaN       1      189   U    5    1       190.0  2014  \n",
       "4      6      1    NaN       1      189   U    5    1       190.0  2014  "
      ]
     },
     "execution_count": 2,
     "metadata": {},
     "output_type": "execute_result"
    }
   ],
   "source": [
    "file = '../data/2014/bd_envipe2014/bd_envipe2014/TVivienda.csv'\n",
    "df_v14 = pd.read_csv(file, encoding='latin')\n",
    "df_v14['year'] = 2014\n",
    "df_v14.head()"
   ]
  },
  {
   "cell_type": "code",
   "execution_count": 3,
   "metadata": {},
   "outputs": [
    {
     "data": {
      "text/plain": [
       "(85181, 20)"
      ]
     },
     "execution_count": 3,
     "metadata": {},
     "output_type": "execute_result"
    }
   ],
   "source": [
    "df_v14.shape"
   ]
  },
  {
   "cell_type": "code",
   "execution_count": 4,
   "metadata": {},
   "outputs": [],
   "source": [
    "df_v14['ID_VIVIENDA'] = df_v14.CONTROL + df_v14.VIV_SEL"
   ]
  },
  {
   "cell_type": "markdown",
   "metadata": {},
   "source": [
    "## Victimización 1"
   ]
  },
  {
   "cell_type": "code",
   "execution_count": 5,
   "metadata": {},
   "outputs": [
    {
     "data": {
      "text/html": [
       "<div>\n",
       "<style scoped>\n",
       "    .dataframe tbody tr th:only-of-type {\n",
       "        vertical-align: middle;\n",
       "    }\n",
       "\n",
       "    .dataframe tbody tr th {\n",
       "        vertical-align: top;\n",
       "    }\n",
       "\n",
       "    .dataframe thead th {\n",
       "        text-align: right;\n",
       "    }\n",
       "</style>\n",
       "<table border=\"1\" class=\"dataframe\">\n",
       "  <thead>\n",
       "    <tr style=\"text-align: right;\">\n",
       "      <th></th>\n",
       "      <th>Unnamed: 0</th>\n",
       "      <th>CONTROL</th>\n",
       "      <th>VIV_SEL</th>\n",
       "      <th>HOGAR</th>\n",
       "      <th>RESUL_H</th>\n",
       "      <th>R_SEL</th>\n",
       "      <th>AREAM</th>\n",
       "      <th>AP6_1_1</th>\n",
       "      <th>AP6_1_2</th>\n",
       "      <th>AP6_2</th>\n",
       "      <th>...</th>\n",
       "      <th>AP7_3_15</th>\n",
       "      <th>AP7_4_15</th>\n",
       "      <th>FAC_HOG</th>\n",
       "      <th>FAC_ELE</th>\n",
       "      <th>DOM</th>\n",
       "      <th>EST</th>\n",
       "      <th>UPM</th>\n",
       "      <th>FAC_HOG_AM</th>\n",
       "      <th>FAC_ELE_AM</th>\n",
       "      <th>year</th>\n",
       "    </tr>\n",
       "  </thead>\n",
       "  <tbody>\n",
       "    <tr>\n",
       "      <th>0</th>\n",
       "      <td>0</td>\n",
       "      <td>100001</td>\n",
       "      <td>1</td>\n",
       "      <td>1</td>\n",
       "      <td>B</td>\n",
       "      <td>1</td>\n",
       "      <td>14.0</td>\n",
       "      <td>2</td>\n",
       "      <td>NaN</td>\n",
       "      <td>2</td>\n",
       "      <td>...</td>\n",
       "      <td>2</td>\n",
       "      <td>NaN</td>\n",
       "      <td>191</td>\n",
       "      <td>382</td>\n",
       "      <td>U</td>\n",
       "      <td>5</td>\n",
       "      <td>1</td>\n",
       "      <td>192.0</td>\n",
       "      <td>384.0</td>\n",
       "      <td>2014</td>\n",
       "    </tr>\n",
       "    <tr>\n",
       "      <th>1</th>\n",
       "      <td>1</td>\n",
       "      <td>100001</td>\n",
       "      <td>2</td>\n",
       "      <td>1</td>\n",
       "      <td>B</td>\n",
       "      <td>2</td>\n",
       "      <td>14.0</td>\n",
       "      <td>2</td>\n",
       "      <td>NaN</td>\n",
       "      <td>2</td>\n",
       "      <td>...</td>\n",
       "      <td>2</td>\n",
       "      <td>NaN</td>\n",
       "      <td>191</td>\n",
       "      <td>382</td>\n",
       "      <td>U</td>\n",
       "      <td>5</td>\n",
       "      <td>1</td>\n",
       "      <td>192.0</td>\n",
       "      <td>384.0</td>\n",
       "      <td>2014</td>\n",
       "    </tr>\n",
       "    <tr>\n",
       "      <th>2</th>\n",
       "      <td>2</td>\n",
       "      <td>100001</td>\n",
       "      <td>3</td>\n",
       "      <td>1</td>\n",
       "      <td>B</td>\n",
       "      <td>1</td>\n",
       "      <td>14.0</td>\n",
       "      <td>1</td>\n",
       "      <td>1.0</td>\n",
       "      <td>1</td>\n",
       "      <td>...</td>\n",
       "      <td>2</td>\n",
       "      <td>NaN</td>\n",
       "      <td>191</td>\n",
       "      <td>764</td>\n",
       "      <td>U</td>\n",
       "      <td>5</td>\n",
       "      <td>1</td>\n",
       "      <td>192.0</td>\n",
       "      <td>768.0</td>\n",
       "      <td>2014</td>\n",
       "    </tr>\n",
       "    <tr>\n",
       "      <th>3</th>\n",
       "      <td>3</td>\n",
       "      <td>100001</td>\n",
       "      <td>4</td>\n",
       "      <td>1</td>\n",
       "      <td>A</td>\n",
       "      <td>1</td>\n",
       "      <td>14.0</td>\n",
       "      <td>2</td>\n",
       "      <td>NaN</td>\n",
       "      <td>1</td>\n",
       "      <td>...</td>\n",
       "      <td>2</td>\n",
       "      <td>NaN</td>\n",
       "      <td>191</td>\n",
       "      <td>764</td>\n",
       "      <td>U</td>\n",
       "      <td>5</td>\n",
       "      <td>1</td>\n",
       "      <td>192.0</td>\n",
       "      <td>768.0</td>\n",
       "      <td>2014</td>\n",
       "    </tr>\n",
       "    <tr>\n",
       "      <th>4</th>\n",
       "      <td>4</td>\n",
       "      <td>100001</td>\n",
       "      <td>5</td>\n",
       "      <td>1</td>\n",
       "      <td>B</td>\n",
       "      <td>3</td>\n",
       "      <td>14.0</td>\n",
       "      <td>1</td>\n",
       "      <td>1.0</td>\n",
       "      <td>2</td>\n",
       "      <td>...</td>\n",
       "      <td>2</td>\n",
       "      <td>NaN</td>\n",
       "      <td>191</td>\n",
       "      <td>573</td>\n",
       "      <td>U</td>\n",
       "      <td>5</td>\n",
       "      <td>1</td>\n",
       "      <td>192.0</td>\n",
       "      <td>576.0</td>\n",
       "      <td>2014</td>\n",
       "    </tr>\n",
       "  </tbody>\n",
       "</table>\n",
       "<p>5 rows × 130 columns</p>\n",
       "</div>"
      ],
      "text/plain": [
       "   Unnamed: 0  CONTROL  VIV_SEL  HOGAR RESUL_H  R_SEL  AREAM  AP6_1_1  \\\n",
       "0           0   100001        1      1       B      1   14.0        2   \n",
       "1           1   100001        2      1       B      2   14.0        2   \n",
       "2           2   100001        3      1       B      1   14.0        1   \n",
       "3           3   100001        4      1       A      1   14.0        2   \n",
       "4           4   100001        5      1       B      3   14.0        1   \n",
       "\n",
       "   AP6_1_2  AP6_2  ...   AP7_3_15  AP7_4_15  FAC_HOG  FAC_ELE  DOM  EST  UPM  \\\n",
       "0      NaN      2  ...          2       NaN      191      382    U    5    1   \n",
       "1      NaN      2  ...          2       NaN      191      382    U    5    1   \n",
       "2      1.0      1  ...          2       NaN      191      764    U    5    1   \n",
       "3      NaN      1  ...          2       NaN      191      764    U    5    1   \n",
       "4      1.0      2  ...          2       NaN      191      573    U    5    1   \n",
       "\n",
       "   FAC_HOG_AM  FAC_ELE_AM  year  \n",
       "0       192.0       384.0  2014  \n",
       "1       192.0       384.0  2014  \n",
       "2       192.0       768.0  2014  \n",
       "3       192.0       768.0  2014  \n",
       "4       192.0       576.0  2014  \n",
       "\n",
       "[5 rows x 130 columns]"
      ]
     },
     "execution_count": 5,
     "metadata": {},
     "output_type": "execute_result"
    }
   ],
   "source": [
    "file = '../data/2014/bd_envipe2014/bd_envipe2014/Tper_Vic2.csv'\n",
    "df_s14 = pd.read_csv(file, encoding='latin')\n",
    "df_s14['year'] = 2014\n",
    "df_s14.head()"
   ]
  },
  {
   "cell_type": "code",
   "execution_count": 6,
   "metadata": {},
   "outputs": [
    {
     "data": {
      "text/plain": [
       "(84629, 130)"
      ]
     },
     "execution_count": 6,
     "metadata": {},
     "output_type": "execute_result"
    }
   ],
   "source": [
    "df_s14.shape"
   ]
  },
  {
   "cell_type": "code",
   "execution_count": 7,
   "metadata": {},
   "outputs": [],
   "source": [
    "df_s14['ID_VIVIENDA'] = df_s14.CONTROL + df_s14.VIV_SEL"
   ]
  },
  {
   "cell_type": "markdown",
   "metadata": {},
   "source": [
    "## DICCIONARIO Vivienda - Victimización 1"
   ]
  },
  {
   "cell_type": "code",
   "execution_count": 8,
   "metadata": {},
   "outputs": [
    {
     "data": {
      "text/plain": [
       "ID_VIVIENDA  ENT  MUN\n",
       "100002       1    1      1\n",
       "100003       1    1      1\n",
       "100004       1    1      1\n",
       "100005       1    1      1\n",
       "100006       1    1      2\n",
       "100007       1    1      1\n",
       "100008       1    1      1\n",
       "100009       1    1      2\n",
       "100010       1    1      3\n",
       "100011       1    1      3\n",
       "100012       1    1      4\n",
       "100013       1    1      3\n",
       "100014       1    1      3\n",
       "100015       1    1      3\n",
       "100016       1    1      4\n",
       "100017       1    1      5\n",
       "100018       1    1      5\n",
       "100019       1    1      3\n",
       "100020       1    1      3\n",
       "100021       1    1      2\n",
       "100022       1    1      1\n",
       "100024       1    1      1\n",
       "100025       1    1      1\n",
       "100026       1    1      2\n",
       "100027       1    1      2\n",
       "100028       1    1      2\n",
       "100029       1    1      1\n",
       "140002       1    1      1\n",
       "140003       1    1      2\n",
       "140004       1    1      2\n",
       "                        ..\n",
       "3260052      32   35     2\n",
       "                  38     1\n",
       "                  39     1\n",
       "                  42     1\n",
       "                  55     1\n",
       "3260053      32   20     1\n",
       "                  35     2\n",
       "                  38     1\n",
       "                  39     1\n",
       "                  42     1\n",
       "3260054      32   10     1\n",
       "                  20     1\n",
       "                  35     2\n",
       "                  39     1\n",
       "                  42     1\n",
       "3260055      32   10     1\n",
       "                  20     1\n",
       "                  35     2\n",
       "                  39     1\n",
       "3260056      32   10     1\n",
       "                  20     1\n",
       "                  35     2\n",
       "                  42     1\n",
       "3260057      32   10     1\n",
       "                  20     1\n",
       "                  35     1\n",
       "3260058      32   20     1\n",
       "                  35     1\n",
       "3260059      32   20     1\n",
       "                  35     1\n",
       "Length: 59549, dtype: int64"
      ]
     },
     "execution_count": 8,
     "metadata": {},
     "output_type": "execute_result"
    }
   ],
   "source": [
    "df_v14.groupby(['ID_VIVIENDA', 'ENT', 'MUN']).size()"
   ]
  },
  {
   "cell_type": "code",
   "execution_count": 9,
   "metadata": {},
   "outputs": [
    {
     "data": {
      "text/html": [
       "<div>\n",
       "<style scoped>\n",
       "    .dataframe tbody tr th:only-of-type {\n",
       "        vertical-align: middle;\n",
       "    }\n",
       "\n",
       "    .dataframe tbody tr th {\n",
       "        vertical-align: top;\n",
       "    }\n",
       "\n",
       "    .dataframe thead th {\n",
       "        text-align: right;\n",
       "    }\n",
       "</style>\n",
       "<table border=\"1\" class=\"dataframe\">\n",
       "  <thead>\n",
       "    <tr style=\"text-align: right;\">\n",
       "      <th></th>\n",
       "      <th></th>\n",
       "      <th></th>\n",
       "    </tr>\n",
       "    <tr>\n",
       "      <th>ID_VIVIENDA</th>\n",
       "      <th>ENT</th>\n",
       "      <th>MUN</th>\n",
       "    </tr>\n",
       "  </thead>\n",
       "  <tbody>\n",
       "    <tr>\n",
       "      <th>100002</th>\n",
       "      <th>1</th>\n",
       "      <th>1</th>\n",
       "    </tr>\n",
       "    <tr>\n",
       "      <th>100003</th>\n",
       "      <th>1</th>\n",
       "      <th>1</th>\n",
       "    </tr>\n",
       "    <tr>\n",
       "      <th>100004</th>\n",
       "      <th>1</th>\n",
       "      <th>1</th>\n",
       "    </tr>\n",
       "    <tr>\n",
       "      <th>100005</th>\n",
       "      <th>1</th>\n",
       "      <th>1</th>\n",
       "    </tr>\n",
       "    <tr>\n",
       "      <th>100006</th>\n",
       "      <th>1</th>\n",
       "      <th>1</th>\n",
       "    </tr>\n",
       "  </tbody>\n",
       "</table>\n",
       "</div>"
      ],
      "text/plain": [
       "Empty DataFrame\n",
       "Columns: []\n",
       "Index: [(100002, 1, 1), (100003, 1, 1), (100004, 1, 1), (100005, 1, 1), (100006, 1, 1)]"
      ]
     },
     "execution_count": 9,
     "metadata": {},
     "output_type": "execute_result"
    }
   ],
   "source": [
    "grouped = pd.DataFrame(df_v14.groupby(['ID_VIVIENDA', 'ENT', 'MUN']).size())\n",
    "grouped.drop([0], axis=1, inplace=True)\n",
    "grouped.head()"
   ]
  },
  {
   "cell_type": "code",
   "execution_count": 10,
   "metadata": {},
   "outputs": [
    {
     "data": {
      "text/plain": [
       "Index(['ID_VIVIENDA', 'ENT', 'MUN'], dtype='object')"
      ]
     },
     "execution_count": 10,
     "metadata": {},
     "output_type": "execute_result"
    }
   ],
   "source": [
    "grouped.reset_index(inplace=True)\n",
    "grouped.columns"
   ]
  },
  {
   "cell_type": "code",
   "execution_count": 11,
   "metadata": {},
   "outputs": [
    {
     "data": {
      "text/html": [
       "<div>\n",
       "<style scoped>\n",
       "    .dataframe tbody tr th:only-of-type {\n",
       "        vertical-align: middle;\n",
       "    }\n",
       "\n",
       "    .dataframe tbody tr th {\n",
       "        vertical-align: top;\n",
       "    }\n",
       "\n",
       "    .dataframe thead th {\n",
       "        text-align: right;\n",
       "    }\n",
       "</style>\n",
       "<table border=\"1\" class=\"dataframe\">\n",
       "  <thead>\n",
       "    <tr style=\"text-align: right;\">\n",
       "      <th></th>\n",
       "      <th>ID_VIVIENDA</th>\n",
       "      <th>ENT</th>\n",
       "      <th>MUN</th>\n",
       "    </tr>\n",
       "  </thead>\n",
       "  <tbody>\n",
       "    <tr>\n",
       "      <th>0</th>\n",
       "      <td>100002</td>\n",
       "      <td>1</td>\n",
       "      <td>1</td>\n",
       "    </tr>\n",
       "    <tr>\n",
       "      <th>1</th>\n",
       "      <td>100003</td>\n",
       "      <td>1</td>\n",
       "      <td>1</td>\n",
       "    </tr>\n",
       "    <tr>\n",
       "      <th>2</th>\n",
       "      <td>100004</td>\n",
       "      <td>1</td>\n",
       "      <td>1</td>\n",
       "    </tr>\n",
       "    <tr>\n",
       "      <th>3</th>\n",
       "      <td>100005</td>\n",
       "      <td>1</td>\n",
       "      <td>1</td>\n",
       "    </tr>\n",
       "    <tr>\n",
       "      <th>4</th>\n",
       "      <td>100006</td>\n",
       "      <td>1</td>\n",
       "      <td>1</td>\n",
       "    </tr>\n",
       "  </tbody>\n",
       "</table>\n",
       "</div>"
      ],
      "text/plain": [
       "   ID_VIVIENDA  ENT  MUN\n",
       "0       100002    1    1\n",
       "1       100003    1    1\n",
       "2       100004    1    1\n",
       "3       100005    1    1\n",
       "4       100006    1    1"
      ]
     },
     "execution_count": 11,
     "metadata": {},
     "output_type": "execute_result"
    }
   ],
   "source": [
    "grouped.head()"
   ]
  },
  {
   "cell_type": "code",
   "execution_count": 12,
   "metadata": {},
   "outputs": [
    {
     "data": {
      "text/plain": [
       "dict_keys(['index', 'columns', 'data'])"
      ]
     },
     "execution_count": 12,
     "metadata": {},
     "output_type": "execute_result"
    }
   ],
   "source": [
    "dict_grouped = grouped.to_dict(orient='split')\n",
    "dict_grouped.keys()"
   ]
  },
  {
   "cell_type": "code",
   "execution_count": 13,
   "metadata": {},
   "outputs": [
    {
     "data": {
      "text/plain": [
       "['ID_VIVIENDA', 'ENT', 'MUN']"
      ]
     },
     "execution_count": 13,
     "metadata": {},
     "output_type": "execute_result"
    }
   ],
   "source": [
    "dict_grouped.pop('index')\n",
    "dict_grouped.pop('columns')"
   ]
  },
  {
   "cell_type": "code",
   "execution_count": 14,
   "metadata": {},
   "outputs": [
    {
     "data": {
      "text/plain": [
       "[100002, 1, 1]"
      ]
     },
     "execution_count": 14,
     "metadata": {},
     "output_type": "execute_result"
    }
   ],
   "source": [
    "dict_grouped['data'][0]"
   ]
  },
  {
   "cell_type": "code",
   "execution_count": 15,
   "metadata": {},
   "outputs": [
    {
     "data": {
      "text/plain": [
       "100002"
      ]
     },
     "execution_count": 15,
     "metadata": {},
     "output_type": "execute_result"
    }
   ],
   "source": [
    "dict_grouped['data'][0][0]"
   ]
  },
  {
   "cell_type": "code",
   "execution_count": 16,
   "metadata": {},
   "outputs": [
    {
     "data": {
      "text/plain": [
       "array([ 100002,  100003,  100004, ..., 3260057, 3260058, 3260059])"
      ]
     },
     "execution_count": 16,
     "metadata": {},
     "output_type": "execute_result"
    }
   ],
   "source": [
    "array_grouped = grouped.ID_VIVIENDA.unique()\n",
    "array_grouped"
   ]
  },
  {
   "cell_type": "code",
   "execution_count": 17,
   "metadata": {},
   "outputs": [],
   "source": [
    "dict_ID_VIVIENDA_ENT = {}\n",
    "\n",
    "for line in dict_grouped['data']:\n",
    "    #print(line[0], ':', line[1])\n",
    "    dict_ID_VIVIENDA_ENT[line[0]] = line[1]"
   ]
  },
  {
   "cell_type": "code",
   "execution_count": 18,
   "metadata": {},
   "outputs": [],
   "source": [
    "dict_ID_VIVIENDA_MUN = {}\n",
    "\n",
    "for line in dict_grouped['data']:\n",
    "    #print(line[0], ':', line[1])\n",
    "    dict_ID_VIVIENDA_MUN[line[0]] = line[2]"
   ]
  },
  {
   "cell_type": "code",
   "execution_count": 19,
   "metadata": {},
   "outputs": [],
   "source": [
    "df_s14['CVE_ENT'] = df_s14['ID_VIVIENDA'].map(dict_ID_VIVIENDA_ENT)"
   ]
  },
  {
   "cell_type": "code",
   "execution_count": 20,
   "metadata": {},
   "outputs": [
    {
     "data": {
      "text/plain": [
       "array([ 1,  2,  3,  4,  5,  6,  7,  8,  9, 10, 11, 12, 13, 14, 15, 16, 17,\n",
       "       18, 19, 20, 21, 22, 23, 24, 25, 26, 27, 28, 29, 30, 31, 32])"
      ]
     },
     "execution_count": 20,
     "metadata": {},
     "output_type": "execute_result"
    }
   ],
   "source": [
    "df_s14.CVE_ENT.unique()"
   ]
  },
  {
   "cell_type": "code",
   "execution_count": 21,
   "metadata": {},
   "outputs": [],
   "source": [
    "df_s14['CVE_MUN'] = df_s14['ID_VIVIENDA'].map(dict_ID_VIVIENDA_MUN)"
   ]
  },
  {
   "cell_type": "code",
   "execution_count": 22,
   "metadata": {},
   "outputs": [
    {
     "data": {
      "text/plain": [
       "array([  1,   5,  11,   8,   9,   4,   7,  10,   2,   3,   6,  25,  35,\n",
       "        18,  30,  27,  37,  24,  32,  20,  38,  28,  33,  17,  36,  51,\n",
       "       101, 106,  99,  78,  21,  19,  40,  59,  65,  75, 108,  97,  74,\n",
       "       100,  80,  89, 113,  93,  61, 107,  81, 111, 102, 105,  76, 114,\n",
       "       103, 112, 116,  22,  50,  45,  62,  52,  48,  29,  31,  66,  43,\n",
       "        15,  14,  16,  13,  12,  23,  39,  34,  46,  42,  44,  54,  58,\n",
       "        56,  55,  77,  69,  60,  57,  79,  73,  64,  49,  41,  67,  82,\n",
       "        84, 118, 120,  70,  98, 124, 121, 122, 109,  92, 104,  91, 110,\n",
       "       119,  95,  53,  88,  85,  68,  26, 439, 494, 531, 564, 570, 215,\n",
       "       198, 307, 483, 466, 544, 508, 519, 385, 350, 399,  83, 390, 409,\n",
       "       157, 375, 115, 293, 184, 546, 565, 515, 545, 525, 452, 505, 324,\n",
       "       333, 340, 507, 513, 559, 554, 533, 199, 208, 207, 213, 183, 156,\n",
       "       143, 152, 169, 188, 138, 140, 136, 125, 177,  71, 217, 189, 194,\n",
       "       168, 202, 178, 197, 150,  47,  63, 130, 142, 204, 160, 164, 195,\n",
       "       211, 133, 123, 193,  87, 131, 174, 161, 206, 128, 149, 200, 209,\n",
       "       210,  96])"
      ]
     },
     "execution_count": 22,
     "metadata": {},
     "output_type": "execute_result"
    }
   ],
   "source": [
    "df_s14.CVE_MUN.unique()"
   ]
  },
  {
   "cell_type": "code",
   "execution_count": 23,
   "metadata": {},
   "outputs": [
    {
     "data": {
      "text/plain": [
       "(84629, 133)"
      ]
     },
     "execution_count": 23,
     "metadata": {},
     "output_type": "execute_result"
    }
   ],
   "source": [
    "df_s14.shape"
   ]
  },
  {
   "cell_type": "code",
   "execution_count": 24,
   "metadata": {},
   "outputs": [],
   "source": [
    "df_s14.to_csv('../dataframes/delitos_2014.csv')"
   ]
  },
  {
   "cell_type": "markdown",
   "metadata": {},
   "source": [
    "# 2015"
   ]
  },
  {
   "cell_type": "markdown",
   "metadata": {},
   "source": [
    "## Vivienda"
   ]
  },
  {
   "cell_type": "code",
   "execution_count": 25,
   "metadata": {},
   "outputs": [
    {
     "data": {
      "text/html": [
       "<div>\n",
       "<style scoped>\n",
       "    .dataframe tbody tr th:only-of-type {\n",
       "        vertical-align: middle;\n",
       "    }\n",
       "\n",
       "    .dataframe tbody tr th {\n",
       "        vertical-align: top;\n",
       "    }\n",
       "\n",
       "    .dataframe thead th {\n",
       "        text-align: right;\n",
       "    }\n",
       "</style>\n",
       "<table border=\"1\" class=\"dataframe\">\n",
       "  <thead>\n",
       "    <tr style=\"text-align: right;\">\n",
       "      <th></th>\n",
       "      <th>Unnamed: 0</th>\n",
       "      <th>ID_VIV</th>\n",
       "      <th>UPM</th>\n",
       "      <th>VIV_SEL</th>\n",
       "      <th>ENT</th>\n",
       "      <th>MUN</th>\n",
       "      <th>AREAM</th>\n",
       "      <th>RESUL_V</th>\n",
       "      <th>AP1_1</th>\n",
       "      <th>AP1_2</th>\n",
       "      <th>AP2_1</th>\n",
       "      <th>AP2_2</th>\n",
       "      <th>AP2_3</th>\n",
       "      <th>NAP2_3</th>\n",
       "      <th>FAC_VIV</th>\n",
       "      <th>EST_DIS</th>\n",
       "      <th>UPM_DIS</th>\n",
       "      <th>DOMINIO</th>\n",
       "      <th>FAC_VIV_AM</th>\n",
       "      <th>year</th>\n",
       "    </tr>\n",
       "  </thead>\n",
       "  <tbody>\n",
       "    <tr>\n",
       "      <th>0</th>\n",
       "      <td>0</td>\n",
       "      <td>100006.01</td>\n",
       "      <td>100006</td>\n",
       "      <td>1</td>\n",
       "      <td>1</td>\n",
       "      <td>1</td>\n",
       "      <td>14.0</td>\n",
       "      <td>2</td>\n",
       "      <td>1</td>\n",
       "      <td>2</td>\n",
       "      <td>3</td>\n",
       "      <td>1</td>\n",
       "      <td>NaN</td>\n",
       "      <td>1</td>\n",
       "      <td>174</td>\n",
       "      <td>5</td>\n",
       "      <td>1</td>\n",
       "      <td>U</td>\n",
       "      <td>173</td>\n",
       "      <td>2015</td>\n",
       "    </tr>\n",
       "    <tr>\n",
       "      <th>1</th>\n",
       "      <td>1</td>\n",
       "      <td>100006.02</td>\n",
       "      <td>100006</td>\n",
       "      <td>2</td>\n",
       "      <td>1</td>\n",
       "      <td>1</td>\n",
       "      <td>14.0</td>\n",
       "      <td>1</td>\n",
       "      <td>1</td>\n",
       "      <td>2</td>\n",
       "      <td>4</td>\n",
       "      <td>1</td>\n",
       "      <td>NaN</td>\n",
       "      <td>1</td>\n",
       "      <td>174</td>\n",
       "      <td>5</td>\n",
       "      <td>1</td>\n",
       "      <td>U</td>\n",
       "      <td>173</td>\n",
       "      <td>2015</td>\n",
       "    </tr>\n",
       "    <tr>\n",
       "      <th>2</th>\n",
       "      <td>2</td>\n",
       "      <td>100006.03</td>\n",
       "      <td>100006</td>\n",
       "      <td>3</td>\n",
       "      <td>1</td>\n",
       "      <td>1</td>\n",
       "      <td>14.0</td>\n",
       "      <td>1</td>\n",
       "      <td>1</td>\n",
       "      <td>2</td>\n",
       "      <td>2</td>\n",
       "      <td>1</td>\n",
       "      <td>NaN</td>\n",
       "      <td>1</td>\n",
       "      <td>174</td>\n",
       "      <td>5</td>\n",
       "      <td>1</td>\n",
       "      <td>U</td>\n",
       "      <td>173</td>\n",
       "      <td>2015</td>\n",
       "    </tr>\n",
       "    <tr>\n",
       "      <th>3</th>\n",
       "      <td>3</td>\n",
       "      <td>100006.04</td>\n",
       "      <td>100006</td>\n",
       "      <td>4</td>\n",
       "      <td>1</td>\n",
       "      <td>1</td>\n",
       "      <td>14.0</td>\n",
       "      <td>1</td>\n",
       "      <td>1</td>\n",
       "      <td>2</td>\n",
       "      <td>2</td>\n",
       "      <td>1</td>\n",
       "      <td>NaN</td>\n",
       "      <td>1</td>\n",
       "      <td>174</td>\n",
       "      <td>5</td>\n",
       "      <td>1</td>\n",
       "      <td>U</td>\n",
       "      <td>173</td>\n",
       "      <td>2015</td>\n",
       "    </tr>\n",
       "    <tr>\n",
       "      <th>4</th>\n",
       "      <td>4</td>\n",
       "      <td>100006.05</td>\n",
       "      <td>100006</td>\n",
       "      <td>5</td>\n",
       "      <td>1</td>\n",
       "      <td>1</td>\n",
       "      <td>14.0</td>\n",
       "      <td>2</td>\n",
       "      <td>1</td>\n",
       "      <td>1</td>\n",
       "      <td>3</td>\n",
       "      <td>2</td>\n",
       "      <td>3.0</td>\n",
       "      <td>1</td>\n",
       "      <td>174</td>\n",
       "      <td>5</td>\n",
       "      <td>1</td>\n",
       "      <td>U</td>\n",
       "      <td>173</td>\n",
       "      <td>2015</td>\n",
       "    </tr>\n",
       "  </tbody>\n",
       "</table>\n",
       "</div>"
      ],
      "text/plain": [
       "   Unnamed: 0     ID_VIV     UPM  VIV_SEL  ENT  MUN  AREAM  RESUL_V  AP1_1  \\\n",
       "0           0  100006.01  100006        1    1    1   14.0        2      1   \n",
       "1           1  100006.02  100006        2    1    1   14.0        1      1   \n",
       "2           2  100006.03  100006        3    1    1   14.0        1      1   \n",
       "3           3  100006.04  100006        4    1    1   14.0        1      1   \n",
       "4           4  100006.05  100006        5    1    1   14.0        2      1   \n",
       "\n",
       "   AP1_2  AP2_1  AP2_2  AP2_3  NAP2_3  FAC_VIV  EST_DIS  UPM_DIS DOMINIO  \\\n",
       "0      2      3      1    NaN       1      174        5        1       U   \n",
       "1      2      4      1    NaN       1      174        5        1       U   \n",
       "2      2      2      1    NaN       1      174        5        1       U   \n",
       "3      2      2      1    NaN       1      174        5        1       U   \n",
       "4      1      3      2    3.0       1      174        5        1       U   \n",
       "\n",
       "   FAC_VIV_AM  year  \n",
       "0         173  2015  \n",
       "1         173  2015  \n",
       "2         173  2015  \n",
       "3         173  2015  \n",
       "4         173  2015  "
      ]
     },
     "execution_count": 25,
     "metadata": {},
     "output_type": "execute_result"
    }
   ],
   "source": [
    "file = '../data/2015/TVivienda.csv'\n",
    "df_v15 = pd.read_csv(file, encoding='latin')\n",
    "df_v15['year'] = 2015\n",
    "df_v15.head()"
   ]
  },
  {
   "cell_type": "code",
   "execution_count": 26,
   "metadata": {},
   "outputs": [
    {
     "data": {
      "text/plain": [
       "(85729, 20)"
      ]
     },
     "execution_count": 26,
     "metadata": {},
     "output_type": "execute_result"
    }
   ],
   "source": [
    "df_v15.shape"
   ]
  },
  {
   "cell_type": "code",
   "execution_count": 27,
   "metadata": {},
   "outputs": [],
   "source": [
    "df_v15['ID_VIVIENDA'] = df_v15.UPM + df_v15.VIV_SEL"
   ]
  },
  {
   "cell_type": "markdown",
   "metadata": {},
   "source": [
    "## Victimización 1"
   ]
  },
  {
   "cell_type": "code",
   "execution_count": 28,
   "metadata": {},
   "outputs": [
    {
     "data": {
      "text/html": [
       "<div>\n",
       "<style scoped>\n",
       "    .dataframe tbody tr th:only-of-type {\n",
       "        vertical-align: middle;\n",
       "    }\n",
       "\n",
       "    .dataframe tbody tr th {\n",
       "        vertical-align: top;\n",
       "    }\n",
       "\n",
       "    .dataframe thead th {\n",
       "        text-align: right;\n",
       "    }\n",
       "</style>\n",
       "<table border=\"1\" class=\"dataframe\">\n",
       "  <thead>\n",
       "    <tr style=\"text-align: right;\">\n",
       "      <th></th>\n",
       "      <th>Unnamed: 0</th>\n",
       "      <th>ID_PER</th>\n",
       "      <th>UPM</th>\n",
       "      <th>VIV_SEL</th>\n",
       "      <th>HOGAR</th>\n",
       "      <th>RESUL_H</th>\n",
       "      <th>R_SEL</th>\n",
       "      <th>AREAM</th>\n",
       "      <th>AP6_1_1</th>\n",
       "      <th>AP6_1_2</th>\n",
       "      <th>...</th>\n",
       "      <th>AP7_4_15</th>\n",
       "      <th>FAC_HOG</th>\n",
       "      <th>FAC_ELE</th>\n",
       "      <th>EST_DIS</th>\n",
       "      <th>UPM_DIS</th>\n",
       "      <th>DOMINIO</th>\n",
       "      <th>ESTRATO</th>\n",
       "      <th>FAC_HOG_AM</th>\n",
       "      <th>FAC_ELE_AM</th>\n",
       "      <th>year</th>\n",
       "    </tr>\n",
       "  </thead>\n",
       "  <tbody>\n",
       "    <tr>\n",
       "      <th>0</th>\n",
       "      <td>0</td>\n",
       "      <td>0100006.01.01.01</td>\n",
       "      <td>100006</td>\n",
       "      <td>1</td>\n",
       "      <td>1</td>\n",
       "      <td>B</td>\n",
       "      <td>1</td>\n",
       "      <td>14.0</td>\n",
       "      <td>1</td>\n",
       "      <td>1.0</td>\n",
       "      <td>...</td>\n",
       "      <td>NaN</td>\n",
       "      <td>172</td>\n",
       "      <td>516</td>\n",
       "      <td>5</td>\n",
       "      <td>1</td>\n",
       "      <td>U</td>\n",
       "      <td>3</td>\n",
       "      <td>173</td>\n",
       "      <td>519</td>\n",
       "      <td>2015</td>\n",
       "    </tr>\n",
       "    <tr>\n",
       "      <th>1</th>\n",
       "      <td>1</td>\n",
       "      <td>0100006.02.01.02</td>\n",
       "      <td>100006</td>\n",
       "      <td>2</td>\n",
       "      <td>1</td>\n",
       "      <td>A</td>\n",
       "      <td>2</td>\n",
       "      <td>14.0</td>\n",
       "      <td>1</td>\n",
       "      <td>1.0</td>\n",
       "      <td>...</td>\n",
       "      <td>NaN</td>\n",
       "      <td>172</td>\n",
       "      <td>344</td>\n",
       "      <td>5</td>\n",
       "      <td>1</td>\n",
       "      <td>U</td>\n",
       "      <td>3</td>\n",
       "      <td>173</td>\n",
       "      <td>346</td>\n",
       "      <td>2015</td>\n",
       "    </tr>\n",
       "    <tr>\n",
       "      <th>2</th>\n",
       "      <td>2</td>\n",
       "      <td>0100006.03.01.01</td>\n",
       "      <td>100006</td>\n",
       "      <td>3</td>\n",
       "      <td>1</td>\n",
       "      <td>A</td>\n",
       "      <td>1</td>\n",
       "      <td>14.0</td>\n",
       "      <td>1</td>\n",
       "      <td>1.0</td>\n",
       "      <td>...</td>\n",
       "      <td>NaN</td>\n",
       "      <td>172</td>\n",
       "      <td>344</td>\n",
       "      <td>5</td>\n",
       "      <td>1</td>\n",
       "      <td>U</td>\n",
       "      <td>3</td>\n",
       "      <td>173</td>\n",
       "      <td>346</td>\n",
       "      <td>2015</td>\n",
       "    </tr>\n",
       "    <tr>\n",
       "      <th>3</th>\n",
       "      <td>3</td>\n",
       "      <td>0100006.04.01.02</td>\n",
       "      <td>100006</td>\n",
       "      <td>4</td>\n",
       "      <td>1</td>\n",
       "      <td>A</td>\n",
       "      <td>2</td>\n",
       "      <td>14.0</td>\n",
       "      <td>2</td>\n",
       "      <td>NaN</td>\n",
       "      <td>...</td>\n",
       "      <td>NaN</td>\n",
       "      <td>172</td>\n",
       "      <td>344</td>\n",
       "      <td>5</td>\n",
       "      <td>1</td>\n",
       "      <td>U</td>\n",
       "      <td>3</td>\n",
       "      <td>173</td>\n",
       "      <td>346</td>\n",
       "      <td>2015</td>\n",
       "    </tr>\n",
       "    <tr>\n",
       "      <th>4</th>\n",
       "      <td>4</td>\n",
       "      <td>0100006.05.01.01</td>\n",
       "      <td>100006</td>\n",
       "      <td>5</td>\n",
       "      <td>1</td>\n",
       "      <td>B</td>\n",
       "      <td>1</td>\n",
       "      <td>14.0</td>\n",
       "      <td>2</td>\n",
       "      <td>NaN</td>\n",
       "      <td>...</td>\n",
       "      <td>NaN</td>\n",
       "      <td>172</td>\n",
       "      <td>172</td>\n",
       "      <td>5</td>\n",
       "      <td>1</td>\n",
       "      <td>U</td>\n",
       "      <td>3</td>\n",
       "      <td>173</td>\n",
       "      <td>173</td>\n",
       "      <td>2015</td>\n",
       "    </tr>\n",
       "  </tbody>\n",
       "</table>\n",
       "<p>5 rows × 143 columns</p>\n",
       "</div>"
      ],
      "text/plain": [
       "   Unnamed: 0            ID_PER     UPM  VIV_SEL  HOGAR RESUL_H  R_SEL  AREAM  \\\n",
       "0           0  0100006.01.01.01  100006        1      1       B      1   14.0   \n",
       "1           1  0100006.02.01.02  100006        2      1       A      2   14.0   \n",
       "2           2  0100006.03.01.01  100006        3      1       A      1   14.0   \n",
       "3           3  0100006.04.01.02  100006        4      1       A      2   14.0   \n",
       "4           4  0100006.05.01.01  100006        5      1       B      1   14.0   \n",
       "\n",
       "   AP6_1_1  AP6_1_2  ...   AP7_4_15  FAC_HOG  FAC_ELE  EST_DIS  UPM_DIS  \\\n",
       "0        1      1.0  ...        NaN      172      516        5        1   \n",
       "1        1      1.0  ...        NaN      172      344        5        1   \n",
       "2        1      1.0  ...        NaN      172      344        5        1   \n",
       "3        2      NaN  ...        NaN      172      344        5        1   \n",
       "4        2      NaN  ...        NaN      172      172        5        1   \n",
       "\n",
       "   DOMINIO  ESTRATO  FAC_HOG_AM  FAC_ELE_AM  year  \n",
       "0        U        3         173         519  2015  \n",
       "1        U        3         173         346  2015  \n",
       "2        U        3         173         346  2015  \n",
       "3        U        3         173         346  2015  \n",
       "4        U        3         173         173  2015  \n",
       "\n",
       "[5 rows x 143 columns]"
      ]
     },
     "execution_count": 28,
     "metadata": {},
     "output_type": "execute_result"
    }
   ],
   "source": [
    "file = '../data/2015/TPer_Vic2.csv'\n",
    "df_s15 = pd.read_csv(file, encoding='latin')\n",
    "df_s15['year'] = 2015\n",
    "df_s15.head()"
   ]
  },
  {
   "cell_type": "code",
   "execution_count": 29,
   "metadata": {},
   "outputs": [
    {
     "data": {
      "text/plain": [
       "(84507, 143)"
      ]
     },
     "execution_count": 29,
     "metadata": {},
     "output_type": "execute_result"
    }
   ],
   "source": [
    "df_s15.shape"
   ]
  },
  {
   "cell_type": "code",
   "execution_count": 30,
   "metadata": {},
   "outputs": [],
   "source": [
    "df_s15['ID_VIVIENDA'] = df_s15.UPM + df_s15.VIV_SEL"
   ]
  },
  {
   "cell_type": "markdown",
   "metadata": {},
   "source": [
    "## DICCIONARIO Vivienda - Victimización 1"
   ]
  },
  {
   "cell_type": "code",
   "execution_count": 31,
   "metadata": {},
   "outputs": [
    {
     "data": {
      "text/plain": [
       "ID_VIVIENDA  ENT  MUN\n",
       "100007       1    1      1\n",
       "100008       1    1      1\n",
       "100009       1    1      2\n",
       "100010       1    1      2\n",
       "100011       1    1      3\n",
       "100012       1    1      2\n",
       "100013       1    1      2\n",
       "100015       1    1      1\n",
       "100019       1    1      1\n",
       "100020       1    1      1\n",
       "100021       1    1      1\n",
       "100022       1    1      1\n",
       "100023       1    1      2\n",
       "100024       1    1      1\n",
       "100025       1    1      1\n",
       "100026       1    1      1\n",
       "100027       1    1      1\n",
       "100036       1    1      1\n",
       "100037       1    1      1\n",
       "100038       1    1      1\n",
       "100039       1    1      1\n",
       "100040       1    1      1\n",
       "100041       1    1      1\n",
       "100042       1    1      1\n",
       "100043       1    1      1\n",
       "100044       1    1      1\n",
       "100045       1    1      1\n",
       "100053       1    1      1\n",
       "100054       1    1      1\n",
       "100056       1    1      1\n",
       "                        ..\n",
       "3260748      32   55     2\n",
       "3260749      32   55     2\n",
       "3260750      32   55     1\n",
       "3260751      32   55     2\n",
       "3260752      32   55     2\n",
       "3260753      32   55     2\n",
       "3260754      32   55     1\n",
       "3260755      32   55     1\n",
       "3260756      32   55     1\n",
       "3260757      32   55     1\n",
       "3260793      32   37     1\n",
       "3260794      32   37     1\n",
       "3260795      32   37     1\n",
       "3260796      32   37     1\n",
       "3260797      32   37     1\n",
       "3260798      32   37     1\n",
       "3260799      32   37     1\n",
       "3260800      32   37     1\n",
       "3260801      32   37     1\n",
       "3260802      32   37     1\n",
       "3260803      32   37     1\n",
       "3260804      32   37     1\n",
       "3260805      32   37     1\n",
       "3260806      32   37     1\n",
       "3260807      32   37     1\n",
       "3260808      32   37     1\n",
       "3260809      32   37     1\n",
       "3260810      32   37     1\n",
       "3260811      32   37     1\n",
       "3260812      32   37     1\n",
       "Length: 69878, dtype: int64"
      ]
     },
     "execution_count": 31,
     "metadata": {},
     "output_type": "execute_result"
    }
   ],
   "source": [
    "df_v15.groupby(['ID_VIVIENDA', 'ENT', 'MUN']).size()"
   ]
  },
  {
   "cell_type": "code",
   "execution_count": 32,
   "metadata": {},
   "outputs": [
    {
     "data": {
      "text/html": [
       "<div>\n",
       "<style scoped>\n",
       "    .dataframe tbody tr th:only-of-type {\n",
       "        vertical-align: middle;\n",
       "    }\n",
       "\n",
       "    .dataframe tbody tr th {\n",
       "        vertical-align: top;\n",
       "    }\n",
       "\n",
       "    .dataframe thead th {\n",
       "        text-align: right;\n",
       "    }\n",
       "</style>\n",
       "<table border=\"1\" class=\"dataframe\">\n",
       "  <thead>\n",
       "    <tr style=\"text-align: right;\">\n",
       "      <th></th>\n",
       "      <th></th>\n",
       "      <th></th>\n",
       "    </tr>\n",
       "    <tr>\n",
       "      <th>ID_VIVIENDA</th>\n",
       "      <th>ENT</th>\n",
       "      <th>MUN</th>\n",
       "    </tr>\n",
       "  </thead>\n",
       "  <tbody>\n",
       "    <tr>\n",
       "      <th>100007</th>\n",
       "      <th>1</th>\n",
       "      <th>1</th>\n",
       "    </tr>\n",
       "    <tr>\n",
       "      <th>100008</th>\n",
       "      <th>1</th>\n",
       "      <th>1</th>\n",
       "    </tr>\n",
       "    <tr>\n",
       "      <th>100009</th>\n",
       "      <th>1</th>\n",
       "      <th>1</th>\n",
       "    </tr>\n",
       "    <tr>\n",
       "      <th>100010</th>\n",
       "      <th>1</th>\n",
       "      <th>1</th>\n",
       "    </tr>\n",
       "    <tr>\n",
       "      <th>100011</th>\n",
       "      <th>1</th>\n",
       "      <th>1</th>\n",
       "    </tr>\n",
       "  </tbody>\n",
       "</table>\n",
       "</div>"
      ],
      "text/plain": [
       "Empty DataFrame\n",
       "Columns: []\n",
       "Index: [(100007, 1, 1), (100008, 1, 1), (100009, 1, 1), (100010, 1, 1), (100011, 1, 1)]"
      ]
     },
     "execution_count": 32,
     "metadata": {},
     "output_type": "execute_result"
    }
   ],
   "source": [
    "grouped = pd.DataFrame(df_v15.groupby(['ID_VIVIENDA', 'ENT', 'MUN']).size())\n",
    "grouped.drop([0], axis=1, inplace=True)\n",
    "grouped.head()"
   ]
  },
  {
   "cell_type": "code",
   "execution_count": 33,
   "metadata": {},
   "outputs": [
    {
     "data": {
      "text/plain": [
       "Index(['ID_VIVIENDA', 'ENT', 'MUN'], dtype='object')"
      ]
     },
     "execution_count": 33,
     "metadata": {},
     "output_type": "execute_result"
    }
   ],
   "source": [
    "grouped.reset_index(inplace=True)\n",
    "grouped.columns"
   ]
  },
  {
   "cell_type": "code",
   "execution_count": 34,
   "metadata": {},
   "outputs": [
    {
     "data": {
      "text/html": [
       "<div>\n",
       "<style scoped>\n",
       "    .dataframe tbody tr th:only-of-type {\n",
       "        vertical-align: middle;\n",
       "    }\n",
       "\n",
       "    .dataframe tbody tr th {\n",
       "        vertical-align: top;\n",
       "    }\n",
       "\n",
       "    .dataframe thead th {\n",
       "        text-align: right;\n",
       "    }\n",
       "</style>\n",
       "<table border=\"1\" class=\"dataframe\">\n",
       "  <thead>\n",
       "    <tr style=\"text-align: right;\">\n",
       "      <th></th>\n",
       "      <th>ID_VIVIENDA</th>\n",
       "      <th>ENT</th>\n",
       "      <th>MUN</th>\n",
       "    </tr>\n",
       "  </thead>\n",
       "  <tbody>\n",
       "    <tr>\n",
       "      <th>0</th>\n",
       "      <td>100007</td>\n",
       "      <td>1</td>\n",
       "      <td>1</td>\n",
       "    </tr>\n",
       "    <tr>\n",
       "      <th>1</th>\n",
       "      <td>100008</td>\n",
       "      <td>1</td>\n",
       "      <td>1</td>\n",
       "    </tr>\n",
       "    <tr>\n",
       "      <th>2</th>\n",
       "      <td>100009</td>\n",
       "      <td>1</td>\n",
       "      <td>1</td>\n",
       "    </tr>\n",
       "    <tr>\n",
       "      <th>3</th>\n",
       "      <td>100010</td>\n",
       "      <td>1</td>\n",
       "      <td>1</td>\n",
       "    </tr>\n",
       "    <tr>\n",
       "      <th>4</th>\n",
       "      <td>100011</td>\n",
       "      <td>1</td>\n",
       "      <td>1</td>\n",
       "    </tr>\n",
       "  </tbody>\n",
       "</table>\n",
       "</div>"
      ],
      "text/plain": [
       "   ID_VIVIENDA  ENT  MUN\n",
       "0       100007    1    1\n",
       "1       100008    1    1\n",
       "2       100009    1    1\n",
       "3       100010    1    1\n",
       "4       100011    1    1"
      ]
     },
     "execution_count": 34,
     "metadata": {},
     "output_type": "execute_result"
    }
   ],
   "source": [
    "grouped.head()"
   ]
  },
  {
   "cell_type": "code",
   "execution_count": 35,
   "metadata": {},
   "outputs": [
    {
     "data": {
      "text/plain": [
       "dict_keys(['index', 'columns', 'data'])"
      ]
     },
     "execution_count": 35,
     "metadata": {},
     "output_type": "execute_result"
    }
   ],
   "source": [
    "dict_grouped = grouped.to_dict(orient='split')\n",
    "dict_grouped.keys()"
   ]
  },
  {
   "cell_type": "code",
   "execution_count": 36,
   "metadata": {},
   "outputs": [
    {
     "data": {
      "text/plain": [
       "['ID_VIVIENDA', 'ENT', 'MUN']"
      ]
     },
     "execution_count": 36,
     "metadata": {},
     "output_type": "execute_result"
    }
   ],
   "source": [
    "dict_grouped.pop('index')\n",
    "dict_grouped.pop('columns')"
   ]
  },
  {
   "cell_type": "code",
   "execution_count": 37,
   "metadata": {},
   "outputs": [
    {
     "data": {
      "text/plain": [
       "[100007, 1, 1]"
      ]
     },
     "execution_count": 37,
     "metadata": {},
     "output_type": "execute_result"
    }
   ],
   "source": [
    "dict_grouped['data'][0]"
   ]
  },
  {
   "cell_type": "code",
   "execution_count": 38,
   "metadata": {},
   "outputs": [
    {
     "data": {
      "text/plain": [
       "100007"
      ]
     },
     "execution_count": 38,
     "metadata": {},
     "output_type": "execute_result"
    }
   ],
   "source": [
    "dict_grouped['data'][0][0]"
   ]
  },
  {
   "cell_type": "code",
   "execution_count": 39,
   "metadata": {},
   "outputs": [
    {
     "data": {
      "text/plain": [
       "array([ 100007,  100008,  100009, ..., 3260810, 3260811, 3260812])"
      ]
     },
     "execution_count": 39,
     "metadata": {},
     "output_type": "execute_result"
    }
   ],
   "source": [
    "array_grouped = grouped.ID_VIVIENDA.unique()\n",
    "array_grouped"
   ]
  },
  {
   "cell_type": "code",
   "execution_count": 40,
   "metadata": {},
   "outputs": [],
   "source": [
    "dict_ID_VIVIENDA_ENT = {}\n",
    "\n",
    "for line in dict_grouped['data']:\n",
    "    #print(line[0], ':', line[1])\n",
    "    dict_ID_VIVIENDA_ENT[line[0]] = line[1]"
   ]
  },
  {
   "cell_type": "code",
   "execution_count": 41,
   "metadata": {},
   "outputs": [],
   "source": [
    "dict_ID_VIVIENDA_MUN = {}\n",
    "\n",
    "for line in dict_grouped['data']:\n",
    "    #print(line[0], ':', line[1])\n",
    "    dict_ID_VIVIENDA_MUN[line[0]] = line[2]"
   ]
  },
  {
   "cell_type": "code",
   "execution_count": 42,
   "metadata": {},
   "outputs": [],
   "source": [
    "df_s15['CVE_ENT'] = df_s15['ID_VIVIENDA'].map(dict_ID_VIVIENDA_ENT)"
   ]
  },
  {
   "cell_type": "code",
   "execution_count": 43,
   "metadata": {},
   "outputs": [
    {
     "data": {
      "text/plain": [
       "array([ 1,  2,  3,  4,  5,  6,  7,  8,  9, 10, 11, 12, 13, 14, 15, 16, 17,\n",
       "       18, 19, 20, 21, 22, 23, 24, 25, 26, 27, 28, 29, 30, 31, 32])"
      ]
     },
     "execution_count": 43,
     "metadata": {},
     "output_type": "execute_result"
    }
   ],
   "source": [
    "df_s15.CVE_ENT.unique()"
   ]
  },
  {
   "cell_type": "code",
   "execution_count": 44,
   "metadata": {},
   "outputs": [],
   "source": [
    "df_s15['CVE_MUN'] = df_s15['ID_VIVIENDA'].map(dict_ID_VIVIENDA_MUN)"
   ]
  },
  {
   "cell_type": "code",
   "execution_count": 45,
   "metadata": {},
   "outputs": [
    {
     "data": {
      "text/plain": [
       "array([  1,   3,   5,   6,   7,  11,   2,   4,   9,  10,   8,  18,  25,\n",
       "        30,  35,  17,  20,  24,  27,  28,  32,  33,  22,  37,  38,  14,\n",
       "        36,  78,  89, 101,  12,  19,  34,  40,  52,  61,  65,  74,  75,\n",
       "        86,  94,  97, 106, 108,  21,  29,  31,  46,  47,  59,  81,  85,\n",
       "        87,  96,  99, 102, 105, 107, 111,  15,  23,  51,  69,  76,  93,\n",
       "        41,  44,  48,  54,  55,  57,  70,  92,  98, 100, 103, 109, 112,\n",
       "       114, 116,  53,  45,  50,  13,  16,  39,  42,  58,  66,  43,  56,\n",
       "        67,  71,  73,  77,  79,  82,  83,  84,  62,  63,  64, 120, 124,\n",
       "        68, 113,  60, 104, 121, 122,  91, 110, 118,  88, 119,  49,  72,\n",
       "        95,  26, 184, 385, 390, 397, 399, 515,  90, 115, 157, 185, 278,\n",
       "       293, 295, 298, 324, 327, 350, 375, 384, 401, 409, 418, 441, 505,\n",
       "       520, 525, 546, 551, 565, 570, 519, 198, 414, 134, 135, 142, 189,\n",
       "       190, 200, 207, 208, 234, 242, 245, 254, 259, 266, 277, 309, 317,\n",
       "       333, 334, 413, 422, 424, 439, 450, 453, 454, 466, 469, 491, 494,\n",
       "       496, 507, 513, 215, 349, 412, 419, 431, 470, 485, 531, 533, 564,\n",
       "       156, 132, 140, 154, 164, 117, 125, 128, 136, 137, 138, 143, 161,\n",
       "       162, 168, 170, 177, 180, 183, 186, 194, 203, 211, 152, 197, 199,\n",
       "       202, 141, 150, 153, 169, 172, 178, 188, 213, 217, 131, 193, 123,\n",
       "       160, 174, 204, 206, 129, 133, 148, 149, 175, 209, 126, 130, 151,\n",
       "       155, 173, 181, 191, 210, 163])"
      ]
     },
     "execution_count": 45,
     "metadata": {},
     "output_type": "execute_result"
    }
   ],
   "source": [
    "df_s15.CVE_MUN.unique()"
   ]
  },
  {
   "cell_type": "code",
   "execution_count": 46,
   "metadata": {},
   "outputs": [
    {
     "data": {
      "text/plain": [
       "(84507, 146)"
      ]
     },
     "execution_count": 46,
     "metadata": {},
     "output_type": "execute_result"
    }
   ],
   "source": [
    "df_s15.shape"
   ]
  },
  {
   "cell_type": "code",
   "execution_count": 47,
   "metadata": {},
   "outputs": [],
   "source": [
    "df_s15.to_csv('../dataframes/delitos_2015.csv')"
   ]
  },
  {
   "cell_type": "markdown",
   "metadata": {},
   "source": [
    "# 2016"
   ]
  },
  {
   "cell_type": "markdown",
   "metadata": {},
   "source": [
    "## Vivienda"
   ]
  },
  {
   "cell_type": "code",
   "execution_count": 48,
   "metadata": {},
   "outputs": [
    {
     "data": {
      "text/html": [
       "<div>\n",
       "<style scoped>\n",
       "    .dataframe tbody tr th:only-of-type {\n",
       "        vertical-align: middle;\n",
       "    }\n",
       "\n",
       "    .dataframe tbody tr th {\n",
       "        vertical-align: top;\n",
       "    }\n",
       "\n",
       "    .dataframe thead th {\n",
       "        text-align: right;\n",
       "    }\n",
       "</style>\n",
       "<table border=\"1\" class=\"dataframe\">\n",
       "  <thead>\n",
       "    <tr style=\"text-align: right;\">\n",
       "      <th></th>\n",
       "      <th>ID_VIV</th>\n",
       "      <th>UPM</th>\n",
       "      <th>VIV_SEL</th>\n",
       "      <th>ENT</th>\n",
       "      <th>MUN</th>\n",
       "      <th>AREAM</th>\n",
       "      <th>RESULT_V</th>\n",
       "      <th>AP1_1</th>\n",
       "      <th>AP1_2</th>\n",
       "      <th>AP2_1</th>\n",
       "      <th>AP2_2</th>\n",
       "      <th>AP2_3</th>\n",
       "      <th>NAP2_3</th>\n",
       "      <th>FAC_VIV</th>\n",
       "      <th>FAC_VIV_AM</th>\n",
       "      <th>DOMINIO</th>\n",
       "      <th>EST_DIS</th>\n",
       "      <th>UPM_DIS</th>\n",
       "      <th>year</th>\n",
       "    </tr>\n",
       "  </thead>\n",
       "  <tbody>\n",
       "    <tr>\n",
       "      <th>0</th>\n",
       "      <td>100006.01</td>\n",
       "      <td>100006</td>\n",
       "      <td>1</td>\n",
       "      <td>1</td>\n",
       "      <td>1</td>\n",
       "      <td>14\\r</td>\n",
       "      <td>2</td>\n",
       "      <td>1</td>\n",
       "      <td>2</td>\n",
       "      <td>7</td>\n",
       "      <td>1</td>\n",
       "      <td>\\r</td>\n",
       "      <td>1</td>\n",
       "      <td>168</td>\n",
       "      <td>000168\\r</td>\n",
       "      <td>U\\r</td>\n",
       "      <td>2</td>\n",
       "      <td>1</td>\n",
       "      <td>2016</td>\n",
       "    </tr>\n",
       "    <tr>\n",
       "      <th>1</th>\n",
       "      <td>100006.02</td>\n",
       "      <td>100006</td>\n",
       "      <td>2</td>\n",
       "      <td>1</td>\n",
       "      <td>1</td>\n",
       "      <td>14\\r</td>\n",
       "      <td>2</td>\n",
       "      <td>1</td>\n",
       "      <td>2</td>\n",
       "      <td>2</td>\n",
       "      <td>1</td>\n",
       "      <td>\\r</td>\n",
       "      <td>1</td>\n",
       "      <td>168</td>\n",
       "      <td>000168\\r</td>\n",
       "      <td>U\\r</td>\n",
       "      <td>2</td>\n",
       "      <td>1</td>\n",
       "      <td>2016</td>\n",
       "    </tr>\n",
       "    <tr>\n",
       "      <th>2</th>\n",
       "      <td>100006.03</td>\n",
       "      <td>100006</td>\n",
       "      <td>3</td>\n",
       "      <td>1</td>\n",
       "      <td>1</td>\n",
       "      <td>14\\r</td>\n",
       "      <td>2</td>\n",
       "      <td>3</td>\n",
       "      <td>2</td>\n",
       "      <td>8</td>\n",
       "      <td>1</td>\n",
       "      <td>\\r</td>\n",
       "      <td>1</td>\n",
       "      <td>168</td>\n",
       "      <td>000168\\r</td>\n",
       "      <td>U\\r</td>\n",
       "      <td>2</td>\n",
       "      <td>1</td>\n",
       "      <td>2016</td>\n",
       "    </tr>\n",
       "    <tr>\n",
       "      <th>3</th>\n",
       "      <td>100006.04</td>\n",
       "      <td>100006</td>\n",
       "      <td>4</td>\n",
       "      <td>1</td>\n",
       "      <td>1</td>\n",
       "      <td>14\\r</td>\n",
       "      <td>1</td>\n",
       "      <td>1</td>\n",
       "      <td>2</td>\n",
       "      <td>2</td>\n",
       "      <td>2</td>\n",
       "      <td>02\\r</td>\n",
       "      <td>2</td>\n",
       "      <td>168</td>\n",
       "      <td>000168\\r</td>\n",
       "      <td>U\\r</td>\n",
       "      <td>2</td>\n",
       "      <td>1</td>\n",
       "      <td>2016</td>\n",
       "    </tr>\n",
       "    <tr>\n",
       "      <th>4</th>\n",
       "      <td>100006.05</td>\n",
       "      <td>100006</td>\n",
       "      <td>5</td>\n",
       "      <td>1</td>\n",
       "      <td>1</td>\n",
       "      <td>14\\r</td>\n",
       "      <td>2</td>\n",
       "      <td>1</td>\n",
       "      <td>2</td>\n",
       "      <td>3</td>\n",
       "      <td>1</td>\n",
       "      <td>\\r</td>\n",
       "      <td>1</td>\n",
       "      <td>168</td>\n",
       "      <td>000168\\r</td>\n",
       "      <td>U\\r</td>\n",
       "      <td>2</td>\n",
       "      <td>1</td>\n",
       "      <td>2016</td>\n",
       "    </tr>\n",
       "  </tbody>\n",
       "</table>\n",
       "</div>"
      ],
      "text/plain": [
       "      ID_VIV     UPM  VIV_SEL  ENT  MUN AREAM  RESULT_V  AP1_1  AP1_2  AP2_1  \\\n",
       "0  100006.01  100006        1    1    1  14\\r         2      1      2      7   \n",
       "1  100006.02  100006        2    1    1  14\\r         2      1      2      2   \n",
       "2  100006.03  100006        3    1    1  14\\r         2      3      2      8   \n",
       "3  100006.04  100006        4    1    1  14\\r         1      1      2      2   \n",
       "4  100006.05  100006        5    1    1  14\\r         2      1      2      3   \n",
       "\n",
       "   AP2_2 AP2_3  NAP2_3  FAC_VIV FAC_VIV_AM DOMINIO  EST_DIS  UPM_DIS  year  \n",
       "0      1    \\r       1      168   000168\\r     U\\r        2        1  2016  \n",
       "1      1    \\r       1      168   000168\\r     U\\r        2        1  2016  \n",
       "2      1    \\r       1      168   000168\\r     U\\r        2        1  2016  \n",
       "3      2  02\\r       2      168   000168\\r     U\\r        2        1  2016  \n",
       "4      1    \\r       1      168   000168\\r     U\\r        2        1  2016  "
      ]
     },
     "execution_count": 48,
     "metadata": {},
     "output_type": "execute_result"
    }
   ],
   "source": [
    "file = '../data/2016/tvivienda_envipe2016/conjunto_de_datos/tvivienda_envipe2016.csv'\n",
    "df_v16 = pd.read_csv(file, encoding='latin')\n",
    "df_v16['year'] = 2016\n",
    "df_v16.head()"
   ]
  },
  {
   "cell_type": "code",
   "execution_count": 49,
   "metadata": {},
   "outputs": [
    {
     "data": {
      "text/plain": [
       "(84140, 19)"
      ]
     },
     "execution_count": 49,
     "metadata": {},
     "output_type": "execute_result"
    }
   ],
   "source": [
    "df_v16.shape"
   ]
  },
  {
   "cell_type": "code",
   "execution_count": 50,
   "metadata": {},
   "outputs": [],
   "source": [
    "df_v16['ID_VIVIENDA'] = df_v16.UPM + df_v16.VIV_SEL"
   ]
  },
  {
   "cell_type": "markdown",
   "metadata": {},
   "source": [
    "## Victimización 1"
   ]
  },
  {
   "cell_type": "code",
   "execution_count": 51,
   "metadata": {},
   "outputs": [
    {
     "data": {
      "text/html": [
       "<div>\n",
       "<style scoped>\n",
       "    .dataframe tbody tr th:only-of-type {\n",
       "        vertical-align: middle;\n",
       "    }\n",
       "\n",
       "    .dataframe tbody tr th {\n",
       "        vertical-align: top;\n",
       "    }\n",
       "\n",
       "    .dataframe thead th {\n",
       "        text-align: right;\n",
       "    }\n",
       "</style>\n",
       "<table border=\"1\" class=\"dataframe\">\n",
       "  <thead>\n",
       "    <tr style=\"text-align: right;\">\n",
       "      <th></th>\n",
       "      <th>ID_VIV</th>\n",
       "      <th>ID_HOG</th>\n",
       "      <th>ID_PER</th>\n",
       "      <th>UPM</th>\n",
       "      <th>VIV_SEL</th>\n",
       "      <th>HOGAR</th>\n",
       "      <th>RESUL_H</th>\n",
       "      <th>R_SEL</th>\n",
       "      <th>AREAM</th>\n",
       "      <th>AP6_1_1</th>\n",
       "      <th>...</th>\n",
       "      <th>AP7_4_15</th>\n",
       "      <th>FAC_HOG</th>\n",
       "      <th>FAC_ELE</th>\n",
       "      <th>FAC_HOG_AM</th>\n",
       "      <th>FAC_ELE_AM</th>\n",
       "      <th>DOMINIO</th>\n",
       "      <th>ESTRATO</th>\n",
       "      <th>EST_DIS</th>\n",
       "      <th>UPM_DIS</th>\n",
       "      <th>year</th>\n",
       "    </tr>\n",
       "  </thead>\n",
       "  <tbody>\n",
       "    <tr>\n",
       "      <th>0</th>\n",
       "      <td>100006.01</td>\n",
       "      <td>0100006.01.01\\r</td>\n",
       "      <td>0100006.01.01.03\\r</td>\n",
       "      <td>100006</td>\n",
       "      <td>1</td>\n",
       "      <td>1</td>\n",
       "      <td>B\\r</td>\n",
       "      <td>3</td>\n",
       "      <td>14\\r</td>\n",
       "      <td>2</td>\n",
       "      <td>...</td>\n",
       "      <td>\\r</td>\n",
       "      <td>168</td>\n",
       "      <td>841</td>\n",
       "      <td>000168\\r</td>\n",
       "      <td>000841\\r</td>\n",
       "      <td>U\\r</td>\n",
       "      <td>3</td>\n",
       "      <td>2</td>\n",
       "      <td>1</td>\n",
       "      <td>2016</td>\n",
       "    </tr>\n",
       "    <tr>\n",
       "      <th>1</th>\n",
       "      <td>100006.02</td>\n",
       "      <td>0100006.02.01\\r</td>\n",
       "      <td>0100006.02.01.01\\r</td>\n",
       "      <td>100006</td>\n",
       "      <td>2</td>\n",
       "      <td>1</td>\n",
       "      <td>B\\r</td>\n",
       "      <td>1</td>\n",
       "      <td>14\\r</td>\n",
       "      <td>1</td>\n",
       "      <td>...</td>\n",
       "      <td>\\r</td>\n",
       "      <td>168</td>\n",
       "      <td>336</td>\n",
       "      <td>000168\\r</td>\n",
       "      <td>000336\\r</td>\n",
       "      <td>U\\r</td>\n",
       "      <td>3</td>\n",
       "      <td>2</td>\n",
       "      <td>1</td>\n",
       "      <td>2016</td>\n",
       "    </tr>\n",
       "    <tr>\n",
       "      <th>2</th>\n",
       "      <td>100006.03</td>\n",
       "      <td>0100006.03.01\\r</td>\n",
       "      <td>0100006.03.01.04\\r</td>\n",
       "      <td>100006</td>\n",
       "      <td>3</td>\n",
       "      <td>1</td>\n",
       "      <td>B\\r</td>\n",
       "      <td>4</td>\n",
       "      <td>14\\r</td>\n",
       "      <td>2</td>\n",
       "      <td>...</td>\n",
       "      <td>\\r</td>\n",
       "      <td>168</td>\n",
       "      <td>673</td>\n",
       "      <td>000168\\r</td>\n",
       "      <td>000673\\r</td>\n",
       "      <td>U\\r</td>\n",
       "      <td>3</td>\n",
       "      <td>2</td>\n",
       "      <td>1</td>\n",
       "      <td>2016</td>\n",
       "    </tr>\n",
       "    <tr>\n",
       "      <th>3</th>\n",
       "      <td>100006.04</td>\n",
       "      <td>0100006.04.01\\r</td>\n",
       "      <td>0100006.04.01.01\\r</td>\n",
       "      <td>100006</td>\n",
       "      <td>4</td>\n",
       "      <td>1</td>\n",
       "      <td>A\\r</td>\n",
       "      <td>1</td>\n",
       "      <td>14\\r</td>\n",
       "      <td>1</td>\n",
       "      <td>...</td>\n",
       "      <td>\\r</td>\n",
       "      <td>168</td>\n",
       "      <td>168</td>\n",
       "      <td>000168\\r</td>\n",
       "      <td>000168\\r</td>\n",
       "      <td>U\\r</td>\n",
       "      <td>3</td>\n",
       "      <td>2</td>\n",
       "      <td>1</td>\n",
       "      <td>2016</td>\n",
       "    </tr>\n",
       "    <tr>\n",
       "      <th>4</th>\n",
       "      <td>100006.04</td>\n",
       "      <td>0100006.04.02\\r</td>\n",
       "      <td>0100006.04.02.01\\r</td>\n",
       "      <td>100006</td>\n",
       "      <td>4</td>\n",
       "      <td>2</td>\n",
       "      <td>B\\r</td>\n",
       "      <td>1</td>\n",
       "      <td>\\r</td>\n",
       "      <td>2</td>\n",
       "      <td>...</td>\n",
       "      <td>\\r</td>\n",
       "      <td>168</td>\n",
       "      <td>168</td>\n",
       "      <td>\\r</td>\n",
       "      <td>\\r</td>\n",
       "      <td>U\\r</td>\n",
       "      <td>3</td>\n",
       "      <td>2</td>\n",
       "      <td>1</td>\n",
       "      <td>2016</td>\n",
       "    </tr>\n",
       "  </tbody>\n",
       "</table>\n",
       "<p>5 rows × 144 columns</p>\n",
       "</div>"
      ],
      "text/plain": [
       "      ID_VIV           ID_HOG              ID_PER     UPM  VIV_SEL  HOGAR  \\\n",
       "0  100006.01  0100006.01.01\\r  0100006.01.01.03\\r  100006        1      1   \n",
       "1  100006.02  0100006.02.01\\r  0100006.02.01.01\\r  100006        2      1   \n",
       "2  100006.03  0100006.03.01\\r  0100006.03.01.04\\r  100006        3      1   \n",
       "3  100006.04  0100006.04.01\\r  0100006.04.01.01\\r  100006        4      1   \n",
       "4  100006.04  0100006.04.02\\r  0100006.04.02.01\\r  100006        4      2   \n",
       "\n",
       "  RESUL_H  R_SEL AREAM  AP6_1_1  ...  AP7_4_15  FAC_HOG  FAC_ELE  FAC_HOG_AM  \\\n",
       "0     B\\r      3  14\\r        2  ...        \\r      168      841    000168\\r   \n",
       "1     B\\r      1  14\\r        1  ...        \\r      168      336    000168\\r   \n",
       "2     B\\r      4  14\\r        2  ...        \\r      168      673    000168\\r   \n",
       "3     A\\r      1  14\\r        1  ...        \\r      168      168    000168\\r   \n",
       "4     B\\r      1    \\r        2  ...        \\r      168      168          \\r   \n",
       "\n",
       "  FAC_ELE_AM DOMINIO  ESTRATO EST_DIS UPM_DIS  year  \n",
       "0   000841\\r     U\\r        3       2       1  2016  \n",
       "1   000336\\r     U\\r        3       2       1  2016  \n",
       "2   000673\\r     U\\r        3       2       1  2016  \n",
       "3   000168\\r     U\\r        3       2       1  2016  \n",
       "4         \\r     U\\r        3       2       1  2016  \n",
       "\n",
       "[5 rows x 144 columns]"
      ]
     },
     "execution_count": 51,
     "metadata": {},
     "output_type": "execute_result"
    }
   ],
   "source": [
    "file = '../data/2016/tper_vic2_envipe2016/conjunto_de_datos/tper_vic2_envipe2016.csv'\n",
    "df_s16 = pd.read_csv(file, encoding='latin')\n",
    "df_s16['year'] = 2016\n",
    "df_s16.head()"
   ]
  },
  {
   "cell_type": "code",
   "execution_count": 52,
   "metadata": {},
   "outputs": [
    {
     "data": {
      "text/plain": [
       "(85744, 144)"
      ]
     },
     "execution_count": 52,
     "metadata": {},
     "output_type": "execute_result"
    }
   ],
   "source": [
    "df_s16.shape"
   ]
  },
  {
   "cell_type": "code",
   "execution_count": 53,
   "metadata": {},
   "outputs": [],
   "source": [
    "df_s16['ID_VIVIENDA'] = df_s16.UPM + df_s16.VIV_SEL"
   ]
  },
  {
   "cell_type": "markdown",
   "metadata": {},
   "source": [
    "## DICCIONARIO Vivienda - Victimización 1"
   ]
  },
  {
   "cell_type": "code",
   "execution_count": 54,
   "metadata": {},
   "outputs": [
    {
     "data": {
      "text/plain": [
       "ID_VIVIENDA  ENT  MUN\n",
       "100007       1    1      1\n",
       "100008       1    1      1\n",
       "100009       1    1      2\n",
       "100010       1    1      1\n",
       "100011       1    1      2\n",
       "100012       1    1      1\n",
       "100013       1    1      2\n",
       "100015       1    1      1\n",
       "100023       1    1      1\n",
       "100024       1    1      1\n",
       "100025       1    1      1\n",
       "100026       1    1      2\n",
       "100027       1    1      1\n",
       "100028       1    1      1\n",
       "100029       1    1      1\n",
       "100030       1    1      1\n",
       "100032       1    1      1\n",
       "100034       1    1      1\n",
       "100035       1    1      1\n",
       "100036       1    1      1\n",
       "100041       1    1      1\n",
       "100042       1    1      1\n",
       "100043       1    1      1\n",
       "100044       1    1      1\n",
       "100045       1    1      1\n",
       "100078       1    1      1\n",
       "100079       1    1      1\n",
       "100080       1    1      2\n",
       "100081       1    1      1\n",
       "100082       1    1      1\n",
       "                        ..\n",
       "3260796      32   37     1\n",
       "3260797      32   35     1\n",
       "                  37     1\n",
       "3260798      32   35     1\n",
       "                  37     1\n",
       "3260799      32   35     1\n",
       "                  37     1\n",
       "3260800      32   35     1\n",
       "                  37     1\n",
       "3260801      32   35     1\n",
       "                  37     1\n",
       "3260802      32   35     1\n",
       "                  37     1\n",
       "3260803      32   35     1\n",
       "                  37     1\n",
       "3260804      32   37     1\n",
       "3260805      32   35     1\n",
       "                  37     1\n",
       "3260806      32   35     1\n",
       "                  37     1\n",
       "3260807      32   35     1\n",
       "                  37     1\n",
       "3260808      32   35     1\n",
       "                  37     1\n",
       "3260809      32   35     1\n",
       "                  37     1\n",
       "3260810      32   35     1\n",
       "                  37     1\n",
       "3260811      32   37     1\n",
       "3260812      32   37     1\n",
       "Length: 69303, dtype: int64"
      ]
     },
     "execution_count": 54,
     "metadata": {},
     "output_type": "execute_result"
    }
   ],
   "source": [
    "df_v16.groupby(['ID_VIVIENDA', 'ENT', 'MUN']).size()"
   ]
  },
  {
   "cell_type": "code",
   "execution_count": 55,
   "metadata": {},
   "outputs": [
    {
     "data": {
      "text/html": [
       "<div>\n",
       "<style scoped>\n",
       "    .dataframe tbody tr th:only-of-type {\n",
       "        vertical-align: middle;\n",
       "    }\n",
       "\n",
       "    .dataframe tbody tr th {\n",
       "        vertical-align: top;\n",
       "    }\n",
       "\n",
       "    .dataframe thead th {\n",
       "        text-align: right;\n",
       "    }\n",
       "</style>\n",
       "<table border=\"1\" class=\"dataframe\">\n",
       "  <thead>\n",
       "    <tr style=\"text-align: right;\">\n",
       "      <th></th>\n",
       "      <th></th>\n",
       "      <th></th>\n",
       "    </tr>\n",
       "    <tr>\n",
       "      <th>ID_VIVIENDA</th>\n",
       "      <th>ENT</th>\n",
       "      <th>MUN</th>\n",
       "    </tr>\n",
       "  </thead>\n",
       "  <tbody>\n",
       "    <tr>\n",
       "      <th>100007</th>\n",
       "      <th>1</th>\n",
       "      <th>1</th>\n",
       "    </tr>\n",
       "    <tr>\n",
       "      <th>100008</th>\n",
       "      <th>1</th>\n",
       "      <th>1</th>\n",
       "    </tr>\n",
       "    <tr>\n",
       "      <th>100009</th>\n",
       "      <th>1</th>\n",
       "      <th>1</th>\n",
       "    </tr>\n",
       "    <tr>\n",
       "      <th>100010</th>\n",
       "      <th>1</th>\n",
       "      <th>1</th>\n",
       "    </tr>\n",
       "    <tr>\n",
       "      <th>100011</th>\n",
       "      <th>1</th>\n",
       "      <th>1</th>\n",
       "    </tr>\n",
       "  </tbody>\n",
       "</table>\n",
       "</div>"
      ],
      "text/plain": [
       "Empty DataFrame\n",
       "Columns: []\n",
       "Index: [(100007, 1, 1), (100008, 1, 1), (100009, 1, 1), (100010, 1, 1), (100011, 1, 1)]"
      ]
     },
     "execution_count": 55,
     "metadata": {},
     "output_type": "execute_result"
    }
   ],
   "source": [
    "grouped = pd.DataFrame(df_v16.groupby(['ID_VIVIENDA', 'ENT', 'MUN']).size())\n",
    "grouped.drop([0], axis=1, inplace=True)\n",
    "grouped.head()"
   ]
  },
  {
   "cell_type": "code",
   "execution_count": 56,
   "metadata": {},
   "outputs": [
    {
     "data": {
      "text/plain": [
       "Index(['ID_VIVIENDA', 'ENT', 'MUN'], dtype='object')"
      ]
     },
     "execution_count": 56,
     "metadata": {},
     "output_type": "execute_result"
    }
   ],
   "source": [
    "grouped.reset_index(inplace=True)\n",
    "grouped.columns"
   ]
  },
  {
   "cell_type": "code",
   "execution_count": 57,
   "metadata": {},
   "outputs": [
    {
     "data": {
      "text/html": [
       "<div>\n",
       "<style scoped>\n",
       "    .dataframe tbody tr th:only-of-type {\n",
       "        vertical-align: middle;\n",
       "    }\n",
       "\n",
       "    .dataframe tbody tr th {\n",
       "        vertical-align: top;\n",
       "    }\n",
       "\n",
       "    .dataframe thead th {\n",
       "        text-align: right;\n",
       "    }\n",
       "</style>\n",
       "<table border=\"1\" class=\"dataframe\">\n",
       "  <thead>\n",
       "    <tr style=\"text-align: right;\">\n",
       "      <th></th>\n",
       "      <th>ID_VIVIENDA</th>\n",
       "      <th>ENT</th>\n",
       "      <th>MUN</th>\n",
       "    </tr>\n",
       "  </thead>\n",
       "  <tbody>\n",
       "    <tr>\n",
       "      <th>0</th>\n",
       "      <td>100007</td>\n",
       "      <td>1</td>\n",
       "      <td>1</td>\n",
       "    </tr>\n",
       "    <tr>\n",
       "      <th>1</th>\n",
       "      <td>100008</td>\n",
       "      <td>1</td>\n",
       "      <td>1</td>\n",
       "    </tr>\n",
       "    <tr>\n",
       "      <th>2</th>\n",
       "      <td>100009</td>\n",
       "      <td>1</td>\n",
       "      <td>1</td>\n",
       "    </tr>\n",
       "    <tr>\n",
       "      <th>3</th>\n",
       "      <td>100010</td>\n",
       "      <td>1</td>\n",
       "      <td>1</td>\n",
       "    </tr>\n",
       "    <tr>\n",
       "      <th>4</th>\n",
       "      <td>100011</td>\n",
       "      <td>1</td>\n",
       "      <td>1</td>\n",
       "    </tr>\n",
       "  </tbody>\n",
       "</table>\n",
       "</div>"
      ],
      "text/plain": [
       "   ID_VIVIENDA  ENT  MUN\n",
       "0       100007    1    1\n",
       "1       100008    1    1\n",
       "2       100009    1    1\n",
       "3       100010    1    1\n",
       "4       100011    1    1"
      ]
     },
     "execution_count": 57,
     "metadata": {},
     "output_type": "execute_result"
    }
   ],
   "source": [
    "grouped.head()"
   ]
  },
  {
   "cell_type": "code",
   "execution_count": 58,
   "metadata": {},
   "outputs": [
    {
     "data": {
      "text/plain": [
       "dict_keys(['index', 'columns', 'data'])"
      ]
     },
     "execution_count": 58,
     "metadata": {},
     "output_type": "execute_result"
    }
   ],
   "source": [
    "dict_grouped = grouped.to_dict(orient='split')\n",
    "dict_grouped.keys()"
   ]
  },
  {
   "cell_type": "code",
   "execution_count": 59,
   "metadata": {},
   "outputs": [
    {
     "data": {
      "text/plain": [
       "['ID_VIVIENDA', 'ENT', 'MUN']"
      ]
     },
     "execution_count": 59,
     "metadata": {},
     "output_type": "execute_result"
    }
   ],
   "source": [
    "dict_grouped.pop('index')\n",
    "dict_grouped.pop('columns')"
   ]
  },
  {
   "cell_type": "code",
   "execution_count": 60,
   "metadata": {},
   "outputs": [
    {
     "data": {
      "text/plain": [
       "[100007, 1, 1]"
      ]
     },
     "execution_count": 60,
     "metadata": {},
     "output_type": "execute_result"
    }
   ],
   "source": [
    "dict_grouped['data'][0]"
   ]
  },
  {
   "cell_type": "code",
   "execution_count": 61,
   "metadata": {},
   "outputs": [
    {
     "data": {
      "text/plain": [
       "100007"
      ]
     },
     "execution_count": 61,
     "metadata": {},
     "output_type": "execute_result"
    }
   ],
   "source": [
    "dict_grouped['data'][0][0]"
   ]
  },
  {
   "cell_type": "code",
   "execution_count": 62,
   "metadata": {},
   "outputs": [
    {
     "data": {
      "text/plain": [
       "array([ 100007,  100008,  100009, ..., 3260810, 3260811, 3260812])"
      ]
     },
     "execution_count": 62,
     "metadata": {},
     "output_type": "execute_result"
    }
   ],
   "source": [
    "array_grouped = grouped.ID_VIVIENDA.unique()\n",
    "array_grouped"
   ]
  },
  {
   "cell_type": "code",
   "execution_count": 63,
   "metadata": {},
   "outputs": [],
   "source": [
    "dict_ID_VIVIENDA_ENT = {}\n",
    "\n",
    "for line in dict_grouped['data']:\n",
    "    #print(line[0], ':', line[1])\n",
    "    dict_ID_VIVIENDA_ENT[line[0]] = line[1]"
   ]
  },
  {
   "cell_type": "code",
   "execution_count": 64,
   "metadata": {},
   "outputs": [],
   "source": [
    "dict_ID_VIVIENDA_MUN = {}\n",
    "\n",
    "for line in dict_grouped['data']:\n",
    "    #print(line[0], ':', line[1])\n",
    "    dict_ID_VIVIENDA_MUN[line[0]] = line[2]"
   ]
  },
  {
   "cell_type": "code",
   "execution_count": 65,
   "metadata": {},
   "outputs": [],
   "source": [
    "df_s16['CVE_ENT'] = df_s16['ID_VIVIENDA'].map(dict_ID_VIVIENDA_ENT)"
   ]
  },
  {
   "cell_type": "code",
   "execution_count": 66,
   "metadata": {},
   "outputs": [
    {
     "data": {
      "text/plain": [
       "array([ 1,  2,  3,  4,  5,  6,  7,  8,  9, 10, 11, 12, 13, 14, 15, 16, 17,\n",
       "       18, 19, 20, 21, 22, 23, 24, 25, 26, 27, 28, 29, 30, 31, 32])"
      ]
     },
     "execution_count": 66,
     "metadata": {},
     "output_type": "execute_result"
    }
   ],
   "source": [
    "df_s16.CVE_ENT.unique()"
   ]
  },
  {
   "cell_type": "code",
   "execution_count": 67,
   "metadata": {},
   "outputs": [],
   "source": [
    "df_s16['CVE_MUN'] = df_s16['ID_VIVIENDA'].map(dict_ID_VIVIENDA_MUN)"
   ]
  },
  {
   "cell_type": "code",
   "execution_count": 68,
   "metadata": {},
   "outputs": [
    {
     "data": {
      "text/plain": [
       "array([  1,   5,   6,   7,  11,   2,   9,  10,   4,   3,   8,  18,  25,\n",
       "        30,  35,  17,  20,  24,  27,  28,  31,  32,  33,  22,  37,  36,\n",
       "        13,  26,  78,  89, 101,  12,  19,  34,  40,  51,  52,  61,  65,\n",
       "        74,  75,  86,  94, 106, 108,  29,  41,  46,  47,  59,  66,  71,\n",
       "        79,  81,  85,  87,  96,  99, 102, 105, 107, 111, 114,  15,  23,\n",
       "        62,  76,  93,  97,  14,  21,  48,  49,  55,  57,  67,  70,  80,\n",
       "        82,  83,  92,  98, 103, 109, 112, 116,  50,  60,  16,  38,  39,\n",
       "        42,  44,  58,  43,  68,  54,  45,  53,  64,  72,  77,  56,  69,\n",
       "        84,  63,  73, 120, 119, 121, 124, 117, 104, 122,  91, 110, 118,\n",
       "       100, 113,  88, 184, 385, 390, 397, 399, 413, 482,  90, 131, 157,\n",
       "       185, 188, 197, 198, 248, 293, 295, 298, 324, 327, 375, 384, 401,\n",
       "       409, 441, 467, 505, 515, 520, 546, 551, 553, 403, 130, 134, 135,\n",
       "       161, 166, 189, 190, 200, 207, 208, 242, 253, 277, 278, 309, 317,\n",
       "       333, 334, 378, 414, 424, 439, 454, 466, 469, 492, 513, 525, 565,\n",
       "       265, 283, 315, 346, 359, 391, 419, 427, 431, 470, 485, 533, 549,\n",
       "       156, 132, 140, 142, 154, 164, 174, 115, 125, 143, 162, 177, 180,\n",
       "       182, 183, 186, 194, 199, 203, 205, 211, 212, 152, 170, 202, 153,\n",
       "       160, 172, 178, 179, 206, 213, 139, 193, 123, 138, 204, 128, 129,\n",
       "       133, 148, 149, 175, 209, 126, 141, 151, 155, 173, 181, 187, 191,\n",
       "       210, 163])"
      ]
     },
     "execution_count": 68,
     "metadata": {},
     "output_type": "execute_result"
    }
   ],
   "source": [
    "df_s16.CVE_MUN.unique()"
   ]
  },
  {
   "cell_type": "code",
   "execution_count": 69,
   "metadata": {},
   "outputs": [
    {
     "data": {
      "text/plain": [
       "(85744, 147)"
      ]
     },
     "execution_count": 69,
     "metadata": {},
     "output_type": "execute_result"
    }
   ],
   "source": [
    "df_s16.shape"
   ]
  },
  {
   "cell_type": "code",
   "execution_count": 70,
   "metadata": {},
   "outputs": [],
   "source": [
    "df_s16.to_csv('../dataframes/delitos_2016.csv')"
   ]
  },
  {
   "cell_type": "markdown",
   "metadata": {},
   "source": [
    "# 2017"
   ]
  },
  {
   "cell_type": "markdown",
   "metadata": {},
   "source": [
    "## Vivienda"
   ]
  },
  {
   "cell_type": "code",
   "execution_count": 71,
   "metadata": {},
   "outputs": [
    {
     "data": {
      "text/html": [
       "<div>\n",
       "<style scoped>\n",
       "    .dataframe tbody tr th:only-of-type {\n",
       "        vertical-align: middle;\n",
       "    }\n",
       "\n",
       "    .dataframe tbody tr th {\n",
       "        vertical-align: top;\n",
       "    }\n",
       "\n",
       "    .dataframe thead th {\n",
       "        text-align: right;\n",
       "    }\n",
       "</style>\n",
       "<table border=\"1\" class=\"dataframe\">\n",
       "  <thead>\n",
       "    <tr style=\"text-align: right;\">\n",
       "      <th></th>\n",
       "      <th>ID_VIV</th>\n",
       "      <th>UPM</th>\n",
       "      <th>VIV_SEL</th>\n",
       "      <th>AREAM</th>\n",
       "      <th>CVE_ENT</th>\n",
       "      <th>NOM_ENT</th>\n",
       "      <th>CVE_MUN</th>\n",
       "      <th>NOM_MUN</th>\n",
       "      <th>RESULT_V</th>\n",
       "      <th>AP1_1</th>\n",
       "      <th>...</th>\n",
       "      <th>AP2_1</th>\n",
       "      <th>AP2_2</th>\n",
       "      <th>AP2_3</th>\n",
       "      <th>NAP2_3</th>\n",
       "      <th>FAC_VIV</th>\n",
       "      <th>FAC_VIV_AM</th>\n",
       "      <th>DOMINIO</th>\n",
       "      <th>EST_DIS</th>\n",
       "      <th>UPM_DIS</th>\n",
       "      <th>year</th>\n",
       "    </tr>\n",
       "  </thead>\n",
       "  <tbody>\n",
       "    <tr>\n",
       "      <th>0</th>\n",
       "      <td>100008.01</td>\n",
       "      <td>100008</td>\n",
       "      <td>1</td>\n",
       "      <td>14\\r</td>\n",
       "      <td>1</td>\n",
       "      <td>Aguascalientes\\r</td>\n",
       "      <td>1</td>\n",
       "      <td>Aguascalientes\\r</td>\n",
       "      <td>2</td>\n",
       "      <td>1</td>\n",
       "      <td>...</td>\n",
       "      <td>4</td>\n",
       "      <td>1</td>\n",
       "      <td>\\r</td>\n",
       "      <td>1</td>\n",
       "      <td>204</td>\n",
       "      <td>000204\\r</td>\n",
       "      <td>U\\r</td>\n",
       "      <td>3</td>\n",
       "      <td>1</td>\n",
       "      <td>2017</td>\n",
       "    </tr>\n",
       "    <tr>\n",
       "      <th>1</th>\n",
       "      <td>100008.02</td>\n",
       "      <td>100008</td>\n",
       "      <td>2</td>\n",
       "      <td>14\\r</td>\n",
       "      <td>1</td>\n",
       "      <td>Aguascalientes\\r</td>\n",
       "      <td>1</td>\n",
       "      <td>Aguascalientes\\r</td>\n",
       "      <td>2</td>\n",
       "      <td>1</td>\n",
       "      <td>...</td>\n",
       "      <td>3</td>\n",
       "      <td>1</td>\n",
       "      <td>\\r</td>\n",
       "      <td>1</td>\n",
       "      <td>204</td>\n",
       "      <td>000204\\r</td>\n",
       "      <td>U\\r</td>\n",
       "      <td>3</td>\n",
       "      <td>1</td>\n",
       "      <td>2017</td>\n",
       "    </tr>\n",
       "    <tr>\n",
       "      <th>2</th>\n",
       "      <td>100008.04</td>\n",
       "      <td>100008</td>\n",
       "      <td>4</td>\n",
       "      <td>14\\r</td>\n",
       "      <td>1</td>\n",
       "      <td>Aguascalientes\\r</td>\n",
       "      <td>1</td>\n",
       "      <td>Aguascalientes\\r</td>\n",
       "      <td>2</td>\n",
       "      <td>1</td>\n",
       "      <td>...</td>\n",
       "      <td>2</td>\n",
       "      <td>1</td>\n",
       "      <td>\\r</td>\n",
       "      <td>1</td>\n",
       "      <td>204</td>\n",
       "      <td>000204\\r</td>\n",
       "      <td>U\\r</td>\n",
       "      <td>3</td>\n",
       "      <td>1</td>\n",
       "      <td>2017</td>\n",
       "    </tr>\n",
       "    <tr>\n",
       "      <th>3</th>\n",
       "      <td>100008.05</td>\n",
       "      <td>100008</td>\n",
       "      <td>5</td>\n",
       "      <td>14\\r</td>\n",
       "      <td>1</td>\n",
       "      <td>Aguascalientes\\r</td>\n",
       "      <td>1</td>\n",
       "      <td>Aguascalientes\\r</td>\n",
       "      <td>1</td>\n",
       "      <td>2</td>\n",
       "      <td>...</td>\n",
       "      <td>3</td>\n",
       "      <td>1</td>\n",
       "      <td>\\r</td>\n",
       "      <td>1</td>\n",
       "      <td>204</td>\n",
       "      <td>000204\\r</td>\n",
       "      <td>U\\r</td>\n",
       "      <td>3</td>\n",
       "      <td>1</td>\n",
       "      <td>2017</td>\n",
       "    </tr>\n",
       "    <tr>\n",
       "      <th>4</th>\n",
       "      <td>100022.01</td>\n",
       "      <td>100022</td>\n",
       "      <td>1</td>\n",
       "      <td>14\\r</td>\n",
       "      <td>1</td>\n",
       "      <td>Aguascalientes\\r</td>\n",
       "      <td>1</td>\n",
       "      <td>Aguascalientes\\r</td>\n",
       "      <td>1</td>\n",
       "      <td>1</td>\n",
       "      <td>...</td>\n",
       "      <td>3</td>\n",
       "      <td>1</td>\n",
       "      <td>\\r</td>\n",
       "      <td>1</td>\n",
       "      <td>198</td>\n",
       "      <td>000198\\r</td>\n",
       "      <td>U\\r</td>\n",
       "      <td>2</td>\n",
       "      <td>2</td>\n",
       "      <td>2017</td>\n",
       "    </tr>\n",
       "  </tbody>\n",
       "</table>\n",
       "<p>5 rows × 21 columns</p>\n",
       "</div>"
      ],
      "text/plain": [
       "      ID_VIV     UPM  VIV_SEL AREAM  CVE_ENT           NOM_ENT  CVE_MUN  \\\n",
       "0  100008.01  100008        1  14\\r        1  Aguascalientes\\r        1   \n",
       "1  100008.02  100008        2  14\\r        1  Aguascalientes\\r        1   \n",
       "2  100008.04  100008        4  14\\r        1  Aguascalientes\\r        1   \n",
       "3  100008.05  100008        5  14\\r        1  Aguascalientes\\r        1   \n",
       "4  100022.01  100022        1  14\\r        1  Aguascalientes\\r        1   \n",
       "\n",
       "            NOM_MUN  RESULT_V  AP1_1  ...   AP2_1  AP2_2  AP2_3 NAP2_3  \\\n",
       "0  Aguascalientes\\r         2      1  ...       4      1     \\r      1   \n",
       "1  Aguascalientes\\r         2      1  ...       3      1     \\r      1   \n",
       "2  Aguascalientes\\r         2      1  ...       2      1     \\r      1   \n",
       "3  Aguascalientes\\r         1      2  ...       3      1     \\r      1   \n",
       "4  Aguascalientes\\r         1      1  ...       3      1     \\r      1   \n",
       "\n",
       "   FAC_VIV  FAC_VIV_AM DOMINIO EST_DIS  UPM_DIS  year  \n",
       "0      204    000204\\r     U\\r       3        1  2017  \n",
       "1      204    000204\\r     U\\r       3        1  2017  \n",
       "2      204    000204\\r     U\\r       3        1  2017  \n",
       "3      204    000204\\r     U\\r       3        1  2017  \n",
       "4      198    000198\\r     U\\r       2        2  2017  \n",
       "\n",
       "[5 rows x 21 columns]"
      ]
     },
     "execution_count": 71,
     "metadata": {},
     "output_type": "execute_result"
    }
   ],
   "source": [
    "file = '../data/2017/tvivienda_envipe2017/conjunto_de_datos/tvivienda.csv'\n",
    "df_v17 = pd.read_csv(file, encoding='latin')\n",
    "df_v17['year'] = 2017\n",
    "df_v17.head()"
   ]
  },
  {
   "cell_type": "code",
   "execution_count": 72,
   "metadata": {},
   "outputs": [
    {
     "data": {
      "text/plain": [
       "(90618, 21)"
      ]
     },
     "execution_count": 72,
     "metadata": {},
     "output_type": "execute_result"
    }
   ],
   "source": [
    "df_v17.shape"
   ]
  },
  {
   "cell_type": "code",
   "execution_count": 73,
   "metadata": {},
   "outputs": [],
   "source": [
    "df_v17['ID_VIVIENDA'] = df_v17.UPM + df_v17.VIV_SEL"
   ]
  },
  {
   "cell_type": "markdown",
   "metadata": {},
   "source": [
    "## Victimización 1"
   ]
  },
  {
   "cell_type": "code",
   "execution_count": 74,
   "metadata": {},
   "outputs": [
    {
     "data": {
      "text/html": [
       "<div>\n",
       "<style scoped>\n",
       "    .dataframe tbody tr th:only-of-type {\n",
       "        vertical-align: middle;\n",
       "    }\n",
       "\n",
       "    .dataframe tbody tr th {\n",
       "        vertical-align: top;\n",
       "    }\n",
       "\n",
       "    .dataframe thead th {\n",
       "        text-align: right;\n",
       "    }\n",
       "</style>\n",
       "<table border=\"1\" class=\"dataframe\">\n",
       "  <thead>\n",
       "    <tr style=\"text-align: right;\">\n",
       "      <th></th>\n",
       "      <th>ID_VIV</th>\n",
       "      <th>ID_HOG</th>\n",
       "      <th>ID_PER</th>\n",
       "      <th>UPM</th>\n",
       "      <th>VIV_SEL</th>\n",
       "      <th>HOGAR</th>\n",
       "      <th>RESUL_H</th>\n",
       "      <th>R_SEL</th>\n",
       "      <th>SEXO</th>\n",
       "      <th>EDAD</th>\n",
       "      <th>...</th>\n",
       "      <th>AP7_4_15</th>\n",
       "      <th>FAC_HOG</th>\n",
       "      <th>FAC_ELE</th>\n",
       "      <th>FAC_HOG_AM</th>\n",
       "      <th>FAC_ELE_AM</th>\n",
       "      <th>DOMINIO</th>\n",
       "      <th>ESTRATO</th>\n",
       "      <th>EST_DIS</th>\n",
       "      <th>UPM_DIS</th>\n",
       "      <th>year</th>\n",
       "    </tr>\n",
       "  </thead>\n",
       "  <tbody>\n",
       "    <tr>\n",
       "      <th>0</th>\n",
       "      <td>100008.01</td>\n",
       "      <td>0100008.01.01\\r</td>\n",
       "      <td>0100008.01.01.01\\r</td>\n",
       "      <td>100008</td>\n",
       "      <td>1</td>\n",
       "      <td>1</td>\n",
       "      <td>B\\r</td>\n",
       "      <td>1</td>\n",
       "      <td>1</td>\n",
       "      <td>40</td>\n",
       "      <td>...</td>\n",
       "      <td>\\r</td>\n",
       "      <td>204</td>\n",
       "      <td>408</td>\n",
       "      <td>000204\\r</td>\n",
       "      <td>000408\\r</td>\n",
       "      <td>U\\r</td>\n",
       "      <td>4</td>\n",
       "      <td>3</td>\n",
       "      <td>1</td>\n",
       "      <td>2017</td>\n",
       "    </tr>\n",
       "    <tr>\n",
       "      <th>1</th>\n",
       "      <td>100008.02</td>\n",
       "      <td>0100008.02.01\\r</td>\n",
       "      <td>0100008.02.01.02\\r</td>\n",
       "      <td>100008</td>\n",
       "      <td>2</td>\n",
       "      <td>1</td>\n",
       "      <td>B\\r</td>\n",
       "      <td>2</td>\n",
       "      <td>2</td>\n",
       "      <td>70</td>\n",
       "      <td>...</td>\n",
       "      <td>\\r</td>\n",
       "      <td>204</td>\n",
       "      <td>611</td>\n",
       "      <td>000204\\r</td>\n",
       "      <td>000611\\r</td>\n",
       "      <td>U\\r</td>\n",
       "      <td>4</td>\n",
       "      <td>3</td>\n",
       "      <td>1</td>\n",
       "      <td>2017</td>\n",
       "    </tr>\n",
       "    <tr>\n",
       "      <th>2</th>\n",
       "      <td>100008.04</td>\n",
       "      <td>0100008.04.01\\r</td>\n",
       "      <td>0100008.04.01.01\\r</td>\n",
       "      <td>100008</td>\n",
       "      <td>4</td>\n",
       "      <td>1</td>\n",
       "      <td>B\\r</td>\n",
       "      <td>1</td>\n",
       "      <td>1</td>\n",
       "      <td>85</td>\n",
       "      <td>...</td>\n",
       "      <td>\\r</td>\n",
       "      <td>204</td>\n",
       "      <td>408</td>\n",
       "      <td>000204\\r</td>\n",
       "      <td>000408\\r</td>\n",
       "      <td>U\\r</td>\n",
       "      <td>4</td>\n",
       "      <td>3</td>\n",
       "      <td>1</td>\n",
       "      <td>2017</td>\n",
       "    </tr>\n",
       "    <tr>\n",
       "      <th>3</th>\n",
       "      <td>100008.05</td>\n",
       "      <td>0100008.05.01\\r</td>\n",
       "      <td>0100008.05.01.01\\r</td>\n",
       "      <td>100008</td>\n",
       "      <td>5</td>\n",
       "      <td>1</td>\n",
       "      <td>A\\r</td>\n",
       "      <td>1</td>\n",
       "      <td>1</td>\n",
       "      <td>28</td>\n",
       "      <td>...</td>\n",
       "      <td>\\r</td>\n",
       "      <td>204</td>\n",
       "      <td>408</td>\n",
       "      <td>000204\\r</td>\n",
       "      <td>000408\\r</td>\n",
       "      <td>U\\r</td>\n",
       "      <td>4</td>\n",
       "      <td>3</td>\n",
       "      <td>1</td>\n",
       "      <td>2017</td>\n",
       "    </tr>\n",
       "    <tr>\n",
       "      <th>4</th>\n",
       "      <td>100022.01</td>\n",
       "      <td>0100022.01.01\\r</td>\n",
       "      <td>0100022.01.01.03\\r</td>\n",
       "      <td>100022</td>\n",
       "      <td>1</td>\n",
       "      <td>1</td>\n",
       "      <td>A\\r</td>\n",
       "      <td>3</td>\n",
       "      <td>1</td>\n",
       "      <td>22</td>\n",
       "      <td>...</td>\n",
       "      <td>\\r</td>\n",
       "      <td>198</td>\n",
       "      <td>595</td>\n",
       "      <td>000198\\r</td>\n",
       "      <td>000595\\r</td>\n",
       "      <td>U\\r</td>\n",
       "      <td>3</td>\n",
       "      <td>2</td>\n",
       "      <td>2</td>\n",
       "      <td>2017</td>\n",
       "    </tr>\n",
       "  </tbody>\n",
       "</table>\n",
       "<p>5 rows × 150 columns</p>\n",
       "</div>"
      ],
      "text/plain": [
       "      ID_VIV           ID_HOG              ID_PER     UPM  VIV_SEL  HOGAR  \\\n",
       "0  100008.01  0100008.01.01\\r  0100008.01.01.01\\r  100008        1      1   \n",
       "1  100008.02  0100008.02.01\\r  0100008.02.01.02\\r  100008        2      1   \n",
       "2  100008.04  0100008.04.01\\r  0100008.04.01.01\\r  100008        4      1   \n",
       "3  100008.05  0100008.05.01\\r  0100008.05.01.01\\r  100008        5      1   \n",
       "4  100022.01  0100022.01.01\\r  0100022.01.01.03\\r  100022        1      1   \n",
       "\n",
       "  RESUL_H  R_SEL  SEXO  EDAD  ...  AP7_4_15  FAC_HOG FAC_ELE  FAC_HOG_AM  \\\n",
       "0     B\\r      1     1    40  ...        \\r      204     408    000204\\r   \n",
       "1     B\\r      2     2    70  ...        \\r      204     611    000204\\r   \n",
       "2     B\\r      1     1    85  ...        \\r      204     408    000204\\r   \n",
       "3     A\\r      1     1    28  ...        \\r      204     408    000204\\r   \n",
       "4     A\\r      3     1    22  ...        \\r      198     595    000198\\r   \n",
       "\n",
       "  FAC_ELE_AM  DOMINIO ESTRATO  EST_DIS  UPM_DIS  year  \n",
       "0   000408\\r      U\\r       4        3        1  2017  \n",
       "1   000611\\r      U\\r       4        3        1  2017  \n",
       "2   000408\\r      U\\r       4        3        1  2017  \n",
       "3   000408\\r      U\\r       4        3        1  2017  \n",
       "4   000595\\r      U\\r       3        2        2  2017  \n",
       "\n",
       "[5 rows x 150 columns]"
      ]
     },
     "execution_count": 74,
     "metadata": {},
     "output_type": "execute_result"
    }
   ],
   "source": [
    "file = '../data/2017/tper_vic2_envipe2017/conjunto_de_datos/tper_vic2.csv'\n",
    "df_s17 = pd.read_csv(file, encoding='latin')\n",
    "df_s17['year'] = 2017\n",
    "df_s17.head()"
   ]
  },
  {
   "cell_type": "code",
   "execution_count": 75,
   "metadata": {},
   "outputs": [
    {
     "data": {
      "text/plain": [
       "(92551, 150)"
      ]
     },
     "execution_count": 75,
     "metadata": {},
     "output_type": "execute_result"
    }
   ],
   "source": [
    "df_s17.shape"
   ]
  },
  {
   "cell_type": "code",
   "execution_count": 76,
   "metadata": {},
   "outputs": [],
   "source": [
    "df_s17['ID_VIVIENDA'] = df_s17.UPM + df_s17.VIV_SEL"
   ]
  },
  {
   "cell_type": "markdown",
   "metadata": {},
   "source": [
    "## DICCIONARIO Vivienda - Victimización 1"
   ]
  },
  {
   "cell_type": "code",
   "execution_count": 77,
   "metadata": {},
   "outputs": [
    {
     "data": {
      "text/plain": [
       "ID_VIVIENDA  CVE_ENT  CVE_MUN\n",
       "100009       1        1          1\n",
       "100010       1        1          1\n",
       "100012       1        1          1\n",
       "100013       1        1          1\n",
       "100023       1        1          1\n",
       "100024       1        1          1\n",
       "100025       1        1          1\n",
       "100027       1        1          1\n",
       "100060       1        1          1\n",
       "100061       1        1          1\n",
       "100062       1        1          1\n",
       "100063       1        1          1\n",
       "100064       1        1          1\n",
       "100080       1        1          1\n",
       "100081       1        1          1\n",
       "100082       1        1          1\n",
       "100084       1        1          1\n",
       "100091       1        1          1\n",
       "100092       1        1          1\n",
       "100093       1        1          1\n",
       "100094       1        1          1\n",
       "100095       1        1          1\n",
       "100102       1        1          1\n",
       "100103       1        1          1\n",
       "100104       1        1          2\n",
       "100106       1        1          3\n",
       "100107       1        1          2\n",
       "100108       1        1          2\n",
       "100109       1        1          1\n",
       "100110       1        1          1\n",
       "                                ..\n",
       "3260785      32       18         1\n",
       "3260786      32       18         1\n",
       "3260787      32       18         1\n",
       "3260788      32       18         1\n",
       "3260789      32       18         1\n",
       "3260790      32       18         1\n",
       "3260791      32       18         1\n",
       "3260792      32       18         1\n",
       "3260793      32       18         1\n",
       "3260794      32       18         1\n",
       "3260802      32       58         1\n",
       "3260803      32       58         1\n",
       "3260804      32       58         1\n",
       "3260805      32       58         1\n",
       "3260806      32       58         1\n",
       "3260807      32       58         1\n",
       "3260808      32       58         1\n",
       "3260809      32       58         1\n",
       "3260810      32       58         1\n",
       "3260811      32       58         1\n",
       "3260812      32       58         1\n",
       "3260813      32       58         1\n",
       "3260814      32       58         1\n",
       "3260815      32       58         1\n",
       "3260816      32       58         1\n",
       "3260817      32       58         1\n",
       "3260818      32       58         1\n",
       "3260819      32       58         1\n",
       "3260820      32       58         1\n",
       "3260821      32       58         1\n",
       "Length: 74610, dtype: int64"
      ]
     },
     "execution_count": 77,
     "metadata": {},
     "output_type": "execute_result"
    }
   ],
   "source": [
    "df_v17.groupby(['ID_VIVIENDA', 'CVE_ENT', 'CVE_MUN']).size()"
   ]
  },
  {
   "cell_type": "code",
   "execution_count": 78,
   "metadata": {},
   "outputs": [
    {
     "data": {
      "text/html": [
       "<div>\n",
       "<style scoped>\n",
       "    .dataframe tbody tr th:only-of-type {\n",
       "        vertical-align: middle;\n",
       "    }\n",
       "\n",
       "    .dataframe tbody tr th {\n",
       "        vertical-align: top;\n",
       "    }\n",
       "\n",
       "    .dataframe thead th {\n",
       "        text-align: right;\n",
       "    }\n",
       "</style>\n",
       "<table border=\"1\" class=\"dataframe\">\n",
       "  <thead>\n",
       "    <tr style=\"text-align: right;\">\n",
       "      <th></th>\n",
       "      <th></th>\n",
       "      <th></th>\n",
       "    </tr>\n",
       "    <tr>\n",
       "      <th>ID_VIVIENDA</th>\n",
       "      <th>CVE_ENT</th>\n",
       "      <th>CVE_MUN</th>\n",
       "    </tr>\n",
       "  </thead>\n",
       "  <tbody>\n",
       "    <tr>\n",
       "      <th>100009</th>\n",
       "      <th>1</th>\n",
       "      <th>1</th>\n",
       "    </tr>\n",
       "    <tr>\n",
       "      <th>100010</th>\n",
       "      <th>1</th>\n",
       "      <th>1</th>\n",
       "    </tr>\n",
       "    <tr>\n",
       "      <th>100012</th>\n",
       "      <th>1</th>\n",
       "      <th>1</th>\n",
       "    </tr>\n",
       "    <tr>\n",
       "      <th>100013</th>\n",
       "      <th>1</th>\n",
       "      <th>1</th>\n",
       "    </tr>\n",
       "    <tr>\n",
       "      <th>100023</th>\n",
       "      <th>1</th>\n",
       "      <th>1</th>\n",
       "    </tr>\n",
       "  </tbody>\n",
       "</table>\n",
       "</div>"
      ],
      "text/plain": [
       "Empty DataFrame\n",
       "Columns: []\n",
       "Index: [(100009, 1, 1), (100010, 1, 1), (100012, 1, 1), (100013, 1, 1), (100023, 1, 1)]"
      ]
     },
     "execution_count": 78,
     "metadata": {},
     "output_type": "execute_result"
    }
   ],
   "source": [
    "grouped = pd.DataFrame(df_v17.groupby(['ID_VIVIENDA', 'CVE_ENT', 'CVE_MUN']).size())\n",
    "grouped.drop([0], axis=1, inplace=True)\n",
    "grouped.head()"
   ]
  },
  {
   "cell_type": "code",
   "execution_count": 79,
   "metadata": {},
   "outputs": [
    {
     "data": {
      "text/plain": [
       "Index(['ID_VIVIENDA', 'CVE_ENT', 'CVE_MUN'], dtype='object')"
      ]
     },
     "execution_count": 79,
     "metadata": {},
     "output_type": "execute_result"
    }
   ],
   "source": [
    "grouped.reset_index(inplace=True)\n",
    "grouped.columns"
   ]
  },
  {
   "cell_type": "code",
   "execution_count": 80,
   "metadata": {},
   "outputs": [
    {
     "data": {
      "text/html": [
       "<div>\n",
       "<style scoped>\n",
       "    .dataframe tbody tr th:only-of-type {\n",
       "        vertical-align: middle;\n",
       "    }\n",
       "\n",
       "    .dataframe tbody tr th {\n",
       "        vertical-align: top;\n",
       "    }\n",
       "\n",
       "    .dataframe thead th {\n",
       "        text-align: right;\n",
       "    }\n",
       "</style>\n",
       "<table border=\"1\" class=\"dataframe\">\n",
       "  <thead>\n",
       "    <tr style=\"text-align: right;\">\n",
       "      <th></th>\n",
       "      <th>ID_VIVIENDA</th>\n",
       "      <th>CVE_ENT</th>\n",
       "      <th>CVE_MUN</th>\n",
       "    </tr>\n",
       "  </thead>\n",
       "  <tbody>\n",
       "    <tr>\n",
       "      <th>0</th>\n",
       "      <td>100009</td>\n",
       "      <td>1</td>\n",
       "      <td>1</td>\n",
       "    </tr>\n",
       "    <tr>\n",
       "      <th>1</th>\n",
       "      <td>100010</td>\n",
       "      <td>1</td>\n",
       "      <td>1</td>\n",
       "    </tr>\n",
       "    <tr>\n",
       "      <th>2</th>\n",
       "      <td>100012</td>\n",
       "      <td>1</td>\n",
       "      <td>1</td>\n",
       "    </tr>\n",
       "    <tr>\n",
       "      <th>3</th>\n",
       "      <td>100013</td>\n",
       "      <td>1</td>\n",
       "      <td>1</td>\n",
       "    </tr>\n",
       "    <tr>\n",
       "      <th>4</th>\n",
       "      <td>100023</td>\n",
       "      <td>1</td>\n",
       "      <td>1</td>\n",
       "    </tr>\n",
       "  </tbody>\n",
       "</table>\n",
       "</div>"
      ],
      "text/plain": [
       "   ID_VIVIENDA  CVE_ENT  CVE_MUN\n",
       "0       100009        1        1\n",
       "1       100010        1        1\n",
       "2       100012        1        1\n",
       "3       100013        1        1\n",
       "4       100023        1        1"
      ]
     },
     "execution_count": 80,
     "metadata": {},
     "output_type": "execute_result"
    }
   ],
   "source": [
    "grouped.head()"
   ]
  },
  {
   "cell_type": "code",
   "execution_count": 81,
   "metadata": {},
   "outputs": [
    {
     "data": {
      "text/plain": [
       "dict_keys(['index', 'columns', 'data'])"
      ]
     },
     "execution_count": 81,
     "metadata": {},
     "output_type": "execute_result"
    }
   ],
   "source": [
    "dict_grouped = grouped.to_dict(orient='split')\n",
    "dict_grouped.keys()"
   ]
  },
  {
   "cell_type": "code",
   "execution_count": 82,
   "metadata": {},
   "outputs": [
    {
     "data": {
      "text/plain": [
       "['ID_VIVIENDA', 'CVE_ENT', 'CVE_MUN']"
      ]
     },
     "execution_count": 82,
     "metadata": {},
     "output_type": "execute_result"
    }
   ],
   "source": [
    "dict_grouped.pop('index')\n",
    "dict_grouped.pop('columns')"
   ]
  },
  {
   "cell_type": "code",
   "execution_count": 83,
   "metadata": {},
   "outputs": [
    {
     "data": {
      "text/plain": [
       "[100009, 1, 1]"
      ]
     },
     "execution_count": 83,
     "metadata": {},
     "output_type": "execute_result"
    }
   ],
   "source": [
    "dict_grouped['data'][0]"
   ]
  },
  {
   "cell_type": "code",
   "execution_count": 84,
   "metadata": {},
   "outputs": [
    {
     "data": {
      "text/plain": [
       "100009"
      ]
     },
     "execution_count": 84,
     "metadata": {},
     "output_type": "execute_result"
    }
   ],
   "source": [
    "dict_grouped['data'][0][0]"
   ]
  },
  {
   "cell_type": "code",
   "execution_count": 85,
   "metadata": {},
   "outputs": [
    {
     "data": {
      "text/plain": [
       "array([ 100009,  100010,  100012, ..., 3260819, 3260820, 3260821])"
      ]
     },
     "execution_count": 85,
     "metadata": {},
     "output_type": "execute_result"
    }
   ],
   "source": [
    "array_grouped = grouped.ID_VIVIENDA.unique()\n",
    "array_grouped"
   ]
  },
  {
   "cell_type": "code",
   "execution_count": 86,
   "metadata": {},
   "outputs": [],
   "source": [
    "dict_ID_VIVIENDA_ENT = {}\n",
    "\n",
    "for line in dict_grouped['data']:\n",
    "    #print(line[0], ':', line[1])\n",
    "    dict_ID_VIVIENDA_ENT[line[0]] = line[1]"
   ]
  },
  {
   "cell_type": "code",
   "execution_count": 87,
   "metadata": {},
   "outputs": [],
   "source": [
    "dict_ID_VIVIENDA_MUN = {}\n",
    "\n",
    "for line in dict_grouped['data']:\n",
    "    #print(line[0], ':', line[1])\n",
    "    dict_ID_VIVIENDA_MUN[line[0]] = line[2]"
   ]
  },
  {
   "cell_type": "code",
   "execution_count": 88,
   "metadata": {},
   "outputs": [],
   "source": [
    "df_s17['CVE_ENT'] = df_s17['ID_VIVIENDA'].map(dict_ID_VIVIENDA_ENT)"
   ]
  },
  {
   "cell_type": "code",
   "execution_count": 89,
   "metadata": {},
   "outputs": [
    {
     "data": {
      "text/plain": [
       "array([ 1,  2,  3,  4,  5,  6,  7,  8,  9, 10, 11, 12, 13, 14, 15, 16, 17,\n",
       "       18, 19, 20, 21, 22, 23, 24, 25, 26, 27, 28, 29, 30, 31, 32])"
      ]
     },
     "execution_count": 89,
     "metadata": {},
     "output_type": "execute_result"
    }
   ],
   "source": [
    "df_s17.CVE_ENT.unique()"
   ]
  },
  {
   "cell_type": "code",
   "execution_count": 90,
   "metadata": {},
   "outputs": [],
   "source": [
    "df_s17['CVE_MUN'] = df_s17['ID_VIVIENDA'].map(dict_ID_VIVIENDA_MUN)"
   ]
  },
  {
   "cell_type": "code",
   "execution_count": 91,
   "metadata": {},
   "outputs": [
    {
     "data": {
      "text/plain": [
       "array([  1,   2,  11,   9,   3,   4,   5,   6,   7,  10,   8,  18,  25,\n",
       "        30,  35,  17,  20,  24,  27,  28,  31,  32,  33,  22,  23,  38,\n",
       "        37,  78,  89,  93,  96, 101,  15,  19,  40,  52,  57,  59,  61,\n",
       "        65,  69,  74,  76,  86,  75, 106, 108, 109,  13,  21,  29,  34,\n",
       "        46,  47,  68,  66,  71,  79,  81,  83,  85,  87,  99, 102, 103,\n",
       "       105, 107, 111, 112,  97,  41,  48,  49,  51,  55,  67,  80,  82,\n",
       "        92,  94, 114, 115,  53,  36,  45,  50,  12,  54,  14,  16,  39,\n",
       "        42,  56,  73,  62,  64,  72,  77,  63,  58,  70,  26,  44,  60,\n",
       "        84,  98, 120, 125, 119, 121, 100, 124, 104, 122,  43,  91, 110,\n",
       "       118, 113,  88,  95, 184, 134, 385, 390, 397, 399, 413, 482, 515,\n",
       "       525, 526, 131, 150, 141, 153, 157, 188, 185, 198, 201, 227, 248,\n",
       "       293, 295, 324, 350, 367, 375, 401, 398, 409, 418, 441, 469, 472,\n",
       "       475, 551, 553, 557, 167, 190, 207, 225, 234, 253, 278, 310, 309,\n",
       "       318, 334, 344, 364, 378, 406, 446, 439, 459, 454, 491, 559, 140,\n",
       "       226, 237, 247, 265, 330, 349, 356, 359, 386, 485, 506, 156, 132,\n",
       "       142, 154, 164, 174, 197, 208,  90, 117, 136, 137, 144, 143, 161,\n",
       "       177, 186, 205, 170, 129, 160, 172, 179, 192, 206, 213, 139, 126,\n",
       "       193, 194, 123, 138, 155, 183, 189, 133, 135, 148, 149, 169, 175,\n",
       "       178, 176, 182, 191, 199, 209, 128, 168, 173, 181, 187, 202, 210,\n",
       "       163])"
      ]
     },
     "execution_count": 91,
     "metadata": {},
     "output_type": "execute_result"
    }
   ],
   "source": [
    "df_s17.CVE_MUN.unique()"
   ]
  },
  {
   "cell_type": "code",
   "execution_count": 92,
   "metadata": {},
   "outputs": [
    {
     "data": {
      "text/plain": [
       "(92551, 151)"
      ]
     },
     "execution_count": 92,
     "metadata": {},
     "output_type": "execute_result"
    }
   ],
   "source": [
    "df_s17.shape"
   ]
  },
  {
   "cell_type": "code",
   "execution_count": 93,
   "metadata": {},
   "outputs": [],
   "source": [
    "df_s17.to_csv('../dataframes/delitos_2017.csv')"
   ]
  },
  {
   "cell_type": "code",
   "execution_count": null,
   "metadata": {},
   "outputs": [],
   "source": []
  }
 ],
 "metadata": {
  "kernelspec": {
   "display_name": "Python 3",
   "language": "python",
   "name": "python3"
  },
  "language_info": {
   "codemirror_mode": {
    "name": "ipython",
    "version": 3
   },
   "file_extension": ".py",
   "mimetype": "text/x-python",
   "name": "python",
   "nbconvert_exporter": "python",
   "pygments_lexer": "ipython3",
   "version": "3.6.5"
  }
 },
 "nbformat": 4,
 "nbformat_minor": 2
}
