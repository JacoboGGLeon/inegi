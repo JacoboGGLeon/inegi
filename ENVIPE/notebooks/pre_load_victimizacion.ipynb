{
 "cells": [
  {
   "cell_type": "code",
   "execution_count": 14,
   "metadata": {},
   "outputs": [],
   "source": [
    "import pandas as pd\n",
    "import numpy as np"
   ]
  },
  {
   "cell_type": "markdown",
   "metadata": {},
   "source": [
    "# 2014"
   ]
  },
  {
   "cell_type": "markdown",
   "metadata": {},
   "source": [
    "## Vivienda"
   ]
  },
  {
   "cell_type": "code",
   "execution_count": 15,
   "metadata": {},
   "outputs": [
    {
     "data": {
      "text/html": [
       "<div>\n",
       "<style scoped>\n",
       "    .dataframe tbody tr th:only-of-type {\n",
       "        vertical-align: middle;\n",
       "    }\n",
       "\n",
       "    .dataframe tbody tr th {\n",
       "        vertical-align: top;\n",
       "    }\n",
       "\n",
       "    .dataframe thead th {\n",
       "        text-align: right;\n",
       "    }\n",
       "</style>\n",
       "<table border=\"1\" class=\"dataframe\">\n",
       "  <thead>\n",
       "    <tr style=\"text-align: right;\">\n",
       "      <th></th>\n",
       "      <th>Unnamed: 0</th>\n",
       "      <th>CONTROL</th>\n",
       "      <th>VIV_SEL</th>\n",
       "      <th>ENT</th>\n",
       "      <th>MUN</th>\n",
       "      <th>LOC</th>\n",
       "      <th>AREAM</th>\n",
       "      <th>RESUL_V</th>\n",
       "      <th>AP1_1</th>\n",
       "      <th>AP1_2</th>\n",
       "      <th>AP2_1</th>\n",
       "      <th>AP2_2</th>\n",
       "      <th>AP2_3</th>\n",
       "      <th>NAP2_3</th>\n",
       "      <th>FAC_VIV</th>\n",
       "      <th>DOM</th>\n",
       "      <th>EST</th>\n",
       "      <th>UPM</th>\n",
       "      <th>FAC_VIV_AM</th>\n",
       "      <th>year</th>\n",
       "    </tr>\n",
       "  </thead>\n",
       "  <tbody>\n",
       "    <tr>\n",
       "      <th>0</th>\n",
       "      <td>0</td>\n",
       "      <td>100001</td>\n",
       "      <td>1</td>\n",
       "      <td>1</td>\n",
       "      <td>1</td>\n",
       "      <td>1</td>\n",
       "      <td>14.0</td>\n",
       "      <td>2</td>\n",
       "      <td>1</td>\n",
       "      <td>2</td>\n",
       "      <td>2</td>\n",
       "      <td>1</td>\n",
       "      <td>NaN</td>\n",
       "      <td>1</td>\n",
       "      <td>189</td>\n",
       "      <td>U</td>\n",
       "      <td>5</td>\n",
       "      <td>1</td>\n",
       "      <td>190.0</td>\n",
       "      <td>2014</td>\n",
       "    </tr>\n",
       "    <tr>\n",
       "      <th>1</th>\n",
       "      <td>1</td>\n",
       "      <td>100001</td>\n",
       "      <td>2</td>\n",
       "      <td>1</td>\n",
       "      <td>1</td>\n",
       "      <td>1</td>\n",
       "      <td>14.0</td>\n",
       "      <td>2</td>\n",
       "      <td>2</td>\n",
       "      <td>2</td>\n",
       "      <td>3</td>\n",
       "      <td>1</td>\n",
       "      <td>NaN</td>\n",
       "      <td>1</td>\n",
       "      <td>189</td>\n",
       "      <td>U</td>\n",
       "      <td>5</td>\n",
       "      <td>1</td>\n",
       "      <td>190.0</td>\n",
       "      <td>2014</td>\n",
       "    </tr>\n",
       "    <tr>\n",
       "      <th>2</th>\n",
       "      <td>2</td>\n",
       "      <td>100001</td>\n",
       "      <td>3</td>\n",
       "      <td>1</td>\n",
       "      <td>1</td>\n",
       "      <td>1</td>\n",
       "      <td>14.0</td>\n",
       "      <td>2</td>\n",
       "      <td>2</td>\n",
       "      <td>2</td>\n",
       "      <td>7</td>\n",
       "      <td>1</td>\n",
       "      <td>NaN</td>\n",
       "      <td>1</td>\n",
       "      <td>189</td>\n",
       "      <td>U</td>\n",
       "      <td>5</td>\n",
       "      <td>1</td>\n",
       "      <td>190.0</td>\n",
       "      <td>2014</td>\n",
       "    </tr>\n",
       "    <tr>\n",
       "      <th>3</th>\n",
       "      <td>3</td>\n",
       "      <td>100001</td>\n",
       "      <td>4</td>\n",
       "      <td>1</td>\n",
       "      <td>1</td>\n",
       "      <td>1</td>\n",
       "      <td>14.0</td>\n",
       "      <td>1</td>\n",
       "      <td>2</td>\n",
       "      <td>2</td>\n",
       "      <td>5</td>\n",
       "      <td>1</td>\n",
       "      <td>NaN</td>\n",
       "      <td>1</td>\n",
       "      <td>189</td>\n",
       "      <td>U</td>\n",
       "      <td>5</td>\n",
       "      <td>1</td>\n",
       "      <td>190.0</td>\n",
       "      <td>2014</td>\n",
       "    </tr>\n",
       "    <tr>\n",
       "      <th>4</th>\n",
       "      <td>4</td>\n",
       "      <td>100001</td>\n",
       "      <td>5</td>\n",
       "      <td>1</td>\n",
       "      <td>1</td>\n",
       "      <td>1</td>\n",
       "      <td>14.0</td>\n",
       "      <td>2</td>\n",
       "      <td>2</td>\n",
       "      <td>2</td>\n",
       "      <td>6</td>\n",
       "      <td>1</td>\n",
       "      <td>NaN</td>\n",
       "      <td>1</td>\n",
       "      <td>189</td>\n",
       "      <td>U</td>\n",
       "      <td>5</td>\n",
       "      <td>1</td>\n",
       "      <td>190.0</td>\n",
       "      <td>2014</td>\n",
       "    </tr>\n",
       "  </tbody>\n",
       "</table>\n",
       "</div>"
      ],
      "text/plain": [
       "   Unnamed: 0  CONTROL  VIV_SEL  ENT  MUN  LOC  AREAM  RESUL_V  AP1_1  AP1_2  \\\n",
       "0           0   100001        1    1    1    1   14.0        2      1      2   \n",
       "1           1   100001        2    1    1    1   14.0        2      2      2   \n",
       "2           2   100001        3    1    1    1   14.0        2      2      2   \n",
       "3           3   100001        4    1    1    1   14.0        1      2      2   \n",
       "4           4   100001        5    1    1    1   14.0        2      2      2   \n",
       "\n",
       "   AP2_1  AP2_2  AP2_3  NAP2_3  FAC_VIV DOM  EST  UPM  FAC_VIV_AM  year  \n",
       "0      2      1    NaN       1      189   U    5    1       190.0  2014  \n",
       "1      3      1    NaN       1      189   U    5    1       190.0  2014  \n",
       "2      7      1    NaN       1      189   U    5    1       190.0  2014  \n",
       "3      5      1    NaN       1      189   U    5    1       190.0  2014  \n",
       "4      6      1    NaN       1      189   U    5    1       190.0  2014  "
      ]
     },
     "execution_count": 15,
     "metadata": {},
     "output_type": "execute_result"
    }
   ],
   "source": [
    "file = '../data/2014/bd_envipe2014/bd_envipe2014/TVivienda.csv'\n",
    "df_v14 = pd.read_csv(file, encoding='latin')\n",
    "df_v14['year'] = 2014\n",
    "df_v14.head()"
   ]
  },
  {
   "cell_type": "code",
   "execution_count": 16,
   "metadata": {},
   "outputs": [
    {
     "data": {
      "text/plain": [
       "(85181, 20)"
      ]
     },
     "execution_count": 16,
     "metadata": {},
     "output_type": "execute_result"
    }
   ],
   "source": [
    "df_v14.shape"
   ]
  },
  {
   "cell_type": "code",
   "execution_count": 17,
   "metadata": {},
   "outputs": [],
   "source": [
    "df_v14['ID_VIVIENDA'] = df_v14.CONTROL + df_v14.VIV_SEL"
   ]
  },
  {
   "cell_type": "markdown",
   "metadata": {},
   "source": [
    "## Victimización 1"
   ]
  },
  {
   "cell_type": "code",
   "execution_count": 18,
   "metadata": {},
   "outputs": [
    {
     "data": {
      "text/html": [
       "<div>\n",
       "<style scoped>\n",
       "    .dataframe tbody tr th:only-of-type {\n",
       "        vertical-align: middle;\n",
       "    }\n",
       "\n",
       "    .dataframe tbody tr th {\n",
       "        vertical-align: top;\n",
       "    }\n",
       "\n",
       "    .dataframe thead th {\n",
       "        text-align: right;\n",
       "    }\n",
       "</style>\n",
       "<table border=\"1\" class=\"dataframe\">\n",
       "  <thead>\n",
       "    <tr style=\"text-align: right;\">\n",
       "      <th></th>\n",
       "      <th>Unnamed: 0</th>\n",
       "      <th>CONTROL</th>\n",
       "      <th>VIV_SEL</th>\n",
       "      <th>HOGAR</th>\n",
       "      <th>ND_TIPO</th>\n",
       "      <th>TD_TIPO</th>\n",
       "      <th>BPCOD</th>\n",
       "      <th>R_SEL</th>\n",
       "      <th>AREAM_OCU</th>\n",
       "      <th>RESUL_H</th>\n",
       "      <th>...</th>\n",
       "      <th>BP6_1</th>\n",
       "      <th>BP6_2</th>\n",
       "      <th>BP6_3</th>\n",
       "      <th>BP7_1</th>\n",
       "      <th>FAC_DEL</th>\n",
       "      <th>DOM</th>\n",
       "      <th>EST</th>\n",
       "      <th>UPM</th>\n",
       "      <th>FAC_DEL_AM</th>\n",
       "      <th>year</th>\n",
       "    </tr>\n",
       "  </thead>\n",
       "  <tbody>\n",
       "    <tr>\n",
       "      <th>0</th>\n",
       "      <td>0</td>\n",
       "      <td>140142</td>\n",
       "      <td>5</td>\n",
       "      <td>1</td>\n",
       "      <td>1</td>\n",
       "      <td>1</td>\n",
       "      <td>2</td>\n",
       "      <td>1</td>\n",
       "      <td>14.0</td>\n",
       "      <td>A</td>\n",
       "      <td>...</td>\n",
       "      <td>NaN</td>\n",
       "      <td>NaN</td>\n",
       "      <td>NaN</td>\n",
       "      <td>NaN</td>\n",
       "      <td>178</td>\n",
       "      <td>U</td>\n",
       "      <td>5</td>\n",
       "      <td>107</td>\n",
       "      <td>178.0</td>\n",
       "      <td>2014</td>\n",
       "    </tr>\n",
       "    <tr>\n",
       "      <th>1</th>\n",
       "      <td>1</td>\n",
       "      <td>140049</td>\n",
       "      <td>5</td>\n",
       "      <td>1</td>\n",
       "      <td>1</td>\n",
       "      <td>1</td>\n",
       "      <td>4</td>\n",
       "      <td>1</td>\n",
       "      <td>14.0</td>\n",
       "      <td>A</td>\n",
       "      <td>...</td>\n",
       "      <td>NaN</td>\n",
       "      <td>NaN</td>\n",
       "      <td>NaN</td>\n",
       "      <td>NaN</td>\n",
       "      <td>202</td>\n",
       "      <td>U</td>\n",
       "      <td>6</td>\n",
       "      <td>45</td>\n",
       "      <td>202.0</td>\n",
       "      <td>2014</td>\n",
       "    </tr>\n",
       "    <tr>\n",
       "      <th>2</th>\n",
       "      <td>2</td>\n",
       "      <td>140141</td>\n",
       "      <td>2</td>\n",
       "      <td>1</td>\n",
       "      <td>1</td>\n",
       "      <td>1</td>\n",
       "      <td>2</td>\n",
       "      <td>3</td>\n",
       "      <td>14.0</td>\n",
       "      <td>A</td>\n",
       "      <td>...</td>\n",
       "      <td>NaN</td>\n",
       "      <td>NaN</td>\n",
       "      <td>NaN</td>\n",
       "      <td>NaN</td>\n",
       "      <td>170</td>\n",
       "      <td>U</td>\n",
       "      <td>4</td>\n",
       "      <td>106</td>\n",
       "      <td>169.0</td>\n",
       "      <td>2014</td>\n",
       "    </tr>\n",
       "    <tr>\n",
       "      <th>3</th>\n",
       "      <td>3</td>\n",
       "      <td>140060</td>\n",
       "      <td>2</td>\n",
       "      <td>1</td>\n",
       "      <td>1</td>\n",
       "      <td>1</td>\n",
       "      <td>8</td>\n",
       "      <td>5</td>\n",
       "      <td>14.0</td>\n",
       "      <td>A</td>\n",
       "      <td>...</td>\n",
       "      <td>NaN</td>\n",
       "      <td>NaN</td>\n",
       "      <td>NaN</td>\n",
       "      <td>NaN</td>\n",
       "      <td>1225</td>\n",
       "      <td>U</td>\n",
       "      <td>5</td>\n",
       "      <td>52</td>\n",
       "      <td>1218.0</td>\n",
       "      <td>2014</td>\n",
       "    </tr>\n",
       "    <tr>\n",
       "      <th>4</th>\n",
       "      <td>4</td>\n",
       "      <td>100012</td>\n",
       "      <td>1</td>\n",
       "      <td>1</td>\n",
       "      <td>2</td>\n",
       "      <td>2</td>\n",
       "      <td>4</td>\n",
       "      <td>1</td>\n",
       "      <td>14.0</td>\n",
       "      <td>A</td>\n",
       "      <td>...</td>\n",
       "      <td>NaN</td>\n",
       "      <td>NaN</td>\n",
       "      <td>NaN</td>\n",
       "      <td>NaN</td>\n",
       "      <td>147</td>\n",
       "      <td>U</td>\n",
       "      <td>4</td>\n",
       "      <td>7</td>\n",
       "      <td>146.0</td>\n",
       "      <td>2014</td>\n",
       "    </tr>\n",
       "  </tbody>\n",
       "</table>\n",
       "<p>5 rows × 123 columns</p>\n",
       "</div>"
      ],
      "text/plain": [
       "   Unnamed: 0  CONTROL  VIV_SEL  HOGAR  ND_TIPO  TD_TIPO  BPCOD  R_SEL  \\\n",
       "0           0   140142        5      1        1        1      2      1   \n",
       "1           1   140049        5      1        1        1      4      1   \n",
       "2           2   140141        2      1        1        1      2      3   \n",
       "3           3   140060        2      1        1        1      8      5   \n",
       "4           4   100012        1      1        2        2      4      1   \n",
       "\n",
       "   AREAM_OCU RESUL_H  ...   BP6_1  BP6_2  BP6_3  BP7_1  FAC_DEL  DOM  EST  \\\n",
       "0       14.0       A  ...     NaN    NaN    NaN    NaN      178    U    5   \n",
       "1       14.0       A  ...     NaN    NaN    NaN    NaN      202    U    6   \n",
       "2       14.0       A  ...     NaN    NaN    NaN    NaN      170    U    4   \n",
       "3       14.0       A  ...     NaN    NaN    NaN    NaN     1225    U    5   \n",
       "4       14.0       A  ...     NaN    NaN    NaN    NaN      147    U    4   \n",
       "\n",
       "   UPM  FAC_DEL_AM  year  \n",
       "0  107       178.0  2014  \n",
       "1   45       202.0  2014  \n",
       "2  106       169.0  2014  \n",
       "3   52      1218.0  2014  \n",
       "4    7       146.0  2014  \n",
       "\n",
       "[5 rows x 123 columns]"
      ]
     },
     "execution_count": 18,
     "metadata": {},
     "output_type": "execute_result"
    }
   ],
   "source": [
    "file = '../data/2014/bd_envipe2014/bd_envipe2014/TMod_Vic.csv'\n",
    "df_s14 = pd.read_csv(file, encoding='latin')\n",
    "df_s14['year'] = 2014\n",
    "df_s14.head()"
   ]
  },
  {
   "cell_type": "code",
   "execution_count": 19,
   "metadata": {},
   "outputs": [
    {
     "data": {
      "text/plain": [
       "(43478, 123)"
      ]
     },
     "execution_count": 19,
     "metadata": {},
     "output_type": "execute_result"
    }
   ],
   "source": [
    "df_s14.shape"
   ]
  },
  {
   "cell_type": "code",
   "execution_count": 20,
   "metadata": {},
   "outputs": [],
   "source": [
    "df_s14['ID_VIVIENDA'] = df_s14.CONTROL + df_s14.VIV_SEL"
   ]
  },
  {
   "cell_type": "markdown",
   "metadata": {},
   "source": [
    "## DICCIONARIO Vivienda - Victimización 1"
   ]
  },
  {
   "cell_type": "code",
   "execution_count": 21,
   "metadata": {},
   "outputs": [
    {
     "data": {
      "text/plain": [
       "ID_VIVIENDA  ENT  MUN\n",
       "100002       1    1      1\n",
       "100003       1    1      1\n",
       "100004       1    1      1\n",
       "100005       1    1      1\n",
       "100006       1    1      2\n",
       "100007       1    1      1\n",
       "100008       1    1      1\n",
       "100009       1    1      2\n",
       "100010       1    1      3\n",
       "100011       1    1      3\n",
       "100012       1    1      4\n",
       "100013       1    1      3\n",
       "100014       1    1      3\n",
       "100015       1    1      3\n",
       "100016       1    1      4\n",
       "100017       1    1      5\n",
       "100018       1    1      5\n",
       "100019       1    1      3\n",
       "100020       1    1      3\n",
       "100021       1    1      2\n",
       "100022       1    1      1\n",
       "100024       1    1      1\n",
       "100025       1    1      1\n",
       "100026       1    1      2\n",
       "100027       1    1      2\n",
       "100028       1    1      2\n",
       "100029       1    1      1\n",
       "140002       1    1      1\n",
       "140003       1    1      2\n",
       "140004       1    1      2\n",
       "                        ..\n",
       "3260052      32   35     2\n",
       "                  38     1\n",
       "                  39     1\n",
       "                  42     1\n",
       "                  55     1\n",
       "3260053      32   20     1\n",
       "                  35     2\n",
       "                  38     1\n",
       "                  39     1\n",
       "                  42     1\n",
       "3260054      32   10     1\n",
       "                  20     1\n",
       "                  35     2\n",
       "                  39     1\n",
       "                  42     1\n",
       "3260055      32   10     1\n",
       "                  20     1\n",
       "                  35     2\n",
       "                  39     1\n",
       "3260056      32   10     1\n",
       "                  20     1\n",
       "                  35     2\n",
       "                  42     1\n",
       "3260057      32   10     1\n",
       "                  20     1\n",
       "                  35     1\n",
       "3260058      32   20     1\n",
       "                  35     1\n",
       "3260059      32   20     1\n",
       "                  35     1\n",
       "Length: 59549, dtype: int64"
      ]
     },
     "execution_count": 21,
     "metadata": {},
     "output_type": "execute_result"
    }
   ],
   "source": [
    "df_v14.groupby(['ID_VIVIENDA', 'ENT', 'MUN']).size()"
   ]
  },
  {
   "cell_type": "code",
   "execution_count": 22,
   "metadata": {},
   "outputs": [
    {
     "data": {
      "text/html": [
       "<div>\n",
       "<style scoped>\n",
       "    .dataframe tbody tr th:only-of-type {\n",
       "        vertical-align: middle;\n",
       "    }\n",
       "\n",
       "    .dataframe tbody tr th {\n",
       "        vertical-align: top;\n",
       "    }\n",
       "\n",
       "    .dataframe thead th {\n",
       "        text-align: right;\n",
       "    }\n",
       "</style>\n",
       "<table border=\"1\" class=\"dataframe\">\n",
       "  <thead>\n",
       "    <tr style=\"text-align: right;\">\n",
       "      <th></th>\n",
       "      <th></th>\n",
       "      <th></th>\n",
       "    </tr>\n",
       "    <tr>\n",
       "      <th>ID_VIVIENDA</th>\n",
       "      <th>ENT</th>\n",
       "      <th>MUN</th>\n",
       "    </tr>\n",
       "  </thead>\n",
       "  <tbody>\n",
       "    <tr>\n",
       "      <th>100002</th>\n",
       "      <th>1</th>\n",
       "      <th>1</th>\n",
       "    </tr>\n",
       "    <tr>\n",
       "      <th>100003</th>\n",
       "      <th>1</th>\n",
       "      <th>1</th>\n",
       "    </tr>\n",
       "    <tr>\n",
       "      <th>100004</th>\n",
       "      <th>1</th>\n",
       "      <th>1</th>\n",
       "    </tr>\n",
       "    <tr>\n",
       "      <th>100005</th>\n",
       "      <th>1</th>\n",
       "      <th>1</th>\n",
       "    </tr>\n",
       "    <tr>\n",
       "      <th>100006</th>\n",
       "      <th>1</th>\n",
       "      <th>1</th>\n",
       "    </tr>\n",
       "  </tbody>\n",
       "</table>\n",
       "</div>"
      ],
      "text/plain": [
       "Empty DataFrame\n",
       "Columns: []\n",
       "Index: [(100002, 1, 1), (100003, 1, 1), (100004, 1, 1), (100005, 1, 1), (100006, 1, 1)]"
      ]
     },
     "execution_count": 22,
     "metadata": {},
     "output_type": "execute_result"
    }
   ],
   "source": [
    "grouped = pd.DataFrame(df_v14.groupby(['ID_VIVIENDA', 'ENT', 'MUN']).size())\n",
    "grouped.drop([0], axis=1, inplace=True)\n",
    "grouped.head()"
   ]
  },
  {
   "cell_type": "code",
   "execution_count": 23,
   "metadata": {},
   "outputs": [
    {
     "data": {
      "text/plain": [
       "Index(['ID_VIVIENDA', 'ENT', 'MUN'], dtype='object')"
      ]
     },
     "execution_count": 23,
     "metadata": {},
     "output_type": "execute_result"
    }
   ],
   "source": [
    "grouped.reset_index(inplace=True)\n",
    "grouped.columns"
   ]
  },
  {
   "cell_type": "code",
   "execution_count": 24,
   "metadata": {},
   "outputs": [
    {
     "data": {
      "text/html": [
       "<div>\n",
       "<style scoped>\n",
       "    .dataframe tbody tr th:only-of-type {\n",
       "        vertical-align: middle;\n",
       "    }\n",
       "\n",
       "    .dataframe tbody tr th {\n",
       "        vertical-align: top;\n",
       "    }\n",
       "\n",
       "    .dataframe thead th {\n",
       "        text-align: right;\n",
       "    }\n",
       "</style>\n",
       "<table border=\"1\" class=\"dataframe\">\n",
       "  <thead>\n",
       "    <tr style=\"text-align: right;\">\n",
       "      <th></th>\n",
       "      <th>ID_VIVIENDA</th>\n",
       "      <th>ENT</th>\n",
       "      <th>MUN</th>\n",
       "    </tr>\n",
       "  </thead>\n",
       "  <tbody>\n",
       "    <tr>\n",
       "      <th>0</th>\n",
       "      <td>100002</td>\n",
       "      <td>1</td>\n",
       "      <td>1</td>\n",
       "    </tr>\n",
       "    <tr>\n",
       "      <th>1</th>\n",
       "      <td>100003</td>\n",
       "      <td>1</td>\n",
       "      <td>1</td>\n",
       "    </tr>\n",
       "    <tr>\n",
       "      <th>2</th>\n",
       "      <td>100004</td>\n",
       "      <td>1</td>\n",
       "      <td>1</td>\n",
       "    </tr>\n",
       "    <tr>\n",
       "      <th>3</th>\n",
       "      <td>100005</td>\n",
       "      <td>1</td>\n",
       "      <td>1</td>\n",
       "    </tr>\n",
       "    <tr>\n",
       "      <th>4</th>\n",
       "      <td>100006</td>\n",
       "      <td>1</td>\n",
       "      <td>1</td>\n",
       "    </tr>\n",
       "  </tbody>\n",
       "</table>\n",
       "</div>"
      ],
      "text/plain": [
       "   ID_VIVIENDA  ENT  MUN\n",
       "0       100002    1    1\n",
       "1       100003    1    1\n",
       "2       100004    1    1\n",
       "3       100005    1    1\n",
       "4       100006    1    1"
      ]
     },
     "execution_count": 24,
     "metadata": {},
     "output_type": "execute_result"
    }
   ],
   "source": [
    "grouped.head()"
   ]
  },
  {
   "cell_type": "code",
   "execution_count": 25,
   "metadata": {},
   "outputs": [
    {
     "data": {
      "text/plain": [
       "dict_keys(['index', 'columns', 'data'])"
      ]
     },
     "execution_count": 25,
     "metadata": {},
     "output_type": "execute_result"
    }
   ],
   "source": [
    "dict_grouped = grouped.to_dict(orient='split')\n",
    "dict_grouped.keys()"
   ]
  },
  {
   "cell_type": "code",
   "execution_count": 26,
   "metadata": {},
   "outputs": [
    {
     "data": {
      "text/plain": [
       "['ID_VIVIENDA', 'ENT', 'MUN']"
      ]
     },
     "execution_count": 26,
     "metadata": {},
     "output_type": "execute_result"
    }
   ],
   "source": [
    "dict_grouped.pop('index')\n",
    "dict_grouped.pop('columns')"
   ]
  },
  {
   "cell_type": "code",
   "execution_count": 27,
   "metadata": {},
   "outputs": [
    {
     "data": {
      "text/plain": [
       "[100002, 1, 1]"
      ]
     },
     "execution_count": 27,
     "metadata": {},
     "output_type": "execute_result"
    }
   ],
   "source": [
    "dict_grouped['data'][0]"
   ]
  },
  {
   "cell_type": "code",
   "execution_count": 28,
   "metadata": {},
   "outputs": [
    {
     "data": {
      "text/plain": [
       "100002"
      ]
     },
     "execution_count": 28,
     "metadata": {},
     "output_type": "execute_result"
    }
   ],
   "source": [
    "dict_grouped['data'][0][0]"
   ]
  },
  {
   "cell_type": "code",
   "execution_count": 29,
   "metadata": {},
   "outputs": [
    {
     "data": {
      "text/plain": [
       "array([ 100002,  100003,  100004, ..., 3260057, 3260058, 3260059])"
      ]
     },
     "execution_count": 29,
     "metadata": {},
     "output_type": "execute_result"
    }
   ],
   "source": [
    "array_grouped = grouped.ID_VIVIENDA.unique()\n",
    "array_grouped"
   ]
  },
  {
   "cell_type": "code",
   "execution_count": 30,
   "metadata": {},
   "outputs": [],
   "source": [
    "dict_ID_VIVIENDA_ENT = {}\n",
    "\n",
    "for line in dict_grouped['data']:\n",
    "    #print(line[0], ':', line[1])\n",
    "    dict_ID_VIVIENDA_ENT[line[0]] = line[1]"
   ]
  },
  {
   "cell_type": "code",
   "execution_count": 31,
   "metadata": {},
   "outputs": [],
   "source": [
    "dict_ID_VIVIENDA_MUN = {}\n",
    "\n",
    "for line in dict_grouped['data']:\n",
    "    #print(line[0], ':', line[1])\n",
    "    dict_ID_VIVIENDA_MUN[line[0]] = line[2]"
   ]
  },
  {
   "cell_type": "code",
   "execution_count": 32,
   "metadata": {},
   "outputs": [],
   "source": [
    "df_s14['CVE_ENT'] = df_s14['ID_VIVIENDA'].map(dict_ID_VIVIENDA_ENT)"
   ]
  },
  {
   "cell_type": "code",
   "execution_count": 33,
   "metadata": {},
   "outputs": [
    {
     "data": {
      "text/plain": [
       "array([ 1, 32, 19, 21,  6, 24, 14,  2,  3, 25, 20, 31, 26, 30, 10, 16,  7,\n",
       "       27,  4, 15, 22, 23,  5, 11,  8, 28,  9, 29, 17, 13, 12, 18])"
      ]
     },
     "execution_count": 33,
     "metadata": {},
     "output_type": "execute_result"
    }
   ],
   "source": [
    "df_s14.CVE_ENT.unique()"
   ]
  },
  {
   "cell_type": "code",
   "execution_count": 34,
   "metadata": {},
   "outputs": [],
   "source": [
    "df_s14['CVE_MUN'] = df_s14['ID_VIVIENDA'].map(dict_ID_VIVIENDA_MUN)"
   ]
  },
  {
   "cell_type": "code",
   "execution_count": 35,
   "metadata": {},
   "outputs": [
    {
     "data": {
      "text/plain": [
       "array([  5,   1,   7,  11,   9,  10,  57,  48, 114,  35,  53,  44,   8,\n",
       "       108, 124,   4,   2,   3,  18, 570,  50, 156,  30,  43, 204,  39,\n",
       "         6,  37,  16,  13,  15,  17,  25,  24,  20,  38,  28,  36,  33,\n",
       "        32,  27,  14,  23,  98, 121, 118, 106, 101,  97, 100,  89,  61,\n",
       "       112,  74, 113, 116, 111,  99, 107, 102, 105,  51,  19,  40,  81,\n",
       "        78,  80,  75,  65,  93,  76, 103,  66,  45,  62,  52, 515,  22,\n",
       "       513,  46, 110, 104, 122,  12,  70,  58,  26, 109,  29, 120,  91,\n",
       "        84, 213,  82,  34,  67,  64,  92,  87, 119, 177, 559,  42,  77,\n",
       "        69,  31,  54,  73,  55,  59,  79,  56, 409,  41, 142, 174, 140,\n",
       "       505, 208,  60, 193, 545, 202, 194,  85,  68,  49,  95,  88,  21,\n",
       "       385, 544, 215, 507, 554, 533, 565, 210, 546, 307, 483, 525, 390,\n",
       "       399, 115, 452, 519, 157, 508, 564, 160, 439, 531,  83, 466, 324,\n",
       "       340, 350, 375, 168, 199, 189, 207, 217, 138, 183, 197, 178, 152,\n",
       "       125, 188, 136, 150, 149, 211,  96,  47,  63,  71, 206, 123, 130,\n",
       "       200, 161, 195, 209, 131, 143, 164, 128, 133])"
      ]
     },
     "execution_count": 35,
     "metadata": {},
     "output_type": "execute_result"
    }
   ],
   "source": [
    "df_s14.CVE_MUN.unique()"
   ]
  },
  {
   "cell_type": "code",
   "execution_count": 36,
   "metadata": {},
   "outputs": [
    {
     "data": {
      "text/plain": [
       "(43478, 126)"
      ]
     },
     "execution_count": 36,
     "metadata": {},
     "output_type": "execute_result"
    }
   ],
   "source": [
    "df_s14.shape"
   ]
  },
  {
   "cell_type": "code",
   "execution_count": 37,
   "metadata": {},
   "outputs": [],
   "source": [
    "df_s14.to_csv('../dataframes/victimizacion_2014.csv')"
   ]
  },
  {
   "cell_type": "markdown",
   "metadata": {},
   "source": [
    "# 2015"
   ]
  },
  {
   "cell_type": "markdown",
   "metadata": {},
   "source": [
    "## Vivienda"
   ]
  },
  {
   "cell_type": "code",
   "execution_count": 38,
   "metadata": {},
   "outputs": [
    {
     "data": {
      "text/html": [
       "<div>\n",
       "<style scoped>\n",
       "    .dataframe tbody tr th:only-of-type {\n",
       "        vertical-align: middle;\n",
       "    }\n",
       "\n",
       "    .dataframe tbody tr th {\n",
       "        vertical-align: top;\n",
       "    }\n",
       "\n",
       "    .dataframe thead th {\n",
       "        text-align: right;\n",
       "    }\n",
       "</style>\n",
       "<table border=\"1\" class=\"dataframe\">\n",
       "  <thead>\n",
       "    <tr style=\"text-align: right;\">\n",
       "      <th></th>\n",
       "      <th>Unnamed: 0</th>\n",
       "      <th>ID_VIV</th>\n",
       "      <th>UPM</th>\n",
       "      <th>VIV_SEL</th>\n",
       "      <th>ENT</th>\n",
       "      <th>MUN</th>\n",
       "      <th>AREAM</th>\n",
       "      <th>RESUL_V</th>\n",
       "      <th>AP1_1</th>\n",
       "      <th>AP1_2</th>\n",
       "      <th>AP2_1</th>\n",
       "      <th>AP2_2</th>\n",
       "      <th>AP2_3</th>\n",
       "      <th>NAP2_3</th>\n",
       "      <th>FAC_VIV</th>\n",
       "      <th>EST_DIS</th>\n",
       "      <th>UPM_DIS</th>\n",
       "      <th>DOMINIO</th>\n",
       "      <th>FAC_VIV_AM</th>\n",
       "      <th>year</th>\n",
       "    </tr>\n",
       "  </thead>\n",
       "  <tbody>\n",
       "    <tr>\n",
       "      <th>0</th>\n",
       "      <td>0</td>\n",
       "      <td>100006.01</td>\n",
       "      <td>100006</td>\n",
       "      <td>1</td>\n",
       "      <td>1</td>\n",
       "      <td>1</td>\n",
       "      <td>14.0</td>\n",
       "      <td>2</td>\n",
       "      <td>1</td>\n",
       "      <td>2</td>\n",
       "      <td>3</td>\n",
       "      <td>1</td>\n",
       "      <td>NaN</td>\n",
       "      <td>1</td>\n",
       "      <td>174</td>\n",
       "      <td>5</td>\n",
       "      <td>1</td>\n",
       "      <td>U</td>\n",
       "      <td>173</td>\n",
       "      <td>2015</td>\n",
       "    </tr>\n",
       "    <tr>\n",
       "      <th>1</th>\n",
       "      <td>1</td>\n",
       "      <td>100006.02</td>\n",
       "      <td>100006</td>\n",
       "      <td>2</td>\n",
       "      <td>1</td>\n",
       "      <td>1</td>\n",
       "      <td>14.0</td>\n",
       "      <td>1</td>\n",
       "      <td>1</td>\n",
       "      <td>2</td>\n",
       "      <td>4</td>\n",
       "      <td>1</td>\n",
       "      <td>NaN</td>\n",
       "      <td>1</td>\n",
       "      <td>174</td>\n",
       "      <td>5</td>\n",
       "      <td>1</td>\n",
       "      <td>U</td>\n",
       "      <td>173</td>\n",
       "      <td>2015</td>\n",
       "    </tr>\n",
       "    <tr>\n",
       "      <th>2</th>\n",
       "      <td>2</td>\n",
       "      <td>100006.03</td>\n",
       "      <td>100006</td>\n",
       "      <td>3</td>\n",
       "      <td>1</td>\n",
       "      <td>1</td>\n",
       "      <td>14.0</td>\n",
       "      <td>1</td>\n",
       "      <td>1</td>\n",
       "      <td>2</td>\n",
       "      <td>2</td>\n",
       "      <td>1</td>\n",
       "      <td>NaN</td>\n",
       "      <td>1</td>\n",
       "      <td>174</td>\n",
       "      <td>5</td>\n",
       "      <td>1</td>\n",
       "      <td>U</td>\n",
       "      <td>173</td>\n",
       "      <td>2015</td>\n",
       "    </tr>\n",
       "    <tr>\n",
       "      <th>3</th>\n",
       "      <td>3</td>\n",
       "      <td>100006.04</td>\n",
       "      <td>100006</td>\n",
       "      <td>4</td>\n",
       "      <td>1</td>\n",
       "      <td>1</td>\n",
       "      <td>14.0</td>\n",
       "      <td>1</td>\n",
       "      <td>1</td>\n",
       "      <td>2</td>\n",
       "      <td>2</td>\n",
       "      <td>1</td>\n",
       "      <td>NaN</td>\n",
       "      <td>1</td>\n",
       "      <td>174</td>\n",
       "      <td>5</td>\n",
       "      <td>1</td>\n",
       "      <td>U</td>\n",
       "      <td>173</td>\n",
       "      <td>2015</td>\n",
       "    </tr>\n",
       "    <tr>\n",
       "      <th>4</th>\n",
       "      <td>4</td>\n",
       "      <td>100006.05</td>\n",
       "      <td>100006</td>\n",
       "      <td>5</td>\n",
       "      <td>1</td>\n",
       "      <td>1</td>\n",
       "      <td>14.0</td>\n",
       "      <td>2</td>\n",
       "      <td>1</td>\n",
       "      <td>1</td>\n",
       "      <td>3</td>\n",
       "      <td>2</td>\n",
       "      <td>3.0</td>\n",
       "      <td>1</td>\n",
       "      <td>174</td>\n",
       "      <td>5</td>\n",
       "      <td>1</td>\n",
       "      <td>U</td>\n",
       "      <td>173</td>\n",
       "      <td>2015</td>\n",
       "    </tr>\n",
       "  </tbody>\n",
       "</table>\n",
       "</div>"
      ],
      "text/plain": [
       "   Unnamed: 0     ID_VIV     UPM  VIV_SEL  ENT  MUN  AREAM  RESUL_V  AP1_1  \\\n",
       "0           0  100006.01  100006        1    1    1   14.0        2      1   \n",
       "1           1  100006.02  100006        2    1    1   14.0        1      1   \n",
       "2           2  100006.03  100006        3    1    1   14.0        1      1   \n",
       "3           3  100006.04  100006        4    1    1   14.0        1      1   \n",
       "4           4  100006.05  100006        5    1    1   14.0        2      1   \n",
       "\n",
       "   AP1_2  AP2_1  AP2_2  AP2_3  NAP2_3  FAC_VIV  EST_DIS  UPM_DIS DOMINIO  \\\n",
       "0      2      3      1    NaN       1      174        5        1       U   \n",
       "1      2      4      1    NaN       1      174        5        1       U   \n",
       "2      2      2      1    NaN       1      174        5        1       U   \n",
       "3      2      2      1    NaN       1      174        5        1       U   \n",
       "4      1      3      2    3.0       1      174        5        1       U   \n",
       "\n",
       "   FAC_VIV_AM  year  \n",
       "0         173  2015  \n",
       "1         173  2015  \n",
       "2         173  2015  \n",
       "3         173  2015  \n",
       "4         173  2015  "
      ]
     },
     "execution_count": 38,
     "metadata": {},
     "output_type": "execute_result"
    }
   ],
   "source": [
    "file = '../data/2015/TVivienda.csv'\n",
    "df_v15 = pd.read_csv(file, encoding='latin')\n",
    "df_v15['year'] = 2015\n",
    "df_v15.head()"
   ]
  },
  {
   "cell_type": "code",
   "execution_count": 39,
   "metadata": {},
   "outputs": [
    {
     "data": {
      "text/plain": [
       "(85729, 20)"
      ]
     },
     "execution_count": 39,
     "metadata": {},
     "output_type": "execute_result"
    }
   ],
   "source": [
    "df_v15.shape"
   ]
  },
  {
   "cell_type": "code",
   "execution_count": 40,
   "metadata": {},
   "outputs": [],
   "source": [
    "df_v15['ID_VIVIENDA'] = df_v15.UPM + df_v15.VIV_SEL"
   ]
  },
  {
   "cell_type": "markdown",
   "metadata": {},
   "source": [
    "## Victimización 1"
   ]
  },
  {
   "cell_type": "code",
   "execution_count": 41,
   "metadata": {},
   "outputs": [
    {
     "data": {
      "text/html": [
       "<div>\n",
       "<style scoped>\n",
       "    .dataframe tbody tr th:only-of-type {\n",
       "        vertical-align: middle;\n",
       "    }\n",
       "\n",
       "    .dataframe tbody tr th {\n",
       "        vertical-align: top;\n",
       "    }\n",
       "\n",
       "    .dataframe thead th {\n",
       "        text-align: right;\n",
       "    }\n",
       "</style>\n",
       "<table border=\"1\" class=\"dataframe\">\n",
       "  <thead>\n",
       "    <tr style=\"text-align: right;\">\n",
       "      <th></th>\n",
       "      <th>Unnamed: 0</th>\n",
       "      <th>ID_DEL</th>\n",
       "      <th>UPM</th>\n",
       "      <th>VIV_SEL</th>\n",
       "      <th>HOGAR</th>\n",
       "      <th>ND_TIPO</th>\n",
       "      <th>TD_TIPO</th>\n",
       "      <th>BPCOD</th>\n",
       "      <th>R_SEL</th>\n",
       "      <th>AREAM_OCU</th>\n",
       "      <th>...</th>\n",
       "      <th>BP6_2</th>\n",
       "      <th>BP6_3</th>\n",
       "      <th>BP7_1</th>\n",
       "      <th>FAC_DEL</th>\n",
       "      <th>EST_DIS</th>\n",
       "      <th>UPM_DIS</th>\n",
       "      <th>DOMINIO</th>\n",
       "      <th>ESTRATO</th>\n",
       "      <th>FAC_DEL_AM</th>\n",
       "      <th>year</th>\n",
       "    </tr>\n",
       "  </thead>\n",
       "  <tbody>\n",
       "    <tr>\n",
       "      <th>0</th>\n",
       "      <td>0</td>\n",
       "      <td>0100155.01.01.02.08.1</td>\n",
       "      <td>100155</td>\n",
       "      <td>1</td>\n",
       "      <td>1</td>\n",
       "      <td>1</td>\n",
       "      <td>1</td>\n",
       "      <td>8</td>\n",
       "      <td>2</td>\n",
       "      <td>14.0</td>\n",
       "      <td>...</td>\n",
       "      <td>NaN</td>\n",
       "      <td>NaN</td>\n",
       "      <td>NaN</td>\n",
       "      <td>627</td>\n",
       "      <td>5</td>\n",
       "      <td>21</td>\n",
       "      <td>U</td>\n",
       "      <td>3</td>\n",
       "      <td>624</td>\n",
       "      <td>2015</td>\n",
       "    </tr>\n",
       "    <tr>\n",
       "      <th>1</th>\n",
       "      <td>1</td>\n",
       "      <td>0100462.01.01.02.08.1</td>\n",
       "      <td>100462</td>\n",
       "      <td>1</td>\n",
       "      <td>1</td>\n",
       "      <td>1</td>\n",
       "      <td>1</td>\n",
       "      <td>8</td>\n",
       "      <td>2</td>\n",
       "      <td>14.0</td>\n",
       "      <td>...</td>\n",
       "      <td>NaN</td>\n",
       "      <td>NaN</td>\n",
       "      <td>NaN</td>\n",
       "      <td>378</td>\n",
       "      <td>5</td>\n",
       "      <td>64</td>\n",
       "      <td>U</td>\n",
       "      <td>3</td>\n",
       "      <td>376</td>\n",
       "      <td>2015</td>\n",
       "    </tr>\n",
       "    <tr>\n",
       "      <th>2</th>\n",
       "      <td>2</td>\n",
       "      <td>0100467.04.01.02.02.1</td>\n",
       "      <td>100467</td>\n",
       "      <td>4</td>\n",
       "      <td>1</td>\n",
       "      <td>1</td>\n",
       "      <td>1</td>\n",
       "      <td>2</td>\n",
       "      <td>2</td>\n",
       "      <td>14.0</td>\n",
       "      <td>...</td>\n",
       "      <td>NaN</td>\n",
       "      <td>NaN</td>\n",
       "      <td>NaN</td>\n",
       "      <td>180</td>\n",
       "      <td>5</td>\n",
       "      <td>66</td>\n",
       "      <td>U</td>\n",
       "      <td>3</td>\n",
       "      <td>181</td>\n",
       "      <td>2015</td>\n",
       "    </tr>\n",
       "    <tr>\n",
       "      <th>3</th>\n",
       "      <td>3</td>\n",
       "      <td>0102317.19.01.01.02.1</td>\n",
       "      <td>102317</td>\n",
       "      <td>19</td>\n",
       "      <td>1</td>\n",
       "      <td>1</td>\n",
       "      <td>1</td>\n",
       "      <td>2</td>\n",
       "      <td>1</td>\n",
       "      <td>14.0</td>\n",
       "      <td>...</td>\n",
       "      <td>NaN</td>\n",
       "      <td>NaN</td>\n",
       "      <td>NaN</td>\n",
       "      <td>152</td>\n",
       "      <td>2</td>\n",
       "      <td>275</td>\n",
       "      <td>C</td>\n",
       "      <td>3</td>\n",
       "      <td>0</td>\n",
       "      <td>2015</td>\n",
       "    </tr>\n",
       "    <tr>\n",
       "      <th>4</th>\n",
       "      <td>4</td>\n",
       "      <td>0100738.02.01.02.02.1</td>\n",
       "      <td>100738</td>\n",
       "      <td>2</td>\n",
       "      <td>1</td>\n",
       "      <td>1</td>\n",
       "      <td>1</td>\n",
       "      <td>2</td>\n",
       "      <td>2</td>\n",
       "      <td>14.0</td>\n",
       "      <td>...</td>\n",
       "      <td>NaN</td>\n",
       "      <td>NaN</td>\n",
       "      <td>NaN</td>\n",
       "      <td>189</td>\n",
       "      <td>5</td>\n",
       "      <td>92</td>\n",
       "      <td>U</td>\n",
       "      <td>3</td>\n",
       "      <td>189</td>\n",
       "      <td>2015</td>\n",
       "    </tr>\n",
       "  </tbody>\n",
       "</table>\n",
       "<p>5 rows × 125 columns</p>\n",
       "</div>"
      ],
      "text/plain": [
       "   Unnamed: 0                 ID_DEL     UPM  VIV_SEL  HOGAR  ND_TIPO  \\\n",
       "0           0  0100155.01.01.02.08.1  100155        1      1        1   \n",
       "1           1  0100462.01.01.02.08.1  100462        1      1        1   \n",
       "2           2  0100467.04.01.02.02.1  100467        4      1        1   \n",
       "3           3  0102317.19.01.01.02.1  102317       19      1        1   \n",
       "4           4  0100738.02.01.02.02.1  100738        2      1        1   \n",
       "\n",
       "   TD_TIPO  BPCOD  R_SEL  AREAM_OCU  ...  BP6_2  BP6_3  BP7_1  FAC_DEL  \\\n",
       "0        1      8      2       14.0  ...    NaN    NaN    NaN      627   \n",
       "1        1      8      2       14.0  ...    NaN    NaN    NaN      378   \n",
       "2        1      2      2       14.0  ...    NaN    NaN    NaN      180   \n",
       "3        1      2      1       14.0  ...    NaN    NaN    NaN      152   \n",
       "4        1      2      2       14.0  ...    NaN    NaN    NaN      189   \n",
       "\n",
       "   EST_DIS  UPM_DIS  DOMINIO  ESTRATO  FAC_DEL_AM  year  \n",
       "0        5       21        U        3         624  2015  \n",
       "1        5       64        U        3         376  2015  \n",
       "2        5       66        U        3         181  2015  \n",
       "3        2      275        C        3           0  2015  \n",
       "4        5       92        U        3         189  2015  \n",
       "\n",
       "[5 rows x 125 columns]"
      ]
     },
     "execution_count": 41,
     "metadata": {},
     "output_type": "execute_result"
    }
   ],
   "source": [
    "file = '../data/2015/TMod_Vic.csv'\n",
    "df_s15 = pd.read_csv(file, encoding='latin')\n",
    "df_s15['year'] = 2015\n",
    "df_s15.head()"
   ]
  },
  {
   "cell_type": "code",
   "execution_count": 42,
   "metadata": {},
   "outputs": [
    {
     "data": {
      "text/plain": [
       "(44699, 125)"
      ]
     },
     "execution_count": 42,
     "metadata": {},
     "output_type": "execute_result"
    }
   ],
   "source": [
    "df_s15.shape"
   ]
  },
  {
   "cell_type": "code",
   "execution_count": 43,
   "metadata": {},
   "outputs": [],
   "source": [
    "df_s15['ID_VIVIENDA'] = df_s15.UPM + df_s15.VIV_SEL"
   ]
  },
  {
   "cell_type": "markdown",
   "metadata": {},
   "source": [
    "## DICCIONARIO Vivienda - Victimización 1"
   ]
  },
  {
   "cell_type": "code",
   "execution_count": 44,
   "metadata": {},
   "outputs": [
    {
     "data": {
      "text/plain": [
       "ID_VIVIENDA  ENT  MUN\n",
       "100007       1    1      1\n",
       "100008       1    1      1\n",
       "100009       1    1      2\n",
       "100010       1    1      2\n",
       "100011       1    1      3\n",
       "100012       1    1      2\n",
       "100013       1    1      2\n",
       "100015       1    1      1\n",
       "100019       1    1      1\n",
       "100020       1    1      1\n",
       "100021       1    1      1\n",
       "100022       1    1      1\n",
       "100023       1    1      2\n",
       "100024       1    1      1\n",
       "100025       1    1      1\n",
       "100026       1    1      1\n",
       "100027       1    1      1\n",
       "100036       1    1      1\n",
       "100037       1    1      1\n",
       "100038       1    1      1\n",
       "100039       1    1      1\n",
       "100040       1    1      1\n",
       "100041       1    1      1\n",
       "100042       1    1      1\n",
       "100043       1    1      1\n",
       "100044       1    1      1\n",
       "100045       1    1      1\n",
       "100053       1    1      1\n",
       "100054       1    1      1\n",
       "100056       1    1      1\n",
       "                        ..\n",
       "3260748      32   55     2\n",
       "3260749      32   55     2\n",
       "3260750      32   55     1\n",
       "3260751      32   55     2\n",
       "3260752      32   55     2\n",
       "3260753      32   55     2\n",
       "3260754      32   55     1\n",
       "3260755      32   55     1\n",
       "3260756      32   55     1\n",
       "3260757      32   55     1\n",
       "3260793      32   37     1\n",
       "3260794      32   37     1\n",
       "3260795      32   37     1\n",
       "3260796      32   37     1\n",
       "3260797      32   37     1\n",
       "3260798      32   37     1\n",
       "3260799      32   37     1\n",
       "3260800      32   37     1\n",
       "3260801      32   37     1\n",
       "3260802      32   37     1\n",
       "3260803      32   37     1\n",
       "3260804      32   37     1\n",
       "3260805      32   37     1\n",
       "3260806      32   37     1\n",
       "3260807      32   37     1\n",
       "3260808      32   37     1\n",
       "3260809      32   37     1\n",
       "3260810      32   37     1\n",
       "3260811      32   37     1\n",
       "3260812      32   37     1\n",
       "Length: 69878, dtype: int64"
      ]
     },
     "execution_count": 44,
     "metadata": {},
     "output_type": "execute_result"
    }
   ],
   "source": [
    "df_v15.groupby(['ID_VIVIENDA', 'ENT', 'MUN']).size()"
   ]
  },
  {
   "cell_type": "code",
   "execution_count": 45,
   "metadata": {},
   "outputs": [
    {
     "data": {
      "text/html": [
       "<div>\n",
       "<style scoped>\n",
       "    .dataframe tbody tr th:only-of-type {\n",
       "        vertical-align: middle;\n",
       "    }\n",
       "\n",
       "    .dataframe tbody tr th {\n",
       "        vertical-align: top;\n",
       "    }\n",
       "\n",
       "    .dataframe thead th {\n",
       "        text-align: right;\n",
       "    }\n",
       "</style>\n",
       "<table border=\"1\" class=\"dataframe\">\n",
       "  <thead>\n",
       "    <tr style=\"text-align: right;\">\n",
       "      <th></th>\n",
       "      <th></th>\n",
       "      <th></th>\n",
       "    </tr>\n",
       "    <tr>\n",
       "      <th>ID_VIVIENDA</th>\n",
       "      <th>ENT</th>\n",
       "      <th>MUN</th>\n",
       "    </tr>\n",
       "  </thead>\n",
       "  <tbody>\n",
       "    <tr>\n",
       "      <th>100007</th>\n",
       "      <th>1</th>\n",
       "      <th>1</th>\n",
       "    </tr>\n",
       "    <tr>\n",
       "      <th>100008</th>\n",
       "      <th>1</th>\n",
       "      <th>1</th>\n",
       "    </tr>\n",
       "    <tr>\n",
       "      <th>100009</th>\n",
       "      <th>1</th>\n",
       "      <th>1</th>\n",
       "    </tr>\n",
       "    <tr>\n",
       "      <th>100010</th>\n",
       "      <th>1</th>\n",
       "      <th>1</th>\n",
       "    </tr>\n",
       "    <tr>\n",
       "      <th>100011</th>\n",
       "      <th>1</th>\n",
       "      <th>1</th>\n",
       "    </tr>\n",
       "  </tbody>\n",
       "</table>\n",
       "</div>"
      ],
      "text/plain": [
       "Empty DataFrame\n",
       "Columns: []\n",
       "Index: [(100007, 1, 1), (100008, 1, 1), (100009, 1, 1), (100010, 1, 1), (100011, 1, 1)]"
      ]
     },
     "execution_count": 45,
     "metadata": {},
     "output_type": "execute_result"
    }
   ],
   "source": [
    "grouped = pd.DataFrame(df_v15.groupby(['ID_VIVIENDA', 'ENT', 'MUN']).size())\n",
    "grouped.drop([0], axis=1, inplace=True)\n",
    "grouped.head()"
   ]
  },
  {
   "cell_type": "code",
   "execution_count": 46,
   "metadata": {},
   "outputs": [
    {
     "data": {
      "text/plain": [
       "Index(['ID_VIVIENDA', 'ENT', 'MUN'], dtype='object')"
      ]
     },
     "execution_count": 46,
     "metadata": {},
     "output_type": "execute_result"
    }
   ],
   "source": [
    "grouped.reset_index(inplace=True)\n",
    "grouped.columns"
   ]
  },
  {
   "cell_type": "code",
   "execution_count": 47,
   "metadata": {},
   "outputs": [
    {
     "data": {
      "text/html": [
       "<div>\n",
       "<style scoped>\n",
       "    .dataframe tbody tr th:only-of-type {\n",
       "        vertical-align: middle;\n",
       "    }\n",
       "\n",
       "    .dataframe tbody tr th {\n",
       "        vertical-align: top;\n",
       "    }\n",
       "\n",
       "    .dataframe thead th {\n",
       "        text-align: right;\n",
       "    }\n",
       "</style>\n",
       "<table border=\"1\" class=\"dataframe\">\n",
       "  <thead>\n",
       "    <tr style=\"text-align: right;\">\n",
       "      <th></th>\n",
       "      <th>ID_VIVIENDA</th>\n",
       "      <th>ENT</th>\n",
       "      <th>MUN</th>\n",
       "    </tr>\n",
       "  </thead>\n",
       "  <tbody>\n",
       "    <tr>\n",
       "      <th>0</th>\n",
       "      <td>100007</td>\n",
       "      <td>1</td>\n",
       "      <td>1</td>\n",
       "    </tr>\n",
       "    <tr>\n",
       "      <th>1</th>\n",
       "      <td>100008</td>\n",
       "      <td>1</td>\n",
       "      <td>1</td>\n",
       "    </tr>\n",
       "    <tr>\n",
       "      <th>2</th>\n",
       "      <td>100009</td>\n",
       "      <td>1</td>\n",
       "      <td>1</td>\n",
       "    </tr>\n",
       "    <tr>\n",
       "      <th>3</th>\n",
       "      <td>100010</td>\n",
       "      <td>1</td>\n",
       "      <td>1</td>\n",
       "    </tr>\n",
       "    <tr>\n",
       "      <th>4</th>\n",
       "      <td>100011</td>\n",
       "      <td>1</td>\n",
       "      <td>1</td>\n",
       "    </tr>\n",
       "  </tbody>\n",
       "</table>\n",
       "</div>"
      ],
      "text/plain": [
       "   ID_VIVIENDA  ENT  MUN\n",
       "0       100007    1    1\n",
       "1       100008    1    1\n",
       "2       100009    1    1\n",
       "3       100010    1    1\n",
       "4       100011    1    1"
      ]
     },
     "execution_count": 47,
     "metadata": {},
     "output_type": "execute_result"
    }
   ],
   "source": [
    "grouped.head()"
   ]
  },
  {
   "cell_type": "code",
   "execution_count": 48,
   "metadata": {},
   "outputs": [
    {
     "data": {
      "text/plain": [
       "dict_keys(['index', 'columns', 'data'])"
      ]
     },
     "execution_count": 48,
     "metadata": {},
     "output_type": "execute_result"
    }
   ],
   "source": [
    "dict_grouped = grouped.to_dict(orient='split')\n",
    "dict_grouped.keys()"
   ]
  },
  {
   "cell_type": "code",
   "execution_count": 49,
   "metadata": {},
   "outputs": [
    {
     "data": {
      "text/plain": [
       "['ID_VIVIENDA', 'ENT', 'MUN']"
      ]
     },
     "execution_count": 49,
     "metadata": {},
     "output_type": "execute_result"
    }
   ],
   "source": [
    "dict_grouped.pop('index')\n",
    "dict_grouped.pop('columns')"
   ]
  },
  {
   "cell_type": "code",
   "execution_count": 50,
   "metadata": {},
   "outputs": [
    {
     "data": {
      "text/plain": [
       "[100007, 1, 1]"
      ]
     },
     "execution_count": 50,
     "metadata": {},
     "output_type": "execute_result"
    }
   ],
   "source": [
    "dict_grouped['data'][0]"
   ]
  },
  {
   "cell_type": "code",
   "execution_count": 51,
   "metadata": {},
   "outputs": [
    {
     "data": {
      "text/plain": [
       "100007"
      ]
     },
     "execution_count": 51,
     "metadata": {},
     "output_type": "execute_result"
    }
   ],
   "source": [
    "dict_grouped['data'][0][0]"
   ]
  },
  {
   "cell_type": "code",
   "execution_count": 52,
   "metadata": {},
   "outputs": [
    {
     "data": {
      "text/plain": [
       "array([ 100007,  100008,  100009, ..., 3260810, 3260811, 3260812])"
      ]
     },
     "execution_count": 52,
     "metadata": {},
     "output_type": "execute_result"
    }
   ],
   "source": [
    "array_grouped = grouped.ID_VIVIENDA.unique()\n",
    "array_grouped"
   ]
  },
  {
   "cell_type": "code",
   "execution_count": 53,
   "metadata": {},
   "outputs": [],
   "source": [
    "dict_ID_VIVIENDA_ENT = {}\n",
    "\n",
    "for line in dict_grouped['data']:\n",
    "    #print(line[0], ':', line[1])\n",
    "    dict_ID_VIVIENDA_ENT[line[0]] = line[1]"
   ]
  },
  {
   "cell_type": "code",
   "execution_count": 54,
   "metadata": {},
   "outputs": [],
   "source": [
    "dict_ID_VIVIENDA_MUN = {}\n",
    "\n",
    "for line in dict_grouped['data']:\n",
    "    #print(line[0], ':', line[1])\n",
    "    dict_ID_VIVIENDA_MUN[line[0]] = line[2]"
   ]
  },
  {
   "cell_type": "code",
   "execution_count": 55,
   "metadata": {},
   "outputs": [],
   "source": [
    "df_s15['CVE_ENT'] = df_s15['ID_VIVIENDA'].map(dict_ID_VIVIENDA_ENT)"
   ]
  },
  {
   "cell_type": "code",
   "execution_count": 56,
   "metadata": {},
   "outputs": [
    {
     "data": {
      "text/plain": [
       "array([ 1, 32, 16, 11,  6,  2,  3, 25, 31, 10, 26, 18, 12, 14, 30, 20, 17,\n",
       "       19,  4,  7, 27,  5, 22, 23, 21,  8, 29,  9, 15, 13, 28, 24])"
      ]
     },
     "execution_count": 56,
     "metadata": {},
     "output_type": "execute_result"
    }
   ],
   "source": [
    "df_s15.CVE_ENT.unique()"
   ]
  },
  {
   "cell_type": "code",
   "execution_count": 57,
   "metadata": {},
   "outputs": [],
   "source": [
    "df_s15['CVE_MUN'] = df_s15['ID_VIVIENDA'].map(dict_ID_VIVIENDA_MUN)"
   ]
  },
  {
   "cell_type": "code",
   "execution_count": 58,
   "metadata": {},
   "outputs": [
    {
     "data": {
      "text/plain": [
       "array([  1,   7,   5,  11,  35,  24,  34,   6,   9,  20,   2,  10,  56,\n",
       "         4,   3,  18,   8,  98,  58,  55,  17,  53,  39,  12,  16,  67,\n",
       "        75,  42,  28,  41,  52, 204,  50,  23,  14,  30,  22,  27,  25,\n",
       "        38,  32,  33,  36,  37,  26,  97, 105,  15,  46,  47,  89, 101,\n",
       "        19,  21,  29,  31,  40,  85, 103,  44,  51,  48, 111,  54,  57,\n",
       "       102,  61, 108,  65, 114,  74,  70,  86,  76,  78, 112,  93,  81,\n",
       "        87,  79,  92,  96,  94,  99, 100, 107, 106, 109, 116,  45, 350,\n",
       "        13,  62, 104, 122,  60, 390, 234, 399, 202,  43, 121, 397,  77,\n",
       "       385, 190, 141,  59, 317,  69,  66,  73, 110, 414,  64,  84,  82,\n",
       "        63,  83, 120,  71,  72, 124,  68, 113, 134,  91, 194, 119, 188,\n",
       "        88, 128, 118, 193, 424, 160,  49,  95, 295, 259, 515, 207, 418,\n",
       "       533, 293, 349, 551, 565, 298, 546, 375, 570, 135, 334, 409, 115,\n",
       "       142, 157, 184, 185, 198, 200, 215, 525, 278, 439, 324, 327, 333,\n",
       "       384, 401, 419,  90, 431, 441, 450, 454, 469, 485, 494, 491, 496,\n",
       "       505, 513, 519, 520, 531, 117, 217, 199, 136, 208, 186, 197, 213,\n",
       "       132, 140, 143, 170, 154, 152, 164, 156, 138, 153, 189, 125, 180,\n",
       "       137, 177, 161, 162, 168, 169, 172, 178, 183, 203, 211, 173, 564,\n",
       "       131, 123, 130, 126, 129, 133, 148, 149, 151, 155, 163, 174, 175,\n",
       "       206, 191, 209, 210])"
      ]
     },
     "execution_count": 58,
     "metadata": {},
     "output_type": "execute_result"
    }
   ],
   "source": [
    "df_s15.CVE_MUN.unique()"
   ]
  },
  {
   "cell_type": "code",
   "execution_count": 59,
   "metadata": {},
   "outputs": [
    {
     "data": {
      "text/plain": [
       "(44699, 128)"
      ]
     },
     "execution_count": 59,
     "metadata": {},
     "output_type": "execute_result"
    }
   ],
   "source": [
    "df_s15.shape"
   ]
  },
  {
   "cell_type": "code",
   "execution_count": 60,
   "metadata": {},
   "outputs": [],
   "source": [
    "df_s15.to_csv('../dataframes/victimizacion_2015.csv')"
   ]
  },
  {
   "cell_type": "markdown",
   "metadata": {},
   "source": [
    "# 2016"
   ]
  },
  {
   "cell_type": "markdown",
   "metadata": {},
   "source": [
    "## Vivienda"
   ]
  },
  {
   "cell_type": "code",
   "execution_count": 61,
   "metadata": {},
   "outputs": [
    {
     "data": {
      "text/html": [
       "<div>\n",
       "<style scoped>\n",
       "    .dataframe tbody tr th:only-of-type {\n",
       "        vertical-align: middle;\n",
       "    }\n",
       "\n",
       "    .dataframe tbody tr th {\n",
       "        vertical-align: top;\n",
       "    }\n",
       "\n",
       "    .dataframe thead th {\n",
       "        text-align: right;\n",
       "    }\n",
       "</style>\n",
       "<table border=\"1\" class=\"dataframe\">\n",
       "  <thead>\n",
       "    <tr style=\"text-align: right;\">\n",
       "      <th></th>\n",
       "      <th>ID_VIV</th>\n",
       "      <th>UPM</th>\n",
       "      <th>VIV_SEL</th>\n",
       "      <th>ENT</th>\n",
       "      <th>MUN</th>\n",
       "      <th>AREAM</th>\n",
       "      <th>RESULT_V</th>\n",
       "      <th>AP1_1</th>\n",
       "      <th>AP1_2</th>\n",
       "      <th>AP2_1</th>\n",
       "      <th>AP2_2</th>\n",
       "      <th>AP2_3</th>\n",
       "      <th>NAP2_3</th>\n",
       "      <th>FAC_VIV</th>\n",
       "      <th>FAC_VIV_AM</th>\n",
       "      <th>DOMINIO</th>\n",
       "      <th>EST_DIS</th>\n",
       "      <th>UPM_DIS</th>\n",
       "      <th>year</th>\n",
       "    </tr>\n",
       "  </thead>\n",
       "  <tbody>\n",
       "    <tr>\n",
       "      <th>0</th>\n",
       "      <td>100006.01</td>\n",
       "      <td>100006</td>\n",
       "      <td>1</td>\n",
       "      <td>1</td>\n",
       "      <td>1</td>\n",
       "      <td>14\\r</td>\n",
       "      <td>2</td>\n",
       "      <td>1</td>\n",
       "      <td>2</td>\n",
       "      <td>7</td>\n",
       "      <td>1</td>\n",
       "      <td>\\r</td>\n",
       "      <td>1</td>\n",
       "      <td>168</td>\n",
       "      <td>000168\\r</td>\n",
       "      <td>U\\r</td>\n",
       "      <td>2</td>\n",
       "      <td>1</td>\n",
       "      <td>2016</td>\n",
       "    </tr>\n",
       "    <tr>\n",
       "      <th>1</th>\n",
       "      <td>100006.02</td>\n",
       "      <td>100006</td>\n",
       "      <td>2</td>\n",
       "      <td>1</td>\n",
       "      <td>1</td>\n",
       "      <td>14\\r</td>\n",
       "      <td>2</td>\n",
       "      <td>1</td>\n",
       "      <td>2</td>\n",
       "      <td>2</td>\n",
       "      <td>1</td>\n",
       "      <td>\\r</td>\n",
       "      <td>1</td>\n",
       "      <td>168</td>\n",
       "      <td>000168\\r</td>\n",
       "      <td>U\\r</td>\n",
       "      <td>2</td>\n",
       "      <td>1</td>\n",
       "      <td>2016</td>\n",
       "    </tr>\n",
       "    <tr>\n",
       "      <th>2</th>\n",
       "      <td>100006.03</td>\n",
       "      <td>100006</td>\n",
       "      <td>3</td>\n",
       "      <td>1</td>\n",
       "      <td>1</td>\n",
       "      <td>14\\r</td>\n",
       "      <td>2</td>\n",
       "      <td>3</td>\n",
       "      <td>2</td>\n",
       "      <td>8</td>\n",
       "      <td>1</td>\n",
       "      <td>\\r</td>\n",
       "      <td>1</td>\n",
       "      <td>168</td>\n",
       "      <td>000168\\r</td>\n",
       "      <td>U\\r</td>\n",
       "      <td>2</td>\n",
       "      <td>1</td>\n",
       "      <td>2016</td>\n",
       "    </tr>\n",
       "    <tr>\n",
       "      <th>3</th>\n",
       "      <td>100006.04</td>\n",
       "      <td>100006</td>\n",
       "      <td>4</td>\n",
       "      <td>1</td>\n",
       "      <td>1</td>\n",
       "      <td>14\\r</td>\n",
       "      <td>1</td>\n",
       "      <td>1</td>\n",
       "      <td>2</td>\n",
       "      <td>2</td>\n",
       "      <td>2</td>\n",
       "      <td>02\\r</td>\n",
       "      <td>2</td>\n",
       "      <td>168</td>\n",
       "      <td>000168\\r</td>\n",
       "      <td>U\\r</td>\n",
       "      <td>2</td>\n",
       "      <td>1</td>\n",
       "      <td>2016</td>\n",
       "    </tr>\n",
       "    <tr>\n",
       "      <th>4</th>\n",
       "      <td>100006.05</td>\n",
       "      <td>100006</td>\n",
       "      <td>5</td>\n",
       "      <td>1</td>\n",
       "      <td>1</td>\n",
       "      <td>14\\r</td>\n",
       "      <td>2</td>\n",
       "      <td>1</td>\n",
       "      <td>2</td>\n",
       "      <td>3</td>\n",
       "      <td>1</td>\n",
       "      <td>\\r</td>\n",
       "      <td>1</td>\n",
       "      <td>168</td>\n",
       "      <td>000168\\r</td>\n",
       "      <td>U\\r</td>\n",
       "      <td>2</td>\n",
       "      <td>1</td>\n",
       "      <td>2016</td>\n",
       "    </tr>\n",
       "  </tbody>\n",
       "</table>\n",
       "</div>"
      ],
      "text/plain": [
       "      ID_VIV     UPM  VIV_SEL  ENT  MUN AREAM  RESULT_V  AP1_1  AP1_2  AP2_1  \\\n",
       "0  100006.01  100006        1    1    1  14\\r         2      1      2      7   \n",
       "1  100006.02  100006        2    1    1  14\\r         2      1      2      2   \n",
       "2  100006.03  100006        3    1    1  14\\r         2      3      2      8   \n",
       "3  100006.04  100006        4    1    1  14\\r         1      1      2      2   \n",
       "4  100006.05  100006        5    1    1  14\\r         2      1      2      3   \n",
       "\n",
       "   AP2_2 AP2_3  NAP2_3  FAC_VIV FAC_VIV_AM DOMINIO  EST_DIS  UPM_DIS  year  \n",
       "0      1    \\r       1      168   000168\\r     U\\r        2        1  2016  \n",
       "1      1    \\r       1      168   000168\\r     U\\r        2        1  2016  \n",
       "2      1    \\r       1      168   000168\\r     U\\r        2        1  2016  \n",
       "3      2  02\\r       2      168   000168\\r     U\\r        2        1  2016  \n",
       "4      1    \\r       1      168   000168\\r     U\\r        2        1  2016  "
      ]
     },
     "execution_count": 61,
     "metadata": {},
     "output_type": "execute_result"
    }
   ],
   "source": [
    "file = '../data/2016/tvivienda_envipe2016/conjunto_de_datos/tvivienda_envipe2016.csv'\n",
    "df_v16 = pd.read_csv(file, encoding='latin')\n",
    "df_v16['year'] = 2016\n",
    "df_v16.head()"
   ]
  },
  {
   "cell_type": "code",
   "execution_count": 62,
   "metadata": {},
   "outputs": [
    {
     "data": {
      "text/plain": [
       "(84140, 19)"
      ]
     },
     "execution_count": 62,
     "metadata": {},
     "output_type": "execute_result"
    }
   ],
   "source": [
    "df_v16.shape"
   ]
  },
  {
   "cell_type": "code",
   "execution_count": 63,
   "metadata": {},
   "outputs": [],
   "source": [
    "df_v16['ID_VIVIENDA'] = df_v16.UPM + df_v16.VIV_SEL"
   ]
  },
  {
   "cell_type": "markdown",
   "metadata": {},
   "source": [
    "## Victimización 1"
   ]
  },
  {
   "cell_type": "code",
   "execution_count": 64,
   "metadata": {},
   "outputs": [
    {
     "data": {
      "text/html": [
       "<div>\n",
       "<style scoped>\n",
       "    .dataframe tbody tr th:only-of-type {\n",
       "        vertical-align: middle;\n",
       "    }\n",
       "\n",
       "    .dataframe tbody tr th {\n",
       "        vertical-align: top;\n",
       "    }\n",
       "\n",
       "    .dataframe thead th {\n",
       "        text-align: right;\n",
       "    }\n",
       "</style>\n",
       "<table border=\"1\" class=\"dataframe\">\n",
       "  <thead>\n",
       "    <tr style=\"text-align: right;\">\n",
       "      <th></th>\n",
       "      <th>ID_VIV</th>\n",
       "      <th>ID_HOG</th>\n",
       "      <th>ID_PER</th>\n",
       "      <th>ID_DEL</th>\n",
       "      <th>UPM</th>\n",
       "      <th>VIV_SEL</th>\n",
       "      <th>HOGAR</th>\n",
       "      <th>ND_TIPO</th>\n",
       "      <th>TD_TIPO</th>\n",
       "      <th>BPCOD</th>\n",
       "      <th>...</th>\n",
       "      <th>BP6_2</th>\n",
       "      <th>BP6_3</th>\n",
       "      <th>BP7_1</th>\n",
       "      <th>FAC_DEL</th>\n",
       "      <th>FAC_DEL_AM</th>\n",
       "      <th>DOMINIO</th>\n",
       "      <th>ESTRATO</th>\n",
       "      <th>EST_DIS</th>\n",
       "      <th>UPM_DIS</th>\n",
       "      <th>year</th>\n",
       "    </tr>\n",
       "  </thead>\n",
       "  <tbody>\n",
       "    <tr>\n",
       "      <th>0</th>\n",
       "      <td>101318.05</td>\n",
       "      <td>0101318.05.01\\r</td>\n",
       "      <td>0101318.05.01.03\\r</td>\n",
       "      <td>0101318.05.01.03.03.1\\r</td>\n",
       "      <td>101318</td>\n",
       "      <td>5</td>\n",
       "      <td>1</td>\n",
       "      <td>1</td>\n",
       "      <td>1</td>\n",
       "      <td>3</td>\n",
       "      <td>...</td>\n",
       "      <td>\\r</td>\n",
       "      <td>\\r</td>\n",
       "      <td>\\r</td>\n",
       "      <td>206</td>\n",
       "      <td>000206\\r</td>\n",
       "      <td>U\\r</td>\n",
       "      <td>4</td>\n",
       "      <td>3</td>\n",
       "      <td>176</td>\n",
       "      <td>2016</td>\n",
       "    </tr>\n",
       "    <tr>\n",
       "      <th>1</th>\n",
       "      <td>101989.02</td>\n",
       "      <td>0101989.02.01\\r</td>\n",
       "      <td>0101989.02.01.02\\r</td>\n",
       "      <td>0101989.02.01.02.02.1\\r</td>\n",
       "      <td>101989</td>\n",
       "      <td>2</td>\n",
       "      <td>1</td>\n",
       "      <td>1</td>\n",
       "      <td>1</td>\n",
       "      <td>2</td>\n",
       "      <td>...</td>\n",
       "      <td>\\r</td>\n",
       "      <td>\\r</td>\n",
       "      <td>\\r</td>\n",
       "      <td>286</td>\n",
       "      <td>000286\\r</td>\n",
       "      <td>U\\r</td>\n",
       "      <td>2</td>\n",
       "      <td>1</td>\n",
       "      <td>256</td>\n",
       "      <td>2016</td>\n",
       "    </tr>\n",
       "    <tr>\n",
       "      <th>2</th>\n",
       "      <td>100777.01</td>\n",
       "      <td>0100777.01.02\\r</td>\n",
       "      <td>0100777.01.02.01\\r</td>\n",
       "      <td>0100777.01.02.01.02.2\\r</td>\n",
       "      <td>100777</td>\n",
       "      <td>1</td>\n",
       "      <td>2</td>\n",
       "      <td>2</td>\n",
       "      <td>2</td>\n",
       "      <td>2</td>\n",
       "      <td>...</td>\n",
       "      <td>\\r</td>\n",
       "      <td>\\r</td>\n",
       "      <td>\\r</td>\n",
       "      <td>195</td>\n",
       "      <td>000195\\r</td>\n",
       "      <td>U\\r</td>\n",
       "      <td>2</td>\n",
       "      <td>1</td>\n",
       "      <td>99</td>\n",
       "      <td>2016</td>\n",
       "    </tr>\n",
       "    <tr>\n",
       "      <th>3</th>\n",
       "      <td>101318.03</td>\n",
       "      <td>0101318.03.01\\r</td>\n",
       "      <td>0101318.03.01.01\\r</td>\n",
       "      <td>0101318.03.01.01.04.1\\r</td>\n",
       "      <td>101318</td>\n",
       "      <td>3</td>\n",
       "      <td>1</td>\n",
       "      <td>1</td>\n",
       "      <td>1</td>\n",
       "      <td>4</td>\n",
       "      <td>...</td>\n",
       "      <td>\\r</td>\n",
       "      <td>\\r</td>\n",
       "      <td>\\r</td>\n",
       "      <td>206</td>\n",
       "      <td>000206\\r</td>\n",
       "      <td>U\\r</td>\n",
       "      <td>4</td>\n",
       "      <td>3</td>\n",
       "      <td>176</td>\n",
       "      <td>2016</td>\n",
       "    </tr>\n",
       "    <tr>\n",
       "      <th>4</th>\n",
       "      <td>100457.03</td>\n",
       "      <td>0100457.03.01\\r</td>\n",
       "      <td>0100457.03.01.03\\r</td>\n",
       "      <td>0100457.03.01.03.02.3\\r</td>\n",
       "      <td>100457</td>\n",
       "      <td>3</td>\n",
       "      <td>1</td>\n",
       "      <td>3</td>\n",
       "      <td>3</td>\n",
       "      <td>2</td>\n",
       "      <td>...</td>\n",
       "      <td>\\r</td>\n",
       "      <td>\\r</td>\n",
       "      <td>\\r</td>\n",
       "      <td>202</td>\n",
       "      <td>000202\\r</td>\n",
       "      <td>U\\r</td>\n",
       "      <td>2</td>\n",
       "      <td>1</td>\n",
       "      <td>62</td>\n",
       "      <td>2016</td>\n",
       "    </tr>\n",
       "  </tbody>\n",
       "</table>\n",
       "<p>5 rows × 128 columns</p>\n",
       "</div>"
      ],
      "text/plain": [
       "      ID_VIV           ID_HOG              ID_PER                   ID_DEL  \\\n",
       "0  101318.05  0101318.05.01\\r  0101318.05.01.03\\r  0101318.05.01.03.03.1\\r   \n",
       "1  101989.02  0101989.02.01\\r  0101989.02.01.02\\r  0101989.02.01.02.02.1\\r   \n",
       "2  100777.01  0100777.01.02\\r  0100777.01.02.01\\r  0100777.01.02.01.02.2\\r   \n",
       "3  101318.03  0101318.03.01\\r  0101318.03.01.01\\r  0101318.03.01.01.04.1\\r   \n",
       "4  100457.03  0100457.03.01\\r  0100457.03.01.03\\r  0100457.03.01.03.02.3\\r   \n",
       "\n",
       "      UPM  VIV_SEL  HOGAR  ND_TIPO  TD_TIPO  BPCOD  ...   BP6_2 BP6_3 BP7_1  \\\n",
       "0  101318        5      1        1        1      3  ...      \\r    \\r    \\r   \n",
       "1  101989        2      1        1        1      2  ...      \\r    \\r    \\r   \n",
       "2  100777        1      2        2        2      2  ...      \\r    \\r    \\r   \n",
       "3  101318        3      1        1        1      4  ...      \\r    \\r    \\r   \n",
       "4  100457        3      1        3        3      2  ...      \\r    \\r    \\r   \n",
       "\n",
       "   FAC_DEL  FAC_DEL_AM  DOMINIO  ESTRATO  EST_DIS UPM_DIS  year  \n",
       "0      206    000206\\r      U\\r        4        3     176  2016  \n",
       "1      286    000286\\r      U\\r        2        1     256  2016  \n",
       "2      195    000195\\r      U\\r        2        1      99  2016  \n",
       "3      206    000206\\r      U\\r        4        3     176  2016  \n",
       "4      202    000202\\r      U\\r        2        1      62  2016  \n",
       "\n",
       "[5 rows x 128 columns]"
      ]
     },
     "execution_count": 64,
     "metadata": {},
     "output_type": "execute_result"
    }
   ],
   "source": [
    "file = '../data/2016/tmod_vic_envipe2016/conjunto_de_datos/tmod_vic_envipe2016.csv'\n",
    "df_s16 = pd.read_csv(file, encoding='latin')\n",
    "df_s16['year'] = 2016\n",
    "df_s16.head()"
   ]
  },
  {
   "cell_type": "code",
   "execution_count": 65,
   "metadata": {},
   "outputs": [
    {
     "data": {
      "text/plain": [
       "(40026, 128)"
      ]
     },
     "execution_count": 65,
     "metadata": {},
     "output_type": "execute_result"
    }
   ],
   "source": [
    "df_s16.shape"
   ]
  },
  {
   "cell_type": "code",
   "execution_count": 66,
   "metadata": {},
   "outputs": [],
   "source": [
    "df_s16['ID_VIVIENDA'] = df_s16.UPM + df_s16.VIV_SEL"
   ]
  },
  {
   "cell_type": "markdown",
   "metadata": {},
   "source": [
    "## DICCIONARIO Vivienda - Victimización 1"
   ]
  },
  {
   "cell_type": "code",
   "execution_count": 67,
   "metadata": {},
   "outputs": [
    {
     "data": {
      "text/plain": [
       "ID_VIVIENDA  ENT  MUN\n",
       "100007       1    1      1\n",
       "100008       1    1      1\n",
       "100009       1    1      2\n",
       "100010       1    1      1\n",
       "100011       1    1      2\n",
       "100012       1    1      1\n",
       "100013       1    1      2\n",
       "100015       1    1      1\n",
       "100023       1    1      1\n",
       "100024       1    1      1\n",
       "100025       1    1      1\n",
       "100026       1    1      2\n",
       "100027       1    1      1\n",
       "100028       1    1      1\n",
       "100029       1    1      1\n",
       "100030       1    1      1\n",
       "100032       1    1      1\n",
       "100034       1    1      1\n",
       "100035       1    1      1\n",
       "100036       1    1      1\n",
       "100041       1    1      1\n",
       "100042       1    1      1\n",
       "100043       1    1      1\n",
       "100044       1    1      1\n",
       "100045       1    1      1\n",
       "100078       1    1      1\n",
       "100079       1    1      1\n",
       "100080       1    1      2\n",
       "100081       1    1      1\n",
       "100082       1    1      1\n",
       "                        ..\n",
       "3260796      32   37     1\n",
       "3260797      32   35     1\n",
       "                  37     1\n",
       "3260798      32   35     1\n",
       "                  37     1\n",
       "3260799      32   35     1\n",
       "                  37     1\n",
       "3260800      32   35     1\n",
       "                  37     1\n",
       "3260801      32   35     1\n",
       "                  37     1\n",
       "3260802      32   35     1\n",
       "                  37     1\n",
       "3260803      32   35     1\n",
       "                  37     1\n",
       "3260804      32   37     1\n",
       "3260805      32   35     1\n",
       "                  37     1\n",
       "3260806      32   35     1\n",
       "                  37     1\n",
       "3260807      32   35     1\n",
       "                  37     1\n",
       "3260808      32   35     1\n",
       "                  37     1\n",
       "3260809      32   35     1\n",
       "                  37     1\n",
       "3260810      32   35     1\n",
       "                  37     1\n",
       "3260811      32   37     1\n",
       "3260812      32   37     1\n",
       "Length: 69303, dtype: int64"
      ]
     },
     "execution_count": 67,
     "metadata": {},
     "output_type": "execute_result"
    }
   ],
   "source": [
    "df_v16.groupby(['ID_VIVIENDA', 'ENT', 'MUN']).size()"
   ]
  },
  {
   "cell_type": "code",
   "execution_count": 68,
   "metadata": {},
   "outputs": [
    {
     "data": {
      "text/html": [
       "<div>\n",
       "<style scoped>\n",
       "    .dataframe tbody tr th:only-of-type {\n",
       "        vertical-align: middle;\n",
       "    }\n",
       "\n",
       "    .dataframe tbody tr th {\n",
       "        vertical-align: top;\n",
       "    }\n",
       "\n",
       "    .dataframe thead th {\n",
       "        text-align: right;\n",
       "    }\n",
       "</style>\n",
       "<table border=\"1\" class=\"dataframe\">\n",
       "  <thead>\n",
       "    <tr style=\"text-align: right;\">\n",
       "      <th></th>\n",
       "      <th></th>\n",
       "      <th></th>\n",
       "    </tr>\n",
       "    <tr>\n",
       "      <th>ID_VIVIENDA</th>\n",
       "      <th>ENT</th>\n",
       "      <th>MUN</th>\n",
       "    </tr>\n",
       "  </thead>\n",
       "  <tbody>\n",
       "    <tr>\n",
       "      <th>100007</th>\n",
       "      <th>1</th>\n",
       "      <th>1</th>\n",
       "    </tr>\n",
       "    <tr>\n",
       "      <th>100008</th>\n",
       "      <th>1</th>\n",
       "      <th>1</th>\n",
       "    </tr>\n",
       "    <tr>\n",
       "      <th>100009</th>\n",
       "      <th>1</th>\n",
       "      <th>1</th>\n",
       "    </tr>\n",
       "    <tr>\n",
       "      <th>100010</th>\n",
       "      <th>1</th>\n",
       "      <th>1</th>\n",
       "    </tr>\n",
       "    <tr>\n",
       "      <th>100011</th>\n",
       "      <th>1</th>\n",
       "      <th>1</th>\n",
       "    </tr>\n",
       "  </tbody>\n",
       "</table>\n",
       "</div>"
      ],
      "text/plain": [
       "Empty DataFrame\n",
       "Columns: []\n",
       "Index: [(100007, 1, 1), (100008, 1, 1), (100009, 1, 1), (100010, 1, 1), (100011, 1, 1)]"
      ]
     },
     "execution_count": 68,
     "metadata": {},
     "output_type": "execute_result"
    }
   ],
   "source": [
    "grouped = pd.DataFrame(df_v16.groupby(['ID_VIVIENDA', 'ENT', 'MUN']).size())\n",
    "grouped.drop([0], axis=1, inplace=True)\n",
    "grouped.head()"
   ]
  },
  {
   "cell_type": "code",
   "execution_count": 69,
   "metadata": {},
   "outputs": [
    {
     "data": {
      "text/plain": [
       "Index(['ID_VIVIENDA', 'ENT', 'MUN'], dtype='object')"
      ]
     },
     "execution_count": 69,
     "metadata": {},
     "output_type": "execute_result"
    }
   ],
   "source": [
    "grouped.reset_index(inplace=True)\n",
    "grouped.columns"
   ]
  },
  {
   "cell_type": "code",
   "execution_count": 70,
   "metadata": {},
   "outputs": [
    {
     "data": {
      "text/html": [
       "<div>\n",
       "<style scoped>\n",
       "    .dataframe tbody tr th:only-of-type {\n",
       "        vertical-align: middle;\n",
       "    }\n",
       "\n",
       "    .dataframe tbody tr th {\n",
       "        vertical-align: top;\n",
       "    }\n",
       "\n",
       "    .dataframe thead th {\n",
       "        text-align: right;\n",
       "    }\n",
       "</style>\n",
       "<table border=\"1\" class=\"dataframe\">\n",
       "  <thead>\n",
       "    <tr style=\"text-align: right;\">\n",
       "      <th></th>\n",
       "      <th>ID_VIVIENDA</th>\n",
       "      <th>ENT</th>\n",
       "      <th>MUN</th>\n",
       "    </tr>\n",
       "  </thead>\n",
       "  <tbody>\n",
       "    <tr>\n",
       "      <th>0</th>\n",
       "      <td>100007</td>\n",
       "      <td>1</td>\n",
       "      <td>1</td>\n",
       "    </tr>\n",
       "    <tr>\n",
       "      <th>1</th>\n",
       "      <td>100008</td>\n",
       "      <td>1</td>\n",
       "      <td>1</td>\n",
       "    </tr>\n",
       "    <tr>\n",
       "      <th>2</th>\n",
       "      <td>100009</td>\n",
       "      <td>1</td>\n",
       "      <td>1</td>\n",
       "    </tr>\n",
       "    <tr>\n",
       "      <th>3</th>\n",
       "      <td>100010</td>\n",
       "      <td>1</td>\n",
       "      <td>1</td>\n",
       "    </tr>\n",
       "    <tr>\n",
       "      <th>4</th>\n",
       "      <td>100011</td>\n",
       "      <td>1</td>\n",
       "      <td>1</td>\n",
       "    </tr>\n",
       "  </tbody>\n",
       "</table>\n",
       "</div>"
      ],
      "text/plain": [
       "   ID_VIVIENDA  ENT  MUN\n",
       "0       100007    1    1\n",
       "1       100008    1    1\n",
       "2       100009    1    1\n",
       "3       100010    1    1\n",
       "4       100011    1    1"
      ]
     },
     "execution_count": 70,
     "metadata": {},
     "output_type": "execute_result"
    }
   ],
   "source": [
    "grouped.head()"
   ]
  },
  {
   "cell_type": "code",
   "execution_count": 71,
   "metadata": {},
   "outputs": [
    {
     "data": {
      "text/plain": [
       "dict_keys(['index', 'columns', 'data'])"
      ]
     },
     "execution_count": 71,
     "metadata": {},
     "output_type": "execute_result"
    }
   ],
   "source": [
    "dict_grouped = grouped.to_dict(orient='split')\n",
    "dict_grouped.keys()"
   ]
  },
  {
   "cell_type": "code",
   "execution_count": 72,
   "metadata": {},
   "outputs": [
    {
     "data": {
      "text/plain": [
       "['ID_VIVIENDA', 'ENT', 'MUN']"
      ]
     },
     "execution_count": 72,
     "metadata": {},
     "output_type": "execute_result"
    }
   ],
   "source": [
    "dict_grouped.pop('index')\n",
    "dict_grouped.pop('columns')"
   ]
  },
  {
   "cell_type": "code",
   "execution_count": 73,
   "metadata": {},
   "outputs": [
    {
     "data": {
      "text/plain": [
       "[100007, 1, 1]"
      ]
     },
     "execution_count": 73,
     "metadata": {},
     "output_type": "execute_result"
    }
   ],
   "source": [
    "dict_grouped['data'][0]"
   ]
  },
  {
   "cell_type": "code",
   "execution_count": 74,
   "metadata": {},
   "outputs": [
    {
     "data": {
      "text/plain": [
       "100007"
      ]
     },
     "execution_count": 74,
     "metadata": {},
     "output_type": "execute_result"
    }
   ],
   "source": [
    "dict_grouped['data'][0][0]"
   ]
  },
  {
   "cell_type": "code",
   "execution_count": 75,
   "metadata": {},
   "outputs": [
    {
     "data": {
      "text/plain": [
       "array([ 100007,  100008,  100009, ..., 3260810, 3260811, 3260812])"
      ]
     },
     "execution_count": 75,
     "metadata": {},
     "output_type": "execute_result"
    }
   ],
   "source": [
    "array_grouped = grouped.ID_VIVIENDA.unique()\n",
    "array_grouped"
   ]
  },
  {
   "cell_type": "code",
   "execution_count": 76,
   "metadata": {},
   "outputs": [],
   "source": [
    "dict_ID_VIVIENDA_ENT = {}\n",
    "\n",
    "for line in dict_grouped['data']:\n",
    "    #print(line[0], ':', line[1])\n",
    "    dict_ID_VIVIENDA_ENT[line[0]] = line[1]"
   ]
  },
  {
   "cell_type": "code",
   "execution_count": 77,
   "metadata": {},
   "outputs": [],
   "source": [
    "dict_ID_VIVIENDA_MUN = {}\n",
    "\n",
    "for line in dict_grouped['data']:\n",
    "    #print(line[0], ':', line[1])\n",
    "    dict_ID_VIVIENDA_MUN[line[0]] = line[2]"
   ]
  },
  {
   "cell_type": "code",
   "execution_count": 78,
   "metadata": {},
   "outputs": [],
   "source": [
    "df_s16['CVE_ENT'] = df_s16['ID_VIVIENDA'].map(dict_ID_VIVIENDA_ENT)"
   ]
  },
  {
   "cell_type": "code",
   "execution_count": 79,
   "metadata": {},
   "outputs": [
    {
     "data": {
      "text/plain": [
       "array([ 1, 14, 12, 32, 24, 19,  2, 25,  3, 18, 31, 26,  6,  5, 21, 23, 29,\n",
       "        4, 27, 15, 28, 10,  7, 20,  8, 17, 30,  9, 22, 13, 11, 16])"
      ]
     },
     "execution_count": 79,
     "metadata": {},
     "output_type": "execute_result"
    }
   ],
   "source": [
    "df_s16.CVE_ENT.unique()"
   ]
  },
  {
   "cell_type": "code",
   "execution_count": 80,
   "metadata": {},
   "outputs": [],
   "source": [
    "df_s16['CVE_MUN'] = df_s16['ID_VIVIENDA'].map(dict_ID_VIVIENDA_MUN)"
   ]
  },
  {
   "cell_type": "code",
   "execution_count": 81,
   "metadata": {},
   "outputs": [
    {
     "data": {
      "text/plain": [
       "array([  1,   5,  11,   7,  64,   6,  59,  34,  25,  10,   2,  18,   9,\n",
       "         4,  17,  50,  55,   3,  12, 101,  30,  28, 114,   8,  14,  39,\n",
       "        13,  26,  35,  36,  46,  32,  20,  22,  24,  27,  49,  31,  33,\n",
       "        37,  15,  89, 106,  61, 154,  19,  99,  78,  75, 298,  21,  23,\n",
       "        29,  83,  71,  40,  57,  41,  85,  47,  51,  52,  66,  65,  67,\n",
       "        70,  74,  76,  96,  79,  80,  82,  86,  87, 102,  93,  94,  97,\n",
       "        98, 120, 134, 108, 103, 105, 107, 109, 112, 116,  48,  60,  16,\n",
       "       121, 104,  58,  81, 124, 179,  69, 122, 413, 115, 170,  43, 189,\n",
       "       385,  53,  38, 193,  44,  42, 333,  45,  72,  54,  68,  56,  62,\n",
       "       129,  84,  63,  73,  77, 140, 293, 117, 119,  91, 100, 141,  92,\n",
       "       118, 110, 111, 113, 131, 184, 202, 485,  88, 186, 207, 198, 397,\n",
       "       375, 520, 139, 533, 431, 409, 157, 188, 135, 390, 553, 546, 161,\n",
       "       399, 427, 515, 265, 470, 166, 190, 278, 197, 208, 248, 283, 378,\n",
       "       295, 309, 315, 317, 467, 401, 324, 327, 334, 346, 384, 439, 414,\n",
       "       482, 419, 424, 441, 454, 466, 242, 469, 505, 525, 551, 565, 164,\n",
       "       132, 128, 183, 143, 174, 156, 180, 125, 142, 152, 153, 203, 177,\n",
       "       172, 194, 199, 205, 206, 212, 123, 133, 209, 204,  90, 175, 126,\n",
       "       148, 149, 160, 173, 191])"
      ]
     },
     "execution_count": 81,
     "metadata": {},
     "output_type": "execute_result"
    }
   ],
   "source": [
    "df_s16.CVE_MUN.unique()"
   ]
  },
  {
   "cell_type": "code",
   "execution_count": 82,
   "metadata": {},
   "outputs": [
    {
     "data": {
      "text/plain": [
       "(40026, 131)"
      ]
     },
     "execution_count": 82,
     "metadata": {},
     "output_type": "execute_result"
    }
   ],
   "source": [
    "df_s16.shape"
   ]
  },
  {
   "cell_type": "code",
   "execution_count": 83,
   "metadata": {},
   "outputs": [],
   "source": [
    "df_s16.to_csv('../dataframes/victimizacion_2016.csv')"
   ]
  },
  {
   "cell_type": "markdown",
   "metadata": {},
   "source": [
    "# 2017"
   ]
  },
  {
   "cell_type": "markdown",
   "metadata": {},
   "source": [
    "## Vivienda"
   ]
  },
  {
   "cell_type": "code",
   "execution_count": 84,
   "metadata": {},
   "outputs": [
    {
     "data": {
      "text/html": [
       "<div>\n",
       "<style scoped>\n",
       "    .dataframe tbody tr th:only-of-type {\n",
       "        vertical-align: middle;\n",
       "    }\n",
       "\n",
       "    .dataframe tbody tr th {\n",
       "        vertical-align: top;\n",
       "    }\n",
       "\n",
       "    .dataframe thead th {\n",
       "        text-align: right;\n",
       "    }\n",
       "</style>\n",
       "<table border=\"1\" class=\"dataframe\">\n",
       "  <thead>\n",
       "    <tr style=\"text-align: right;\">\n",
       "      <th></th>\n",
       "      <th>ID_VIV</th>\n",
       "      <th>UPM</th>\n",
       "      <th>VIV_SEL</th>\n",
       "      <th>AREAM</th>\n",
       "      <th>CVE_ENT</th>\n",
       "      <th>NOM_ENT</th>\n",
       "      <th>CVE_MUN</th>\n",
       "      <th>NOM_MUN</th>\n",
       "      <th>RESULT_V</th>\n",
       "      <th>AP1_1</th>\n",
       "      <th>...</th>\n",
       "      <th>AP2_1</th>\n",
       "      <th>AP2_2</th>\n",
       "      <th>AP2_3</th>\n",
       "      <th>NAP2_3</th>\n",
       "      <th>FAC_VIV</th>\n",
       "      <th>FAC_VIV_AM</th>\n",
       "      <th>DOMINIO</th>\n",
       "      <th>EST_DIS</th>\n",
       "      <th>UPM_DIS</th>\n",
       "      <th>year</th>\n",
       "    </tr>\n",
       "  </thead>\n",
       "  <tbody>\n",
       "    <tr>\n",
       "      <th>0</th>\n",
       "      <td>100008.01</td>\n",
       "      <td>100008</td>\n",
       "      <td>1</td>\n",
       "      <td>14\\r</td>\n",
       "      <td>1</td>\n",
       "      <td>Aguascalientes\\r</td>\n",
       "      <td>1</td>\n",
       "      <td>Aguascalientes\\r</td>\n",
       "      <td>2</td>\n",
       "      <td>1</td>\n",
       "      <td>...</td>\n",
       "      <td>4</td>\n",
       "      <td>1</td>\n",
       "      <td>\\r</td>\n",
       "      <td>1</td>\n",
       "      <td>204</td>\n",
       "      <td>000204\\r</td>\n",
       "      <td>U\\r</td>\n",
       "      <td>3</td>\n",
       "      <td>1</td>\n",
       "      <td>2017</td>\n",
       "    </tr>\n",
       "    <tr>\n",
       "      <th>1</th>\n",
       "      <td>100008.02</td>\n",
       "      <td>100008</td>\n",
       "      <td>2</td>\n",
       "      <td>14\\r</td>\n",
       "      <td>1</td>\n",
       "      <td>Aguascalientes\\r</td>\n",
       "      <td>1</td>\n",
       "      <td>Aguascalientes\\r</td>\n",
       "      <td>2</td>\n",
       "      <td>1</td>\n",
       "      <td>...</td>\n",
       "      <td>3</td>\n",
       "      <td>1</td>\n",
       "      <td>\\r</td>\n",
       "      <td>1</td>\n",
       "      <td>204</td>\n",
       "      <td>000204\\r</td>\n",
       "      <td>U\\r</td>\n",
       "      <td>3</td>\n",
       "      <td>1</td>\n",
       "      <td>2017</td>\n",
       "    </tr>\n",
       "    <tr>\n",
       "      <th>2</th>\n",
       "      <td>100008.04</td>\n",
       "      <td>100008</td>\n",
       "      <td>4</td>\n",
       "      <td>14\\r</td>\n",
       "      <td>1</td>\n",
       "      <td>Aguascalientes\\r</td>\n",
       "      <td>1</td>\n",
       "      <td>Aguascalientes\\r</td>\n",
       "      <td>2</td>\n",
       "      <td>1</td>\n",
       "      <td>...</td>\n",
       "      <td>2</td>\n",
       "      <td>1</td>\n",
       "      <td>\\r</td>\n",
       "      <td>1</td>\n",
       "      <td>204</td>\n",
       "      <td>000204\\r</td>\n",
       "      <td>U\\r</td>\n",
       "      <td>3</td>\n",
       "      <td>1</td>\n",
       "      <td>2017</td>\n",
       "    </tr>\n",
       "    <tr>\n",
       "      <th>3</th>\n",
       "      <td>100008.05</td>\n",
       "      <td>100008</td>\n",
       "      <td>5</td>\n",
       "      <td>14\\r</td>\n",
       "      <td>1</td>\n",
       "      <td>Aguascalientes\\r</td>\n",
       "      <td>1</td>\n",
       "      <td>Aguascalientes\\r</td>\n",
       "      <td>1</td>\n",
       "      <td>2</td>\n",
       "      <td>...</td>\n",
       "      <td>3</td>\n",
       "      <td>1</td>\n",
       "      <td>\\r</td>\n",
       "      <td>1</td>\n",
       "      <td>204</td>\n",
       "      <td>000204\\r</td>\n",
       "      <td>U\\r</td>\n",
       "      <td>3</td>\n",
       "      <td>1</td>\n",
       "      <td>2017</td>\n",
       "    </tr>\n",
       "    <tr>\n",
       "      <th>4</th>\n",
       "      <td>100022.01</td>\n",
       "      <td>100022</td>\n",
       "      <td>1</td>\n",
       "      <td>14\\r</td>\n",
       "      <td>1</td>\n",
       "      <td>Aguascalientes\\r</td>\n",
       "      <td>1</td>\n",
       "      <td>Aguascalientes\\r</td>\n",
       "      <td>1</td>\n",
       "      <td>1</td>\n",
       "      <td>...</td>\n",
       "      <td>3</td>\n",
       "      <td>1</td>\n",
       "      <td>\\r</td>\n",
       "      <td>1</td>\n",
       "      <td>198</td>\n",
       "      <td>000198\\r</td>\n",
       "      <td>U\\r</td>\n",
       "      <td>2</td>\n",
       "      <td>2</td>\n",
       "      <td>2017</td>\n",
       "    </tr>\n",
       "  </tbody>\n",
       "</table>\n",
       "<p>5 rows × 21 columns</p>\n",
       "</div>"
      ],
      "text/plain": [
       "      ID_VIV     UPM  VIV_SEL AREAM  CVE_ENT           NOM_ENT  CVE_MUN  \\\n",
       "0  100008.01  100008        1  14\\r        1  Aguascalientes\\r        1   \n",
       "1  100008.02  100008        2  14\\r        1  Aguascalientes\\r        1   \n",
       "2  100008.04  100008        4  14\\r        1  Aguascalientes\\r        1   \n",
       "3  100008.05  100008        5  14\\r        1  Aguascalientes\\r        1   \n",
       "4  100022.01  100022        1  14\\r        1  Aguascalientes\\r        1   \n",
       "\n",
       "            NOM_MUN  RESULT_V  AP1_1  ...   AP2_1  AP2_2  AP2_3 NAP2_3  \\\n",
       "0  Aguascalientes\\r         2      1  ...       4      1     \\r      1   \n",
       "1  Aguascalientes\\r         2      1  ...       3      1     \\r      1   \n",
       "2  Aguascalientes\\r         2      1  ...       2      1     \\r      1   \n",
       "3  Aguascalientes\\r         1      2  ...       3      1     \\r      1   \n",
       "4  Aguascalientes\\r         1      1  ...       3      1     \\r      1   \n",
       "\n",
       "   FAC_VIV  FAC_VIV_AM DOMINIO EST_DIS  UPM_DIS  year  \n",
       "0      204    000204\\r     U\\r       3        1  2017  \n",
       "1      204    000204\\r     U\\r       3        1  2017  \n",
       "2      204    000204\\r     U\\r       3        1  2017  \n",
       "3      204    000204\\r     U\\r       3        1  2017  \n",
       "4      198    000198\\r     U\\r       2        2  2017  \n",
       "\n",
       "[5 rows x 21 columns]"
      ]
     },
     "execution_count": 84,
     "metadata": {},
     "output_type": "execute_result"
    }
   ],
   "source": [
    "file = '../data/2017/tvivienda_envipe2017/conjunto_de_datos/tvivienda.csv'\n",
    "df_v17 = pd.read_csv(file, encoding='latin')\n",
    "df_v17['year'] = 2017\n",
    "df_v17.head()"
   ]
  },
  {
   "cell_type": "code",
   "execution_count": 85,
   "metadata": {},
   "outputs": [
    {
     "data": {
      "text/plain": [
       "(90618, 21)"
      ]
     },
     "execution_count": 85,
     "metadata": {},
     "output_type": "execute_result"
    }
   ],
   "source": [
    "df_v17.shape"
   ]
  },
  {
   "cell_type": "code",
   "execution_count": 86,
   "metadata": {},
   "outputs": [],
   "source": [
    "df_v17['ID_VIVIENDA'] = df_v17.UPM + df_v17.VIV_SEL"
   ]
  },
  {
   "cell_type": "markdown",
   "metadata": {},
   "source": [
    "## Victimización 1"
   ]
  },
  {
   "cell_type": "code",
   "execution_count": 87,
   "metadata": {},
   "outputs": [
    {
     "data": {
      "text/html": [
       "<div>\n",
       "<style scoped>\n",
       "    .dataframe tbody tr th:only-of-type {\n",
       "        vertical-align: middle;\n",
       "    }\n",
       "\n",
       "    .dataframe tbody tr th {\n",
       "        vertical-align: top;\n",
       "    }\n",
       "\n",
       "    .dataframe thead th {\n",
       "        text-align: right;\n",
       "    }\n",
       "</style>\n",
       "<table border=\"1\" class=\"dataframe\">\n",
       "  <thead>\n",
       "    <tr style=\"text-align: right;\">\n",
       "      <th></th>\n",
       "      <th>ID_VIV</th>\n",
       "      <th>ID_HOG</th>\n",
       "      <th>ID_PER</th>\n",
       "      <th>ID_DEL</th>\n",
       "      <th>UPM</th>\n",
       "      <th>VIV_SEL</th>\n",
       "      <th>HOGAR</th>\n",
       "      <th>ND_TIPO</th>\n",
       "      <th>TD_TIPO</th>\n",
       "      <th>BPCOD</th>\n",
       "      <th>...</th>\n",
       "      <th>BP6_2</th>\n",
       "      <th>BP6_3</th>\n",
       "      <th>BP7_1</th>\n",
       "      <th>FAC_DEL</th>\n",
       "      <th>FAC_DEL_AM</th>\n",
       "      <th>DOMINIO</th>\n",
       "      <th>ESTRATO</th>\n",
       "      <th>EST_DIS</th>\n",
       "      <th>UPM_DIS</th>\n",
       "      <th>year</th>\n",
       "    </tr>\n",
       "  </thead>\n",
       "  <tbody>\n",
       "    <tr>\n",
       "      <th>0</th>\n",
       "      <td>100172.02</td>\n",
       "      <td>0100172.02.01\\r</td>\n",
       "      <td>0100172.02.01.02\\r</td>\n",
       "      <td>0100172.02.01.02.09\\r</td>\n",
       "      <td>100172</td>\n",
       "      <td>2</td>\n",
       "      <td>1</td>\n",
       "      <td>1</td>\n",
       "      <td>1</td>\n",
       "      <td>9</td>\n",
       "      <td>...</td>\n",
       "      <td>\\r</td>\n",
       "      <td>\\r</td>\n",
       "      <td>\\r</td>\n",
       "      <td>364</td>\n",
       "      <td>000364\\r</td>\n",
       "      <td>U\\r</td>\n",
       "      <td>3</td>\n",
       "      <td>2</td>\n",
       "      <td>11</td>\n",
       "      <td>2017</td>\n",
       "    </tr>\n",
       "    <tr>\n",
       "      <th>1</th>\n",
       "      <td>100931.01</td>\n",
       "      <td>0100931.01.01\\r</td>\n",
       "      <td>0100931.01.01.01\\r</td>\n",
       "      <td>0100931.01.01.01.03\\r</td>\n",
       "      <td>100931</td>\n",
       "      <td>1</td>\n",
       "      <td>1</td>\n",
       "      <td>1</td>\n",
       "      <td>1</td>\n",
       "      <td>3</td>\n",
       "      <td>...</td>\n",
       "      <td>\\r</td>\n",
       "      <td>\\r</td>\n",
       "      <td>\\r</td>\n",
       "      <td>182</td>\n",
       "      <td>000182\\r</td>\n",
       "      <td>U\\r</td>\n",
       "      <td>3</td>\n",
       "      <td>2</td>\n",
       "      <td>111</td>\n",
       "      <td>2017</td>\n",
       "    </tr>\n",
       "    <tr>\n",
       "      <th>2</th>\n",
       "      <td>160114.20</td>\n",
       "      <td>0160114.20.01\\r</td>\n",
       "      <td>0160114.20.01.01\\r</td>\n",
       "      <td>0160114.20.01.01.02\\r</td>\n",
       "      <td>160114</td>\n",
       "      <td>20</td>\n",
       "      <td>1</td>\n",
       "      <td>4</td>\n",
       "      <td>4</td>\n",
       "      <td>2</td>\n",
       "      <td>...</td>\n",
       "      <td>\\r</td>\n",
       "      <td>\\r</td>\n",
       "      <td>\\r</td>\n",
       "      <td>211</td>\n",
       "      <td>000211\\r</td>\n",
       "      <td>R\\r</td>\n",
       "      <td>2</td>\n",
       "      <td>11</td>\n",
       "      <td>295</td>\n",
       "      <td>2017</td>\n",
       "    </tr>\n",
       "    <tr>\n",
       "      <th>3</th>\n",
       "      <td>100208.04</td>\n",
       "      <td>0100208.04.01\\r</td>\n",
       "      <td>0100208.04.01.01\\r</td>\n",
       "      <td>0100208.04.01.01.03\\r</td>\n",
       "      <td>100208</td>\n",
       "      <td>4</td>\n",
       "      <td>1</td>\n",
       "      <td>1</td>\n",
       "      <td>2</td>\n",
       "      <td>3</td>\n",
       "      <td>...</td>\n",
       "      <td>\\r</td>\n",
       "      <td>\\r</td>\n",
       "      <td>\\r</td>\n",
       "      <td>147</td>\n",
       "      <td>000147\\r</td>\n",
       "      <td>U\\r</td>\n",
       "      <td>3</td>\n",
       "      <td>2</td>\n",
       "      <td>15</td>\n",
       "      <td>2017</td>\n",
       "    </tr>\n",
       "    <tr>\n",
       "      <th>4</th>\n",
       "      <td>1409568.04</td>\n",
       "      <td>1409568.04.01\\r</td>\n",
       "      <td>1409568.04.01.01\\r</td>\n",
       "      <td>1409568.04.01.01.02\\r</td>\n",
       "      <td>1409568</td>\n",
       "      <td>4</td>\n",
       "      <td>1</td>\n",
       "      <td>1</td>\n",
       "      <td>1</td>\n",
       "      <td>2</td>\n",
       "      <td>...</td>\n",
       "      <td>\\r</td>\n",
       "      <td>\\r</td>\n",
       "      <td>\\r</td>\n",
       "      <td>1026</td>\n",
       "      <td>001026\\r</td>\n",
       "      <td>U\\r</td>\n",
       "      <td>4</td>\n",
       "      <td>233</td>\n",
       "      <td>6238</td>\n",
       "      <td>2017</td>\n",
       "    </tr>\n",
       "  </tbody>\n",
       "</table>\n",
       "<p>5 rows × 133 columns</p>\n",
       "</div>"
      ],
      "text/plain": [
       "       ID_VIV           ID_HOG              ID_PER                 ID_DEL  \\\n",
       "0   100172.02  0100172.02.01\\r  0100172.02.01.02\\r  0100172.02.01.02.09\\r   \n",
       "1   100931.01  0100931.01.01\\r  0100931.01.01.01\\r  0100931.01.01.01.03\\r   \n",
       "2   160114.20  0160114.20.01\\r  0160114.20.01.01\\r  0160114.20.01.01.02\\r   \n",
       "3   100208.04  0100208.04.01\\r  0100208.04.01.01\\r  0100208.04.01.01.03\\r   \n",
       "4  1409568.04  1409568.04.01\\r  1409568.04.01.01\\r  1409568.04.01.01.02\\r   \n",
       "\n",
       "       UPM  VIV_SEL  HOGAR  ND_TIPO  TD_TIPO  BPCOD  ...   BP6_2 BP6_3  BP7_1  \\\n",
       "0   100172        2      1        1        1      9  ...      \\r    \\r     \\r   \n",
       "1   100931        1      1        1        1      3  ...      \\r    \\r     \\r   \n",
       "2   160114       20      1        4        4      2  ...      \\r    \\r     \\r   \n",
       "3   100208        4      1        1        2      3  ...      \\r    \\r     \\r   \n",
       "4  1409568        4      1        1        1      2  ...      \\r    \\r     \\r   \n",
       "\n",
       "   FAC_DEL FAC_DEL_AM  DOMINIO  ESTRATO  EST_DIS  UPM_DIS  year  \n",
       "0      364   000364\\r      U\\r        3        2       11  2017  \n",
       "1      182   000182\\r      U\\r        3        2      111  2017  \n",
       "2      211   000211\\r      R\\r        2       11      295  2017  \n",
       "3      147   000147\\r      U\\r        3        2       15  2017  \n",
       "4     1026   001026\\r      U\\r        4      233     6238  2017  \n",
       "\n",
       "[5 rows x 133 columns]"
      ]
     },
     "execution_count": 87,
     "metadata": {},
     "output_type": "execute_result"
    }
   ],
   "source": [
    "file = '../data/2017/tmod_vic_envipe2017/conjunto_de_datos/tmod_vic.csv'\n",
    "df_s17 = pd.read_csv(file, encoding='latin')\n",
    "df_s17['year'] = 2017\n",
    "df_s17.head()"
   ]
  },
  {
   "cell_type": "code",
   "execution_count": 88,
   "metadata": {},
   "outputs": [
    {
     "data": {
      "text/plain": [
       "(44630, 133)"
      ]
     },
     "execution_count": 88,
     "metadata": {},
     "output_type": "execute_result"
    }
   ],
   "source": [
    "df_s17.shape"
   ]
  },
  {
   "cell_type": "code",
   "execution_count": 89,
   "metadata": {},
   "outputs": [],
   "source": [
    "df_s17['ID_VIVIENDA'] = df_s17.UPM + df_s17.VIV_SEL"
   ]
  },
  {
   "cell_type": "markdown",
   "metadata": {},
   "source": [
    "## DICCIONARIO Vivienda - Victimización 1"
   ]
  },
  {
   "cell_type": "code",
   "execution_count": 90,
   "metadata": {},
   "outputs": [
    {
     "data": {
      "text/plain": [
       "ID_VIVIENDA  CVE_ENT  CVE_MUN\n",
       "100009       1        1          1\n",
       "100010       1        1          1\n",
       "100012       1        1          1\n",
       "100013       1        1          1\n",
       "100023       1        1          1\n",
       "100024       1        1          1\n",
       "100025       1        1          1\n",
       "100027       1        1          1\n",
       "100060       1        1          1\n",
       "100061       1        1          1\n",
       "100062       1        1          1\n",
       "100063       1        1          1\n",
       "100064       1        1          1\n",
       "100080       1        1          1\n",
       "100081       1        1          1\n",
       "100082       1        1          1\n",
       "100084       1        1          1\n",
       "100091       1        1          1\n",
       "100092       1        1          1\n",
       "100093       1        1          1\n",
       "100094       1        1          1\n",
       "100095       1        1          1\n",
       "100102       1        1          1\n",
       "100103       1        1          1\n",
       "100104       1        1          2\n",
       "100106       1        1          3\n",
       "100107       1        1          2\n",
       "100108       1        1          2\n",
       "100109       1        1          1\n",
       "100110       1        1          1\n",
       "                                ..\n",
       "3260785      32       18         1\n",
       "3260786      32       18         1\n",
       "3260787      32       18         1\n",
       "3260788      32       18         1\n",
       "3260789      32       18         1\n",
       "3260790      32       18         1\n",
       "3260791      32       18         1\n",
       "3260792      32       18         1\n",
       "3260793      32       18         1\n",
       "3260794      32       18         1\n",
       "3260802      32       58         1\n",
       "3260803      32       58         1\n",
       "3260804      32       58         1\n",
       "3260805      32       58         1\n",
       "3260806      32       58         1\n",
       "3260807      32       58         1\n",
       "3260808      32       58         1\n",
       "3260809      32       58         1\n",
       "3260810      32       58         1\n",
       "3260811      32       58         1\n",
       "3260812      32       58         1\n",
       "3260813      32       58         1\n",
       "3260814      32       58         1\n",
       "3260815      32       58         1\n",
       "3260816      32       58         1\n",
       "3260817      32       58         1\n",
       "3260818      32       58         1\n",
       "3260819      32       58         1\n",
       "3260820      32       58         1\n",
       "3260821      32       58         1\n",
       "Length: 74610, dtype: int64"
      ]
     },
     "execution_count": 90,
     "metadata": {},
     "output_type": "execute_result"
    }
   ],
   "source": [
    "df_v17.groupby(['ID_VIVIENDA', 'CVE_ENT', 'CVE_MUN']).size()"
   ]
  },
  {
   "cell_type": "code",
   "execution_count": 91,
   "metadata": {},
   "outputs": [
    {
     "data": {
      "text/html": [
       "<div>\n",
       "<style scoped>\n",
       "    .dataframe tbody tr th:only-of-type {\n",
       "        vertical-align: middle;\n",
       "    }\n",
       "\n",
       "    .dataframe tbody tr th {\n",
       "        vertical-align: top;\n",
       "    }\n",
       "\n",
       "    .dataframe thead th {\n",
       "        text-align: right;\n",
       "    }\n",
       "</style>\n",
       "<table border=\"1\" class=\"dataframe\">\n",
       "  <thead>\n",
       "    <tr style=\"text-align: right;\">\n",
       "      <th></th>\n",
       "      <th></th>\n",
       "      <th></th>\n",
       "    </tr>\n",
       "    <tr>\n",
       "      <th>ID_VIVIENDA</th>\n",
       "      <th>CVE_ENT</th>\n",
       "      <th>CVE_MUN</th>\n",
       "    </tr>\n",
       "  </thead>\n",
       "  <tbody>\n",
       "    <tr>\n",
       "      <th>100009</th>\n",
       "      <th>1</th>\n",
       "      <th>1</th>\n",
       "    </tr>\n",
       "    <tr>\n",
       "      <th>100010</th>\n",
       "      <th>1</th>\n",
       "      <th>1</th>\n",
       "    </tr>\n",
       "    <tr>\n",
       "      <th>100012</th>\n",
       "      <th>1</th>\n",
       "      <th>1</th>\n",
       "    </tr>\n",
       "    <tr>\n",
       "      <th>100013</th>\n",
       "      <th>1</th>\n",
       "      <th>1</th>\n",
       "    </tr>\n",
       "    <tr>\n",
       "      <th>100023</th>\n",
       "      <th>1</th>\n",
       "      <th>1</th>\n",
       "    </tr>\n",
       "  </tbody>\n",
       "</table>\n",
       "</div>"
      ],
      "text/plain": [
       "Empty DataFrame\n",
       "Columns: []\n",
       "Index: [(100009, 1, 1), (100010, 1, 1), (100012, 1, 1), (100013, 1, 1), (100023, 1, 1)]"
      ]
     },
     "execution_count": 91,
     "metadata": {},
     "output_type": "execute_result"
    }
   ],
   "source": [
    "grouped = pd.DataFrame(df_v17.groupby(['ID_VIVIENDA', 'CVE_ENT', 'CVE_MUN']).size())\n",
    "grouped.drop([0], axis=1, inplace=True)\n",
    "grouped.head()"
   ]
  },
  {
   "cell_type": "code",
   "execution_count": 92,
   "metadata": {},
   "outputs": [
    {
     "data": {
      "text/plain": [
       "Index(['ID_VIVIENDA', 'CVE_ENT', 'CVE_MUN'], dtype='object')"
      ]
     },
     "execution_count": 92,
     "metadata": {},
     "output_type": "execute_result"
    }
   ],
   "source": [
    "grouped.reset_index(inplace=True)\n",
    "grouped.columns"
   ]
  },
  {
   "cell_type": "code",
   "execution_count": 93,
   "metadata": {},
   "outputs": [
    {
     "data": {
      "text/html": [
       "<div>\n",
       "<style scoped>\n",
       "    .dataframe tbody tr th:only-of-type {\n",
       "        vertical-align: middle;\n",
       "    }\n",
       "\n",
       "    .dataframe tbody tr th {\n",
       "        vertical-align: top;\n",
       "    }\n",
       "\n",
       "    .dataframe thead th {\n",
       "        text-align: right;\n",
       "    }\n",
       "</style>\n",
       "<table border=\"1\" class=\"dataframe\">\n",
       "  <thead>\n",
       "    <tr style=\"text-align: right;\">\n",
       "      <th></th>\n",
       "      <th>ID_VIVIENDA</th>\n",
       "      <th>CVE_ENT</th>\n",
       "      <th>CVE_MUN</th>\n",
       "    </tr>\n",
       "  </thead>\n",
       "  <tbody>\n",
       "    <tr>\n",
       "      <th>0</th>\n",
       "      <td>100009</td>\n",
       "      <td>1</td>\n",
       "      <td>1</td>\n",
       "    </tr>\n",
       "    <tr>\n",
       "      <th>1</th>\n",
       "      <td>100010</td>\n",
       "      <td>1</td>\n",
       "      <td>1</td>\n",
       "    </tr>\n",
       "    <tr>\n",
       "      <th>2</th>\n",
       "      <td>100012</td>\n",
       "      <td>1</td>\n",
       "      <td>1</td>\n",
       "    </tr>\n",
       "    <tr>\n",
       "      <th>3</th>\n",
       "      <td>100013</td>\n",
       "      <td>1</td>\n",
       "      <td>1</td>\n",
       "    </tr>\n",
       "    <tr>\n",
       "      <th>4</th>\n",
       "      <td>100023</td>\n",
       "      <td>1</td>\n",
       "      <td>1</td>\n",
       "    </tr>\n",
       "  </tbody>\n",
       "</table>\n",
       "</div>"
      ],
      "text/plain": [
       "   ID_VIVIENDA  CVE_ENT  CVE_MUN\n",
       "0       100009        1        1\n",
       "1       100010        1        1\n",
       "2       100012        1        1\n",
       "3       100013        1        1\n",
       "4       100023        1        1"
      ]
     },
     "execution_count": 93,
     "metadata": {},
     "output_type": "execute_result"
    }
   ],
   "source": [
    "grouped.head()"
   ]
  },
  {
   "cell_type": "code",
   "execution_count": 94,
   "metadata": {},
   "outputs": [
    {
     "data": {
      "text/plain": [
       "dict_keys(['index', 'columns', 'data'])"
      ]
     },
     "execution_count": 94,
     "metadata": {},
     "output_type": "execute_result"
    }
   ],
   "source": [
    "dict_grouped = grouped.to_dict(orient='split')\n",
    "dict_grouped.keys()"
   ]
  },
  {
   "cell_type": "code",
   "execution_count": 95,
   "metadata": {},
   "outputs": [
    {
     "data": {
      "text/plain": [
       "['ID_VIVIENDA', 'CVE_ENT', 'CVE_MUN']"
      ]
     },
     "execution_count": 95,
     "metadata": {},
     "output_type": "execute_result"
    }
   ],
   "source": [
    "dict_grouped.pop('index')\n",
    "dict_grouped.pop('columns')"
   ]
  },
  {
   "cell_type": "code",
   "execution_count": 96,
   "metadata": {},
   "outputs": [
    {
     "data": {
      "text/plain": [
       "[100009, 1, 1]"
      ]
     },
     "execution_count": 96,
     "metadata": {},
     "output_type": "execute_result"
    }
   ],
   "source": [
    "dict_grouped['data'][0]"
   ]
  },
  {
   "cell_type": "code",
   "execution_count": 97,
   "metadata": {},
   "outputs": [
    {
     "data": {
      "text/plain": [
       "100009"
      ]
     },
     "execution_count": 97,
     "metadata": {},
     "output_type": "execute_result"
    }
   ],
   "source": [
    "dict_grouped['data'][0][0]"
   ]
  },
  {
   "cell_type": "code",
   "execution_count": 98,
   "metadata": {},
   "outputs": [
    {
     "data": {
      "text/plain": [
       "array([ 100009,  100010,  100012, ..., 3260819, 3260820, 3260821])"
      ]
     },
     "execution_count": 98,
     "metadata": {},
     "output_type": "execute_result"
    }
   ],
   "source": [
    "array_grouped = grouped.ID_VIVIENDA.unique()\n",
    "array_grouped"
   ]
  },
  {
   "cell_type": "code",
   "execution_count": 99,
   "metadata": {},
   "outputs": [],
   "source": [
    "dict_ID_VIVIENDA_ENT = {}\n",
    "\n",
    "for line in dict_grouped['data']:\n",
    "    #print(line[0], ':', line[1])\n",
    "    dict_ID_VIVIENDA_ENT[line[0]] = line[1]"
   ]
  },
  {
   "cell_type": "code",
   "execution_count": 100,
   "metadata": {},
   "outputs": [],
   "source": [
    "dict_ID_VIVIENDA_MUN = {}\n",
    "\n",
    "for line in dict_grouped['data']:\n",
    "    #print(line[0], ':', line[1])\n",
    "    dict_ID_VIVIENDA_MUN[line[0]] = line[2]"
   ]
  },
  {
   "cell_type": "code",
   "execution_count": 101,
   "metadata": {},
   "outputs": [],
   "source": [
    "df_s17['CVE_ENT'] = df_s17['ID_VIVIENDA'].map(dict_ID_VIVIENDA_ENT)"
   ]
  },
  {
   "cell_type": "code",
   "execution_count": 102,
   "metadata": {},
   "outputs": [
    {
     "data": {
      "text/plain": [
       "array([ 1, 14, 32, 22, 28, 11, 24,  8, 20,  2,  3, 25,  6,  9, 10, 26, 12,\n",
       "       19,  4, 31, 23,  7, 27,  5, 16, 18, 15, 29, 30, 13, 21, 17])"
      ]
     },
     "execution_count": 102,
     "metadata": {},
     "output_type": "execute_result"
    }
   ],
   "source": [
    "df_s17.CVE_ENT.unique()"
   ]
  },
  {
   "cell_type": "code",
   "execution_count": 103,
   "metadata": {},
   "outputs": [],
   "source": [
    "df_s17['CVE_MUN'] = df_s17['ID_VIVIENDA'].map(dict_ID_VIVIENDA_MUN)"
   ]
  },
  {
   "cell_type": "code",
   "execution_count": 104,
   "metadata": {},
   "outputs": [
    {
     "data": {
      "text/plain": [
       "array([  1, 120,   5,  11,  34,  17,  14,  35,   7,   9,  56,  18,   2,\n",
       "        10,  37,   3,   4,   6,  28,  49,  85,  15,  39,  30,   8,  21,\n",
       "        12,  26,  50,  41,  19,  32,  33,  31,  20,  23,  24,  25,  22,\n",
       "        97,  27,  42,  13,  46,  38, 108, 101,  53, 106,  59,  57,  83,\n",
       "        99, 107,  29,  40,  65,  47,  48,  51,  52,  61,  68,  67,  69,\n",
       "        74,  71,  75,  86,  76,  78,  79,  81,  80,  82,  87,  89, 102,\n",
       "        93,  96, 103,  92, 105, 109, 112, 115,  16,  36,  45,  60, 169,\n",
       "       117, 124,  58,  54, 104, 186,  77,  70, 122,  94, 208, 234, 141,\n",
       "       114, 188,  44,  55,  91, 293, 113,  73, 118,  66,  62,  63,  64,\n",
       "        84, 174,  98, 119, 295, 125, 121, 132, 100, 143, 137, 199,  43,\n",
       "       194, 110, 111,  88,  95, 157, 160, 515, 140, 385, 441, 557, 184,\n",
       "       399, 150, 359, 153, 349, 413, 390, 310, 367, 491, 551, 324, 397,\n",
       "       330, 409, 247, 134, 144, 131, 167, 278, 198, 185, 190, 201, 207,\n",
       "       226, 237, 248, 253, 309, 318, 334, 401, 439, 344, 375, 350, 356,\n",
       "       378, 398, 406, 418, 446, 459, 454, 469, 472, 475, 482, 225, 485,\n",
       "       506, 526, 525, 139, 164, 154, 142, 156, 170, 179, 213, 126, 129,\n",
       "       136, 161, 206, 172, 177, 192, 197, 205, 210, 193,  72, 182,  90,\n",
       "       183, 176, 163, 138, 123, 128, 175, 133, 148, 149, 155, 178, 181,\n",
       "       189, 168, 202, 209])"
      ]
     },
     "execution_count": 104,
     "metadata": {},
     "output_type": "execute_result"
    }
   ],
   "source": [
    "df_s17.CVE_MUN.unique()"
   ]
  },
  {
   "cell_type": "code",
   "execution_count": 105,
   "metadata": {},
   "outputs": [
    {
     "data": {
      "text/plain": [
       "(44630, 136)"
      ]
     },
     "execution_count": 105,
     "metadata": {},
     "output_type": "execute_result"
    }
   ],
   "source": [
    "df_s17.shape"
   ]
  },
  {
   "cell_type": "code",
   "execution_count": 106,
   "metadata": {},
   "outputs": [],
   "source": [
    "df_s17.to_csv('../dataframes/victimizacion_2017.csv')"
   ]
  },
  {
   "cell_type": "code",
   "execution_count": null,
   "metadata": {},
   "outputs": [],
   "source": []
  }
 ],
 "metadata": {
  "kernelspec": {
   "display_name": "Python 3",
   "language": "python",
   "name": "python3"
  },
  "language_info": {
   "codemirror_mode": {
    "name": "ipython",
    "version": 3
   },
   "file_extension": ".py",
   "mimetype": "text/x-python",
   "name": "python",
   "nbconvert_exporter": "python",
   "pygments_lexer": "ipython3",
   "version": "3.6.5"
  }
 },
 "nbformat": 4,
 "nbformat_minor": 2
}
