{
 "cells": [
  {
   "cell_type": "markdown",
   "metadata": {},
   "source": [
    "# ENVIPE\n",
    "### Diseño conceptual\n",
    "#### Población objetivo\n",
    "Personas de 18 años y más.\n",
    " \n",
    "#### Cobertura temática\n",
    "* Tipo de vivienda.\n",
    "* Hogares y residentes de la vivienda.\n",
    "* Integrantes del hogar y características sociodemográficas.\n",
    "* Percepción de la seguridad pública.\n",
    "* Desempeño Institucional\n",
    "* Victimización en el hogar\n",
    "* Victimización personal\n",
    "\n",
    "### Diseño Estadístico\n",
    "#### Tamaño de la muestra\n",
    "* 2014: 95 mil 516 viviendas.\n",
    "* 2015: 95 mil 516 viviendas.\n",
    "* 2016: 95 mil 714 viviendas.\n",
    "* 2017: 102 mil 051 viviendas.\n",
    "* Total: 389 mil 193 viviendas.\n",
    "\n",
    "#### Unidad de observación\n",
    "Vivienda particular seleccionada, los hogares, los residentes del hogar y la persona seleccionada en el hogar.\n",
    "\n",
    "#### Unidad de muestreo\n",
    "Viviendas.\n",
    "\n",
    "#### Unidad de análisis\n",
    "La población de 18 y más años de edad, residente en las viviendas particulares seleccionadas en la muestra.\n"
   ]
  },
  {
   "cell_type": "code",
   "execution_count": null,
   "metadata": {},
   "outputs": [],
   "source": []
  }
 ],
 "metadata": {
  "kernelspec": {
   "display_name": "Python 3",
   "language": "python",
   "name": "python3"
  },
  "language_info": {
   "codemirror_mode": {
    "name": "ipython",
    "version": 3
   },
   "file_extension": ".py",
   "mimetype": "text/x-python",
   "name": "python",
   "nbconvert_exporter": "python",
   "pygments_lexer": "ipython3",
   "version": "3.6.4"
  }
 },
 "nbformat": 4,
 "nbformat_minor": 2
}
