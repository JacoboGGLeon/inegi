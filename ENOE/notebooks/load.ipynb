{
 "cells": [
  {
   "cell_type": "markdown",
   "metadata": {},
   "source": [
    "# ENOE\n",
    "### Diseño conceptual\n",
    "#### Población objetivo\n",
    "* Las personas residentes habituales de las viviendas seleccionadas.\n",
    "* Para las características económicas, se captan datos de la población de 12 y más años de edad; aunque los indicadores que se difunden mensual y trimestralmente, se generan para la población de 14 y más años de edad. A partir del cuarto trimestre de 2014, los resultados de la encuesta se refieren a la población de 15 años y más, en cumplimiento de la modificación en la Constitución Política de los Estados Unidos Mexicanos, que elevó la edad legal mínima para trabajar, de los 14 a los 15 años.  \n",
    "#### Cobertura temática\n",
    "* Cobertura temática\n",
    "* Composición por edad y sexo de la población total.\n",
    "* Distribución de la Población Económicamente Activa (PEA) y la Población no Económicamente Activa (PNEA) por edad y sexo.\n",
    "* Población ocupada por posición en el trabajo.\n",
    "* Ocupación principal.\n",
    "* Rama de actividad.\n",
    "* Horas semanales dedicadas al trabajo.\n",
    "* Causas para trabajar una jornada menor a 35 horas.\n",
    "* Ingresos.\n",
    "* Forma de pago.\n",
    "* Prestaciones.\n",
    "* Información estadística sobre la estructura ocupacional del sector agropecuario.\n",
    "\n",
    "### Diseño Estadístico\n",
    "#### Tamaño de la muestra\n",
    "* 2014(trimestral): 120 mil 260 viviendas\n",
    "* 2014(anual): 360 mil 780 viviendas\n",
    "* 2015(trimestral): 120 mil 260 viviendas\n",
    "* 2015(anual): 360 mil 780 viviendas\n",
    "* 2016(trimestral): 120 mil 260 viviendas\n",
    "* 2016(anual): 360 mil 780 viviendas\n",
    "* 2017(trimestral): 120 mil 260 viviendas\n",
    "* 2017(anual): 360 mil 780 viviendas\n",
    "* Total: 1 millón 443 mil 120 viviendas.\n",
    "\n",
    "#### Unidad de observación\n",
    "La vivienda.\n",
    "\n",
    "#### Unidad de muestreo\n",
    "La vivienda particular.\n",
    "\n",
    "#### Unidad de análisis\n",
    "El hogary los residentes del hogar."
   ]
  },
  {
   "cell_type": "code",
   "execution_count": null,
   "metadata": {},
   "outputs": [],
   "source": []
  }
 ],
 "metadata": {
  "kernelspec": {
   "display_name": "Python 3",
   "language": "python",
   "name": "python3"
  },
  "language_info": {
   "codemirror_mode": {
    "name": "ipython",
    "version": 3
   },
   "file_extension": ".py",
   "mimetype": "text/x-python",
   "name": "python",
   "nbconvert_exporter": "python",
   "pygments_lexer": "ipython3",
   "version": "3.6.4"
  }
 },
 "nbformat": 4,
 "nbformat_minor": 2
}
