{
 "cells": [
  {
   "cell_type": "markdown",
   "metadata": {},
   "source": [
    "# Tarea 01\n",
    "## Jacobo Gerardo González León\n",
    "\n",
    "1. ¿Qué posibilidad hay de que una máquina me sustituya?\n",
    "2. El cerebro tiene $86*10^9$ células y pesa $1.4 kg$, \n",
    "    * ¿cuántas células tiene el resto de su cuerpo si pesa $70 kg$?\n",
    "3. ¿Cuál es el porcentaje de su cerebro respecto a su cuerpo?\n",
    "4. ¿Qué pasa si le quito al cuerpo ese porcentaje?\n",
    "5. El ser humano, ¿cuántas secciones y conexiones entre regiones tiene su cerebro?\n",
    "6. Conexiones y regiones comparadas con otros mamíferos.\n",
    "7. ¿Cómo conjetura/establece Roger Penrose el cerebro de una bacteria (paramesio)?\n",
    "\n",
    "\n"
   ]
  },
  {
   "cell_type": "code",
   "execution_count": null,
   "metadata": {},
   "outputs": [],
   "source": []
  }
 ],
 "metadata": {
  "kernelspec": {
   "display_name": "Python 3",
   "language": "python",
   "name": "python3"
  },
  "language_info": {
   "codemirror_mode": {
    "name": "ipython",
    "version": 3
   },
   "file_extension": ".py",
   "mimetype": "text/x-python",
   "name": "python",
   "nbconvert_exporter": "python",
   "pygments_lexer": "ipython3",
   "version": "3.6.5"
  }
 },
 "nbformat": 4,
 "nbformat_minor": 2
}
