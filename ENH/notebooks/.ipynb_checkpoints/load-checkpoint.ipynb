{
 "cells": [
  {
   "cell_type": "markdown",
   "metadata": {},
   "source": [
    "# ENH\n",
    "### Diseño conceptual\n",
    "#### Población objetivo\n",
    "La constituyen los hogares de nacionales o extranjeros, que residen habitualmente en viviendas particulares dentro del territorio nacional.\n",
    "\n",
    "#### Cobertura temática\n",
    "* Información sociodemográfica.\n",
    "* Educación.\n",
    "* Salud.\n",
    "* Vivienda.\n",
    "* Ocupación.\n",
    "* Tecnologías de la información.\n",
    "\n",
    "### Diseño Estadístico\n",
    "#### Tamaño de la muestra\n",
    "* 2014: 64 mil viviendas.\n",
    "* 2015: 64 mil viviendas.\n",
    "* 2016: 64 mil viviendas.\n",
    "* 2017: 64 mil viviendas.\n",
    "* Total: 256 mil viviendas.\n",
    "\n",
    "#### Unidad de observación\n",
    "El hogar.\n",
    "\n",
    "#### Unidad de muestreo\n",
    "La vivienda.\n",
    "\n",
    "#### Unidad de análisis\n",
    "El hogar, la vivienda y los integrantes del hogar."
   ]
  }
 ],
 "metadata": {
  "kernelspec": {
   "display_name": "Python 3",
   "language": "python",
   "name": "python3"
  },
  "language_info": {
   "codemirror_mode": {
    "name": "ipython",
    "version": 3
   },
   "file_extension": ".py",
   "mimetype": "text/x-python",
   "name": "python",
   "nbconvert_exporter": "python",
   "pygments_lexer": "ipython3",
   "version": "3.6.5"
  }
 },
 "nbformat": 4,
 "nbformat_minor": 2
}
